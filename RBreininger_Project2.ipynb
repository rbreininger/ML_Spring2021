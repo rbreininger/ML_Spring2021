{
  "nbformat": 4,
  "nbformat_minor": 0,
  "metadata": {
    "colab": {
      "name": "RBreininger_Project2.ipynb",
      "provenance": []
    },
    "kernelspec": {
      "name": "python3",
      "display_name": "Python 3"
    },
    "language_info": {
      "name": "python"
    }
  },
  "cells": [
    {
      "cell_type": "markdown",
      "metadata": {
        "id": "jgtVOkXHBnJi"
      },
      "source": [
        "## Problem Statement\n",
        "\n",
        "The goal of this project is to see what classifiers work best in predicting heart attacks. The data will be preprocessed and anomaly detection will be used to find outliers and remove them. Then, a compressed version of the dataset, through Principal Component Analysis, to see if data compression will improve performance. Then, each of those data sets will be used in several classification methods to see which one will perform the best for the dataset. Those classifiers will be compared using f1-score, accuracy and run time. The classifiers will also be tuned before a decision is made.\n",
        "\n",
        "Principal Component Analysis (PCA) will be used on the dataset to produce a\n",
        "compressed version of the dataset. The compressed dataset will be compared\n",
        "to the regular dataset to see whether using PCA will improve the performance of the classifiers.\n",
        "The classification methods that will be used are listed below.\n",
        "1. Logistical Regression\n",
        "2. Linear Discriminant Analysis (LDA)\n",
        "3. Quadrantic Discriminant Analysis (QDA)\n",
        "4. Decision Tree Classifier.\n",
        "5. Random Forest Classifier\n",
        "6. XGBoost Classifier\n",
        "\n",
        "The best classifier will be chosen based on F1-score, accuracy and classification run time.\n",
        "\n",
        "https://www.kaggle.com/ronitf/heart-disease-uci"
      ]
    },
    {
      "cell_type": "code",
      "metadata": {
        "id": "YagTcj2aGBqH"
      },
      "source": [
        "import numpy as np # data manipulation\n",
        "import pandas as pd # data manipulation\n",
        "import copy\n",
        "import seaborn as sn\n",
        "import time # for timing\n",
        "import matplotlib.pyplot as plt # plotting\n",
        "import io # for importing data\n",
        "from google.colab import files # upload files\n",
        "\n",
        "from sklearn.preprocessing import scale # preprocessing\n",
        "from sklearn.inspection import permutation_importance # feature importance\n",
        "from sklearn.manifold import TSNE\n",
        "from sklearn.model_selection import train_test_split # to split into training and testing\n",
        "\n",
        "# classifiers\n",
        "from sklearn.linear_model import LogisticRegression # logistic regression\n",
        "from sklearn.linear_model import LogisticRegressionCV # logistic regression cross-validation tuning\n",
        "from sklearn.neighbors import KNeighborsClassifier # knn\n",
        "from sklearn.discriminant_analysis import LinearDiscriminantAnalysis # LDA\n",
        "from sklearn.discriminant_analysis import QuadraticDiscriminantAnalysis # QDA\n",
        "from sklearn.tree import DecisionTreeClassifier # decision tree\n",
        "from sklearn.ensemble import RandomForestClassifier # random forest\n",
        "from xgboost import XGBClassifier # xgboost\n",
        "from sklearn.model_selection import GridSearchCV # hyperparameter tuning method\n",
        "\n",
        "# decision metrics\n",
        "from sklearn.model_selection import cross_val_score\n",
        "from sklearn.metrics import classification_report \n",
        "from sklearn.metrics import confusion_matrix\n",
        "from sklearn.metrics import accuracy_score"
      ],
      "execution_count": null,
      "outputs": []
    },
    {
      "cell_type": "markdown",
      "metadata": {
        "id": "tvdH2v2lBqoB"
      },
      "source": [
        "## Preprocessing\n"
      ]
    },
    {
      "cell_type": "code",
      "metadata": {
        "id": "k3ZpFHP3BRx8",
        "colab": {
          "resources": {
            "http://localhost:8080/nbextensions/google.colab/files.js": {
              "data": "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",
              "ok": true,
              "headers": [
                [
                  "content-type",
                  "application/javascript"
                ]
              ],
              "status": 200,
              "status_text": ""
            }
          },
          "base_uri": "https://localhost:8080/",
          "height": 471
        },
        "outputId": "48677e51-1d65-4cd4-b9c7-52ae52eaaeed"
      },
      "source": [
        "uploaded = files.upload()\n",
        "DATA = pd.read_csv(io.BytesIO(uploaded['heart.csv']))\n",
        "DATA"
      ],
      "execution_count": null,
      "outputs": [
        {
          "output_type": "display_data",
          "data": {
            "text/html": [
              "\n",
              "     <input type=\"file\" id=\"files-f6e019ae-8743-49eb-b53a-9f3af735a70e\" name=\"files[]\" multiple disabled\n",
              "        style=\"border:none\" />\n",
              "     <output id=\"result-f6e019ae-8743-49eb-b53a-9f3af735a70e\">\n",
              "      Upload widget is only available when the cell has been executed in the\n",
              "      current browser session. Please rerun this cell to enable.\n",
              "      </output>\n",
              "      <script src=\"/nbextensions/google.colab/files.js\"></script> "
            ],
            "text/plain": [
              "<IPython.core.display.HTML object>"
            ]
          },
          "metadata": {
            "tags": []
          }
        },
        {
          "output_type": "stream",
          "text": [
            "Saving heart.csv to heart (1).csv\n"
          ],
          "name": "stdout"
        },
        {
          "output_type": "execute_result",
          "data": {
            "text/html": [
              "<div>\n",
              "<style scoped>\n",
              "    .dataframe tbody tr th:only-of-type {\n",
              "        vertical-align: middle;\n",
              "    }\n",
              "\n",
              "    .dataframe tbody tr th {\n",
              "        vertical-align: top;\n",
              "    }\n",
              "\n",
              "    .dataframe thead th {\n",
              "        text-align: right;\n",
              "    }\n",
              "</style>\n",
              "<table border=\"1\" class=\"dataframe\">\n",
              "  <thead>\n",
              "    <tr style=\"text-align: right;\">\n",
              "      <th></th>\n",
              "      <th>age</th>\n",
              "      <th>sex</th>\n",
              "      <th>cp</th>\n",
              "      <th>trestbps</th>\n",
              "      <th>chol</th>\n",
              "      <th>fbs</th>\n",
              "      <th>restecg</th>\n",
              "      <th>thalach</th>\n",
              "      <th>exang</th>\n",
              "      <th>oldpeak</th>\n",
              "      <th>slope</th>\n",
              "      <th>ca</th>\n",
              "      <th>thal</th>\n",
              "      <th>target</th>\n",
              "    </tr>\n",
              "  </thead>\n",
              "  <tbody>\n",
              "    <tr>\n",
              "      <th>0</th>\n",
              "      <td>63</td>\n",
              "      <td>1</td>\n",
              "      <td>3</td>\n",
              "      <td>145</td>\n",
              "      <td>233</td>\n",
              "      <td>1</td>\n",
              "      <td>0</td>\n",
              "      <td>150</td>\n",
              "      <td>0</td>\n",
              "      <td>2.3</td>\n",
              "      <td>0</td>\n",
              "      <td>0</td>\n",
              "      <td>1</td>\n",
              "      <td>1</td>\n",
              "    </tr>\n",
              "    <tr>\n",
              "      <th>1</th>\n",
              "      <td>37</td>\n",
              "      <td>1</td>\n",
              "      <td>2</td>\n",
              "      <td>130</td>\n",
              "      <td>250</td>\n",
              "      <td>0</td>\n",
              "      <td>1</td>\n",
              "      <td>187</td>\n",
              "      <td>0</td>\n",
              "      <td>3.5</td>\n",
              "      <td>0</td>\n",
              "      <td>0</td>\n",
              "      <td>2</td>\n",
              "      <td>1</td>\n",
              "    </tr>\n",
              "    <tr>\n",
              "      <th>2</th>\n",
              "      <td>41</td>\n",
              "      <td>0</td>\n",
              "      <td>1</td>\n",
              "      <td>130</td>\n",
              "      <td>204</td>\n",
              "      <td>0</td>\n",
              "      <td>0</td>\n",
              "      <td>172</td>\n",
              "      <td>0</td>\n",
              "      <td>1.4</td>\n",
              "      <td>2</td>\n",
              "      <td>0</td>\n",
              "      <td>2</td>\n",
              "      <td>1</td>\n",
              "    </tr>\n",
              "    <tr>\n",
              "      <th>3</th>\n",
              "      <td>56</td>\n",
              "      <td>1</td>\n",
              "      <td>1</td>\n",
              "      <td>120</td>\n",
              "      <td>236</td>\n",
              "      <td>0</td>\n",
              "      <td>1</td>\n",
              "      <td>178</td>\n",
              "      <td>0</td>\n",
              "      <td>0.8</td>\n",
              "      <td>2</td>\n",
              "      <td>0</td>\n",
              "      <td>2</td>\n",
              "      <td>1</td>\n",
              "    </tr>\n",
              "    <tr>\n",
              "      <th>4</th>\n",
              "      <td>57</td>\n",
              "      <td>0</td>\n",
              "      <td>0</td>\n",
              "      <td>120</td>\n",
              "      <td>354</td>\n",
              "      <td>0</td>\n",
              "      <td>1</td>\n",
              "      <td>163</td>\n",
              "      <td>1</td>\n",
              "      <td>0.6</td>\n",
              "      <td>2</td>\n",
              "      <td>0</td>\n",
              "      <td>2</td>\n",
              "      <td>1</td>\n",
              "    </tr>\n",
              "    <tr>\n",
              "      <th>...</th>\n",
              "      <td>...</td>\n",
              "      <td>...</td>\n",
              "      <td>...</td>\n",
              "      <td>...</td>\n",
              "      <td>...</td>\n",
              "      <td>...</td>\n",
              "      <td>...</td>\n",
              "      <td>...</td>\n",
              "      <td>...</td>\n",
              "      <td>...</td>\n",
              "      <td>...</td>\n",
              "      <td>...</td>\n",
              "      <td>...</td>\n",
              "      <td>...</td>\n",
              "    </tr>\n",
              "    <tr>\n",
              "      <th>298</th>\n",
              "      <td>57</td>\n",
              "      <td>0</td>\n",
              "      <td>0</td>\n",
              "      <td>140</td>\n",
              "      <td>241</td>\n",
              "      <td>0</td>\n",
              "      <td>1</td>\n",
              "      <td>123</td>\n",
              "      <td>1</td>\n",
              "      <td>0.2</td>\n",
              "      <td>1</td>\n",
              "      <td>0</td>\n",
              "      <td>3</td>\n",
              "      <td>0</td>\n",
              "    </tr>\n",
              "    <tr>\n",
              "      <th>299</th>\n",
              "      <td>45</td>\n",
              "      <td>1</td>\n",
              "      <td>3</td>\n",
              "      <td>110</td>\n",
              "      <td>264</td>\n",
              "      <td>0</td>\n",
              "      <td>1</td>\n",
              "      <td>132</td>\n",
              "      <td>0</td>\n",
              "      <td>1.2</td>\n",
              "      <td>1</td>\n",
              "      <td>0</td>\n",
              "      <td>3</td>\n",
              "      <td>0</td>\n",
              "    </tr>\n",
              "    <tr>\n",
              "      <th>300</th>\n",
              "      <td>68</td>\n",
              "      <td>1</td>\n",
              "      <td>0</td>\n",
              "      <td>144</td>\n",
              "      <td>193</td>\n",
              "      <td>1</td>\n",
              "      <td>1</td>\n",
              "      <td>141</td>\n",
              "      <td>0</td>\n",
              "      <td>3.4</td>\n",
              "      <td>1</td>\n",
              "      <td>2</td>\n",
              "      <td>3</td>\n",
              "      <td>0</td>\n",
              "    </tr>\n",
              "    <tr>\n",
              "      <th>301</th>\n",
              "      <td>57</td>\n",
              "      <td>1</td>\n",
              "      <td>0</td>\n",
              "      <td>130</td>\n",
              "      <td>131</td>\n",
              "      <td>0</td>\n",
              "      <td>1</td>\n",
              "      <td>115</td>\n",
              "      <td>1</td>\n",
              "      <td>1.2</td>\n",
              "      <td>1</td>\n",
              "      <td>1</td>\n",
              "      <td>3</td>\n",
              "      <td>0</td>\n",
              "    </tr>\n",
              "    <tr>\n",
              "      <th>302</th>\n",
              "      <td>57</td>\n",
              "      <td>0</td>\n",
              "      <td>1</td>\n",
              "      <td>130</td>\n",
              "      <td>236</td>\n",
              "      <td>0</td>\n",
              "      <td>0</td>\n",
              "      <td>174</td>\n",
              "      <td>0</td>\n",
              "      <td>0.0</td>\n",
              "      <td>1</td>\n",
              "      <td>1</td>\n",
              "      <td>2</td>\n",
              "      <td>0</td>\n",
              "    </tr>\n",
              "  </tbody>\n",
              "</table>\n",
              "<p>303 rows × 14 columns</p>\n",
              "</div>"
            ],
            "text/plain": [
              "     age  sex  cp  trestbps  chol  fbs  ...  exang  oldpeak  slope  ca  thal  target\n",
              "0     63    1   3       145   233    1  ...      0      2.3      0   0     1       1\n",
              "1     37    1   2       130   250    0  ...      0      3.5      0   0     2       1\n",
              "2     41    0   1       130   204    0  ...      0      1.4      2   0     2       1\n",
              "3     56    1   1       120   236    0  ...      0      0.8      2   0     2       1\n",
              "4     57    0   0       120   354    0  ...      1      0.6      2   0     2       1\n",
              "..   ...  ...  ..       ...   ...  ...  ...    ...      ...    ...  ..   ...     ...\n",
              "298   57    0   0       140   241    0  ...      1      0.2      1   0     3       0\n",
              "299   45    1   3       110   264    0  ...      0      1.2      1   0     3       0\n",
              "300   68    1   0       144   193    1  ...      0      3.4      1   2     3       0\n",
              "301   57    1   0       130   131    0  ...      1      1.2      1   1     3       0\n",
              "302   57    0   1       130   236    0  ...      0      0.0      1   1     2       0\n",
              "\n",
              "[303 rows x 14 columns]"
            ]
          },
          "metadata": {
            "tags": []
          },
          "execution_count": 19
        }
      ]
    },
    {
      "cell_type": "markdown",
      "metadata": {
        "id": "BeDy73zcoluo"
      },
      "source": [
        ""
      ]
    },
    {
      "cell_type": "markdown",
      "metadata": {
        "id": "ykONTy_cGHur"
      },
      "source": [
        ""
      ]
    },
    {
      "cell_type": "code",
      "metadata": {
        "id": "FHSEyapiGIBd"
      },
      "source": [
        "# split up data into \n",
        "X = DATA.drop(['target'], axis=1)\n",
        "names = X.columns\n",
        "X = X.to_numpy()\n",
        "Y = DATA['target'].to_numpy()"
      ],
      "execution_count": null,
      "outputs": []
    },
    {
      "cell_type": "markdown",
      "metadata": {
        "id": "wvsQ4AkMBxEb"
      },
      "source": [
        "## Dimensionality Reduction"
      ]
    },
    {
      "cell_type": "markdown",
      "metadata": {
        "id": "eZFPvJXgqGyc"
      },
      "source": [
        "### Principal Component Analysis"
      ]
    },
    {
      "cell_type": "code",
      "metadata": {
        "id": "6bDM7WIBB1Cl"
      },
      "source": [
        "# Principal component analysis\n",
        "def PCA(X, alpha):        \n",
        "    # find the original dimension and print it\n",
        "    dimension = X.shape[1]\n",
        "    print('The original dimension of the data is', dimension)\n",
        "    \n",
        "    # center D to have mean 0\n",
        "    X -= np.mean(X, axis=0)\n",
        "    \n",
        "    # compute the covariance matrix\n",
        "    Sigma = (1/X.shape[0]) * X.T @ X\n",
        "\n",
        "    # compute the eigenvalues and eigenvectors of D^T D\n",
        "    (eValues, eVectors) = np.linalg.eigh(Sigma)\n",
        "\n",
        "    # compute the total variance\n",
        "    varX = np.sum(eValues)\n",
        "    \n",
        "    # initialize the variance for A to 0\n",
        "    varA = 0.0\n",
        "    \n",
        "    # reverse eValues and eVectors\n",
        "    eValues = np.flip(eValues)\n",
        "    eVectors = np.flip(eVectors, axis=1)\n",
        "\n",
        "    # find the minimum dimension consisting of fraction at least alpha of the total variance\n",
        "    for r in np.arange(0, eValues.shape[0]):\n",
        "        varA += eValues[r]\n",
        "        ratio = varA/varX\n",
        "\n",
        "        if ratio > alpha:\n",
        "            dimension = r + 1\n",
        "            print('The new dimension of the data is', dimension, 'and it explains', ratio, 'of the variance')\n",
        "            break\n",
        "            \n",
        "    # construct the new basis\n",
        "    basis = eVectors[:,:dimension]\n",
        "    \n",
        "    # create the datapoints in the new space\n",
        "    A = X @ basis\n",
        "    \n",
        "    # return points\n",
        "    return A"
      ],
      "execution_count": null,
      "outputs": []
    },
    {
      "cell_type": "code",
      "metadata": {
        "id": "xBkboVEKIYgj",
        "colab": {
          "base_uri": "https://localhost:8080/"
        },
        "outputId": "695c504f-3532-4681-b431-111f43025ee1"
      },
      "source": [
        "start = time.time()\n",
        "\n",
        "# Apply PCA to the data\n",
        "X_pca = PCA(X, 0.8)\n",
        "\n",
        "end = time.time()\n",
        "print('PCA took', end-start, 'seconds')"
      ],
      "execution_count": null,
      "outputs": [
        {
          "output_type": "stream",
          "text": [
            "The original dimension of the data is 13\n",
            "The new dimension of the data is 2 and it explains 0.8979344199759483 of the variance\n",
            "PCA took 0.010816097259521484 seconds\n"
          ],
          "name": "stdout"
        }
      ]
    },
    {
      "cell_type": "markdown",
      "metadata": {
        "id": "L9hxa4JfqIml"
      },
      "source": [
        "### t-distributed Stochastic Neighbor Embedding (tSNE)"
      ]
    },
    {
      "cell_type": "code",
      "metadata": {
        "colab": {
          "base_uri": "https://localhost:8080/"
        },
        "id": "4W8tMyBoqIxJ",
        "outputId": "bb6be877-9e60-443e-b172-6ac238c89ec6"
      },
      "source": [
        "start = time.time()\n",
        "\n",
        "# Apply PCA to the data\n",
        "X_tsne = TSNE(n_components = 3).fit_transform(X)\n",
        "\n",
        "end = time.time()\n",
        "print('tSNE took', end-start, 'seconds')"
      ],
      "execution_count": null,
      "outputs": [
        {
          "output_type": "stream",
          "text": [
            "tSNE took 8.519102334976196 seconds\n"
          ],
          "name": "stdout"
        }
      ]
    },
    {
      "cell_type": "markdown",
      "metadata": {
        "id": "0WKuSlxgB1L_"
      },
      "source": [
        "## Classification Methods and Hyperparameter Tuning"
      ]
    },
    {
      "cell_type": "markdown",
      "metadata": {
        "id": "YACkVAw3B5ak"
      },
      "source": [
        "### Logistic Regression"
      ]
    },
    {
      "cell_type": "code",
      "metadata": {
        "colab": {
          "base_uri": "https://localhost:8080/",
          "height": 560
        },
        "id": "rHXq_ys9tBQv",
        "outputId": "78dd4896-9a09-4b80-c013-99f8fcfa4402"
      },
      "source": [
        "# split the data into training and testing\n",
        "(trainX, testX, trainY, testY) = train_test_split(X, Y, test_size = 0.4, random_state = 0)\n",
        "\n",
        "start = time.time() # time how long it takes to find the model\n",
        "\n",
        "# create model\n",
        "model_lr = LogisticRegression(C = 2, max_iter = 10000)\n",
        "model_lr.fit(trainX, trainY)\n",
        "\n",
        "end = time.time()\n",
        "print('Tuning Logistic Regression Model took', end - start, 'seconds')\n",
        "\n",
        "# predict the labels of the test set\n",
        "predictedY = model_lr.predict(testX)\n",
        "\n",
        "# print quality metrics\n",
        "print('\\nClassification Report:\\n\\n', classification_report(testY, predictedY))\n",
        "print('\\nConfusion Matrix:\\n')\n",
        "\n",
        "sn.heatmap(confusion_matrix(testY, predictedY), annot = True)"
      ],
      "execution_count": null,
      "outputs": [
        {
          "output_type": "stream",
          "text": [
            "Tuning Logistic Regression Model took 0.06998920440673828 seconds\n",
            "\n",
            "Classification Report:\n",
            "\n",
            "               precision    recall  f1-score   support\n",
            "\n",
            "           0       0.85      0.78      0.81        59\n",
            "           1       0.81      0.87      0.84        63\n",
            "\n",
            "    accuracy                           0.83       122\n",
            "   macro avg       0.83      0.83      0.83       122\n",
            "weighted avg       0.83      0.83      0.83       122\n",
            "\n",
            "\n",
            "Confusion Matrix:\n",
            "\n"
          ],
          "name": "stdout"
        },
        {
          "output_type": "execute_result",
          "data": {
            "text/plain": [
              "<matplotlib.axes._subplots.AxesSubplot at 0x7f7d209bad50>"
            ]
          },
          "metadata": {
            "tags": []
          },
          "execution_count": 26
        },
        {
          "output_type": "display_data",
          "data": {
            "image/png": "[encoded data removed]",
            "text/plain": [
              "<Figure size 432x288 with 2 Axes>"
            ]
          },
          "metadata": {
            "tags": [],
            "needs_background": "light"
          }
        }
      ]
    },
    {
      "cell_type": "markdown",
      "metadata": {
        "id": "QemX7mRcxQAn"
      },
      "source": [
        ""
      ]
    },
    {
      "cell_type": "code",
      "metadata": {
        "colab": {
          "base_uri": "https://localhost:8080/",
          "height": 560
        },
        "id": "W3lIBFx_xQPb",
        "outputId": "30bdd66d-ca6f-42fa-bae0-7653ab6f0777"
      },
      "source": [
        "# split the data into training and testing\n",
        "(trainX, testX, trainY, testY) = train_test_split(X_pca, Y, test_size = 0.4, random_state = 0)\n",
        "\n",
        "start = time.time() # time how long it takes to find the model\n",
        "\n",
        "# create model\n",
        "model_lr = LogisticRegression(C = 2, max_iter = 10000)\n",
        "model_lr.fit(trainX, trainY)\n",
        "\n",
        "end = time.time()\n",
        "print('Tuning Logistic Regression Model took', end - start, 'seconds')\n",
        "\n",
        "# predict the labels of the test set\n",
        "predictedY = model_lr.predict(testX)\n",
        "\n",
        "# print quality metrics\n",
        "print('\\nClassification Report:\\n\\n', classification_report(testY, predictedY))\n",
        "print('\\nConfusion Matrix:\\n')\n",
        "\n",
        "sn.heatmap(confusion_matrix(testY, predictedY), annot = True)"
      ],
      "execution_count": null,
      "outputs": [
        {
          "output_type": "stream",
          "text": [
            "Tuning Logistic Regression Model took 0.0071375370025634766 seconds\n",
            "\n",
            "Classification Report:\n",
            "\n",
            "               precision    recall  f1-score   support\n",
            "\n",
            "           0       0.70      0.54      0.61        59\n",
            "           1       0.64      0.78      0.71        63\n",
            "\n",
            "    accuracy                           0.66       122\n",
            "   macro avg       0.67      0.66      0.66       122\n",
            "weighted avg       0.67      0.66      0.66       122\n",
            "\n",
            "\n",
            "Confusion Matrix:\n",
            "\n"
          ],
          "name": "stdout"
        },
        {
          "output_type": "execute_result",
          "data": {
            "text/plain": [
              "<matplotlib.axes._subplots.AxesSubplot at 0x7f7d1b700410>"
            ]
          },
          "metadata": {
            "tags": []
          },
          "execution_count": 27
        },
        {
          "output_type": "display_data",
          "data": {
            "image/png": "[encoded data removed]",
            "text/plain": [
              "<Figure size 432x288 with 2 Axes>"
            ]
          },
          "metadata": {
            "tags": [],
            "needs_background": "light"
          }
        }
      ]
    },
    {
      "cell_type": "markdown",
      "metadata": {
        "id": "RNFMpKpGxQke"
      },
      "source": [
        ""
      ]
    },
    {
      "cell_type": "code",
      "metadata": {
        "colab": {
          "base_uri": "https://localhost:8080/",
          "height": 560
        },
        "id": "EyPEFx-oxQxd",
        "outputId": "c516d5f8-315a-4ae5-f2ba-93db7d63c742"
      },
      "source": [
        "# split the data into training and testing\n",
        "(trainX, testX, trainY, testY) = train_test_split(X_tsne, Y, test_size = 0.4, random_state = 0)\n",
        "\n",
        "start = time.time() # time how long it takes to find the model\n",
        "\n",
        "# create model\n",
        "model_lr = LogisticRegression(C = 2, max_iter = 10000)\n",
        "model_lr.fit(trainX, trainY)\n",
        "\n",
        "end = time.time()\n",
        "print('Tuning Logistic Regression Model took', end - start, 'seconds')\n",
        "\n",
        "# predict the labels of the test set\n",
        "predictedY = model_lr.predict(testX)\n",
        "\n",
        "# print quality metrics\n",
        "print('\\nClassification Report:\\n\\n', classification_report(testY, predictedY))\n",
        "print('\\nConfusion Matrix:\\n')\n",
        "\n",
        "sn.heatmap(confusion_matrix(testY, predictedY), annot = True)"
      ],
      "execution_count": null,
      "outputs": [
        {
          "output_type": "stream",
          "text": [
            "Tuning Logistic Regression Model took 0.010828733444213867 seconds\n",
            "\n",
            "Classification Report:\n",
            "\n",
            "               precision    recall  f1-score   support\n",
            "\n",
            "           0       0.68      0.42      0.52        59\n",
            "           1       0.60      0.81      0.69        63\n",
            "\n",
            "    accuracy                           0.62       122\n",
            "   macro avg       0.64      0.62      0.61       122\n",
            "weighted avg       0.64      0.62      0.61       122\n",
            "\n",
            "\n",
            "Confusion Matrix:\n",
            "\n"
          ],
          "name": "stdout"
        },
        {
          "output_type": "execute_result",
          "data": {
            "text/plain": [
              "<matplotlib.axes._subplots.AxesSubplot at 0x7f7d1b631210>"
            ]
          },
          "metadata": {
            "tags": []
          },
          "execution_count": 28
        },
        {
          "output_type": "display_data",
          "data": {
            "image/png": "[encoded data removed]",
            "text/plain": [
              "<Figure size 432x288 with 2 Axes>"
            ]
          },
          "metadata": {
            "tags": [],
            "needs_background": "light"
          }
        }
      ]
    },
    {
      "cell_type": "markdown",
      "metadata": {
        "id": "416b4QeuxRi4"
      },
      "source": [
        ""
      ]
    },
    {
      "cell_type": "code",
      "metadata": {
        "id": "juFlFCrjB9k-",
        "colab": {
          "base_uri": "https://localhost:8080/",
          "height": 577
        },
        "outputId": "89bf937b-0022-477f-a9d7-61dab81b103e"
      },
      "source": [
        "# hyperparameter values\n",
        "cValues = np.linspace(0.01, 10, 20)\n",
        "\n",
        "# split the data into training and testing\n",
        "(trainX, testX, trainY, testY) = train_test_split(X, Y, test_size = 0.4, random_state = 0)\n",
        "\n",
        "start = time.time() # time how long it takes to find the model\n",
        "\n",
        "# create model\n",
        "model_lr = LogisticRegressionCV(Cs = cValues, cv = 5, max_iter = 10000)\n",
        "model_lr.fit(trainX, trainY)\n",
        "\n",
        "end = time.time()\n",
        "print('Tuning Logistic Regression Model took', end - start, 'seconds')\n",
        "\n",
        "# find best hyperparameter value\n",
        "bestC_original = model_lr.C_\n",
        "print('Grid search chose the C value of', bestC_original)\n",
        "\n",
        "# predict the labels of the test set\n",
        "predictedY = model_lr.predict(testX)\n",
        "\n",
        "# print quality metrics\n",
        "print('\\nClassification Report:\\n\\n', classification_report(testY, predictedY))\n",
        "print('\\nConfusion Matrix:\\n')\n",
        "\n",
        "sn.heatmap(confusion_matrix(testY, predictedY), annot = True)"
      ],
      "execution_count": null,
      "outputs": [
        {
          "output_type": "stream",
          "text": [
            "Tuning Logistic Regression Model took 1.9113693237304688 seconds\n",
            "Grid search chose the C value of [2.11315789]\n",
            "\n",
            "Classification Report:\n",
            "\n",
            "               precision    recall  f1-score   support\n",
            "\n",
            "           0       0.85      0.78      0.81        59\n",
            "           1       0.81      0.87      0.84        63\n",
            "\n",
            "    accuracy                           0.83       122\n",
            "   macro avg       0.83      0.83      0.83       122\n",
            "weighted avg       0.83      0.83      0.83       122\n",
            "\n",
            "\n",
            "Confusion Matrix:\n",
            "\n"
          ],
          "name": "stdout"
        },
        {
          "output_type": "execute_result",
          "data": {
            "text/plain": [
              "<matplotlib.axes._subplots.AxesSubplot at 0x7f7d1b5d1e10>"
            ]
          },
          "metadata": {
            "tags": []
          },
          "execution_count": 29
        },
        {
          "output_type": "display_data",
          "data": {
            "image/png": "[encoded data removed]",
            "text/plain": [
              "<Figure size 432x288 with 2 Axes>"
            ]
          },
          "metadata": {
            "tags": [],
            "needs_background": "light"
          }
        }
      ]
    },
    {
      "cell_type": "markdown",
      "metadata": {
        "id": "0Ip7Fc0CKBH1"
      },
      "source": [
        ""
      ]
    },
    {
      "cell_type": "code",
      "metadata": {
        "id": "7VgRjzarKBQI",
        "colab": {
          "base_uri": "https://localhost:8080/",
          "height": 577
        },
        "outputId": "abffdf41-194d-4daf-8020-73d1fcff37cc"
      },
      "source": [
        "# hyperparameter values\n",
        "cValues = np.linspace(0.01, 10, 20)\n",
        "\n",
        "# split the data into training and testing\n",
        "(trainX, testX, trainY, testY) = train_test_split(X_pca, Y, test_size = 0.4, random_state = 0)\n",
        "\n",
        "start = time.time()\n",
        "\n",
        "# create model\n",
        "model_lr = LogisticRegressionCV(Cs = cValues, cv = 5, max_iter = 10000)\n",
        "model_lr.fit(trainX, trainY)\n",
        "\n",
        "end = time.time()\n",
        "print('Tuning Logistic Regression Model took', end - start, 'seconds')\n",
        "\n",
        "# find best hyperparameter value\n",
        "bestC_pca = model_lr.C_\n",
        "print('Grid search chose the C value of', bestC_pca)\n",
        "\n",
        "# predict the labels of the test set\n",
        "predictedY = model_lr.predict(testX)\n",
        "\n",
        "# print quality metrics\n",
        "print('\\nClassification Report:\\n\\n', classification_report(testY, predictedY))\n",
        "print('\\nConfusion Matrix:\\n')\n",
        "\n",
        "sn.heatmap(confusion_matrix(testY, predictedY), annot = True)"
      ],
      "execution_count": null,
      "outputs": [
        {
          "output_type": "stream",
          "text": [
            "Tuning Logistic Regression Model took 0.18212532997131348 seconds\n",
            "Grid search chose the C value of [0.01]\n",
            "\n",
            "Classification Report:\n",
            "\n",
            "               precision    recall  f1-score   support\n",
            "\n",
            "           0       0.70      0.54      0.61        59\n",
            "           1       0.64      0.78      0.71        63\n",
            "\n",
            "    accuracy                           0.66       122\n",
            "   macro avg       0.67      0.66      0.66       122\n",
            "weighted avg       0.67      0.66      0.66       122\n",
            "\n",
            "\n",
            "Confusion Matrix:\n",
            "\n"
          ],
          "name": "stdout"
        },
        {
          "output_type": "execute_result",
          "data": {
            "text/plain": [
              "<matplotlib.axes._subplots.AxesSubplot at 0x7f7d1b4e2750>"
            ]
          },
          "metadata": {
            "tags": []
          },
          "execution_count": 30
        },
        {
          "output_type": "display_data",
          "data": {
            "image/png": "[encoded data removed]",
            "text/plain": [
              "<Figure size 432x288 with 2 Axes>"
            ]
          },
          "metadata": {
            "tags": [],
            "needs_background": "light"
          }
        }
      ]
    },
    {
      "cell_type": "markdown",
      "metadata": {
        "id": "N9wLC3tPsRpo"
      },
      "source": [
        ""
      ]
    },
    {
      "cell_type": "code",
      "metadata": {
        "colab": {
          "base_uri": "https://localhost:8080/",
          "height": 577
        },
        "id": "XN5YyozasRHS",
        "outputId": "aa2b5a53-1a34-4379-bcf5-a6a4efaf4631"
      },
      "source": [
        "# hyperparameter values\n",
        "cValues = np.linspace(0.01, 10, 20)\n",
        "\n",
        "# split the data into training and testing\n",
        "(trainX, testX, trainY, testY) = train_test_split(X_tsne, Y, test_size = 0.4, random_state = 0)\n",
        "\n",
        "start = time.time()\n",
        "\n",
        "# create model\n",
        "model_lr = LogisticRegressionCV(Cs = cValues, cv = 5, max_iter = 10000)\n",
        "model_lr.fit(trainX, trainY)\n",
        "\n",
        "end = time.time()\n",
        "print('Tuning Logistic Regression Model took', end - start, 'seconds')\n",
        "\n",
        "# find best hyperparameter value\n",
        "bestC_tsne = model_lr.C_\n",
        "print('Grid search chose the C value of', bestC_pca)\n",
        "\n",
        "# predict the labels of the test set\n",
        "predictedY = model_lr.predict(testX)\n",
        "\n",
        "# print quality metrics\n",
        "print('\\nClassification Report:\\n\\n', classification_report(testY, predictedY))\n",
        "print('\\nConfusion Matrix:\\n')\n",
        "\n",
        "sn.heatmap(confusion_matrix(testY, predictedY), annot = True)"
      ],
      "execution_count": null,
      "outputs": [
        {
          "output_type": "stream",
          "text": [
            "Tuning Logistic Regression Model took 0.16268205642700195 seconds\n",
            "Grid search chose the C value of [0.01]\n",
            "\n",
            "Classification Report:\n",
            "\n",
            "               precision    recall  f1-score   support\n",
            "\n",
            "           0       0.68      0.42      0.52        59\n",
            "           1       0.60      0.81      0.69        63\n",
            "\n",
            "    accuracy                           0.62       122\n",
            "   macro avg       0.64      0.62      0.61       122\n",
            "weighted avg       0.64      0.62      0.61       122\n",
            "\n",
            "\n",
            "Confusion Matrix:\n",
            "\n"
          ],
          "name": "stdout"
        },
        {
          "output_type": "execute_result",
          "data": {
            "text/plain": [
              "<matplotlib.axes._subplots.AxesSubplot at 0x7f7d1b54fa90>"
            ]
          },
          "metadata": {
            "tags": []
          },
          "execution_count": 31
        },
        {
          "output_type": "display_data",
          "data": {
            "image/png": "[encoded data removed]",
            "text/plain": [
              "<Figure size 432x288 with 2 Axes>"
            ]
          },
          "metadata": {
            "tags": [],
            "needs_background": "light"
          }
        }
      ]
    },
    {
      "cell_type": "markdown",
      "metadata": {
        "id": "g3VUIkbSt2oo"
      },
      "source": [
        "### k-Nearest Neighbor Classifier"
      ]
    },
    {
      "cell_type": "code",
      "metadata": {
        "colab": {
          "base_uri": "https://localhost:8080/",
          "height": 543
        },
        "id": "qmjioipEx8Cs",
        "outputId": "90a84086-d1f8-46d2-f56d-0143e7287f11"
      },
      "source": [
        "# split the data into training and testing\n",
        "(trainX, testX, trainY, testY) = train_test_split(X, Y, test_size = 0.4, random_state = 0)\n",
        "\n",
        "# build the knn classifier\n",
        "model_knn = KNeighborsClassifier(3)\n",
        "\n",
        "# fit the knn classifier to the training data\n",
        "model_knn.fit(trainX, trainY)\n",
        "\n",
        "# predict the labels of the test set\n",
        "predictedY = model_knn.predict(testX)\n",
        "\n",
        "# print quality metrics\n",
        "print('\\nClassification Report:\\n\\n', classification_report(testY, predictedY))\n",
        "print('\\nTest Confusion Matrix:\\n')\n",
        "sn.heatmap(confusion_matrix(testY, predictedY))"
      ],
      "execution_count": null,
      "outputs": [
        {
          "output_type": "stream",
          "text": [
            "\n",
            "Classification Report:\n",
            "\n",
            "               precision    recall  f1-score   support\n",
            "\n",
            "           0       0.65      0.61      0.63        59\n",
            "           1       0.66      0.70      0.68        63\n",
            "\n",
            "    accuracy                           0.66       122\n",
            "   macro avg       0.66      0.65      0.65       122\n",
            "weighted avg       0.66      0.66      0.65       122\n",
            "\n",
            "\n",
            "Test Confusion Matrix:\n",
            "\n"
          ],
          "name": "stdout"
        },
        {
          "output_type": "execute_result",
          "data": {
            "text/plain": [
              "<matplotlib.axes._subplots.AxesSubplot at 0x7f7d1b3af4d0>"
            ]
          },
          "metadata": {
            "tags": []
          },
          "execution_count": 33
        },
        {
          "output_type": "display_data",
          "data": {
            "image/png": "[encoded data removed]",
            "text/plain": [
              "<Figure size 432x288 with 2 Axes>"
            ]
          },
          "metadata": {
            "tags": [],
            "needs_background": "light"
          }
        }
      ]
    },
    {
      "cell_type": "markdown",
      "metadata": {
        "id": "rB_zdB6OyRsR"
      },
      "source": [
        ""
      ]
    },
    {
      "cell_type": "code",
      "metadata": {
        "colab": {
          "base_uri": "https://localhost:8080/",
          "height": 543
        },
        "id": "-iIWWhT5ySIt",
        "outputId": "342c3a6d-543f-4b92-b478-52ac1b599046"
      },
      "source": [
        "# split the data into training and testing\n",
        "(trainX, testX, trainY, testY) = train_test_split(X_pca, Y, test_size = 0.4, random_state = 0)\n",
        "\n",
        "# build the knn classifier\n",
        "model_knn = KNeighborsClassifier(3)\n",
        "\n",
        "# fit the knn classifier to the training data\n",
        "model_knn.fit(trainX, trainY)\n",
        "\n",
        "# predict the labels of the test set\n",
        "predictedY = model_knn.predict(testX)\n",
        "\n",
        "# print quality metrics\n",
        "print('\\nClassification Report:\\n\\n', classification_report(testY, predictedY))\n",
        "print('\\nTest Confusion Matrix:\\n')\n",
        "sn.heatmap(confusion_matrix(testY, predictedY))"
      ],
      "execution_count": null,
      "outputs": [
        {
          "output_type": "stream",
          "text": [
            "\n",
            "Classification Report:\n",
            "\n",
            "               precision    recall  f1-score   support\n",
            "\n",
            "           0       0.62      0.58      0.60        59\n",
            "           1       0.63      0.67      0.65        63\n",
            "\n",
            "    accuracy                           0.62       122\n",
            "   macro avg       0.62      0.62      0.62       122\n",
            "weighted avg       0.62      0.62      0.62       122\n",
            "\n",
            "\n",
            "Test Confusion Matrix:\n",
            "\n"
          ],
          "name": "stdout"
        },
        {
          "output_type": "execute_result",
          "data": {
            "text/plain": [
              "<matplotlib.axes._subplots.AxesSubplot at 0x7f7d1b41d310>"
            ]
          },
          "metadata": {
            "tags": []
          },
          "execution_count": 34
        },
        {
          "output_type": "display_data",
          "data": {
            "image/png": "[encoded data removed]",
            "text/plain": [
              "<Figure size 432x288 with 2 Axes>"
            ]
          },
          "metadata": {
            "tags": [],
            "needs_background": "light"
          }
        }
      ]
    },
    {
      "cell_type": "markdown",
      "metadata": {
        "id": "lzy272ioySt0"
      },
      "source": [
        ""
      ]
    },
    {
      "cell_type": "code",
      "metadata": {
        "colab": {
          "base_uri": "https://localhost:8080/",
          "height": 547
        },
        "id": "qT0QTrugyS3c",
        "outputId": "bc5b453b-ea2f-47da-de21-d817c60c81d0"
      },
      "source": [
        "# split the data into training and testing\n",
        "(trainX, testX, trainY, testY) = train_test_split(X_tsne, Y, test_size = 0.4, random_state = 0)\n",
        "\n",
        "# build the knn classifier\n",
        "model_knn = KNeighborsClassifier(3)\n",
        "\n",
        "# fit the knn classifier to the training data\n",
        "model_knn.fit(trainX, trainY)\n",
        "\n",
        "# predict the labels of the test set\n",
        "predictedY = model_knn.predict(testX)\n",
        "\n",
        "# print quality metrics\n",
        "print('\\nClassification Report:\\n\\n', classification_report(testY, predictedY))\n",
        "print('\\nTest Confusion Matrix:\\n')\n",
        "sn.heatmap(confusion_matrix(testY, predictedY))"
      ],
      "execution_count": null,
      "outputs": [
        {
          "output_type": "stream",
          "text": [
            "\n",
            "Classification Report:\n",
            "\n",
            "               precision    recall  f1-score   support\n",
            "\n",
            "           0       0.53      0.51      0.52        59\n",
            "           1       0.55      0.57      0.56        63\n",
            "\n",
            "    accuracy                           0.54       122\n",
            "   macro avg       0.54      0.54      0.54       122\n",
            "weighted avg       0.54      0.54      0.54       122\n",
            "\n",
            "\n",
            "Test Confusion Matrix:\n",
            "\n"
          ],
          "name": "stdout"
        },
        {
          "output_type": "execute_result",
          "data": {
            "text/plain": [
              "<matplotlib.axes._subplots.AxesSubplot at 0x7f7d1b28d050>"
            ]
          },
          "metadata": {
            "tags": []
          },
          "execution_count": 35
        },
        {
          "output_type": "display_data",
          "data": {
            "image/png": "[encoded data removed]",
            "text/plain": [
              "<Figure size 432x288 with 2 Axes>"
            ]
          },
          "metadata": {
            "tags": [],
            "needs_background": "light"
          }
        }
      ]
    },
    {
      "cell_type": "markdown",
      "metadata": {
        "id": "iMCrW3Kxx8M1"
      },
      "source": [
        ""
      ]
    },
    {
      "cell_type": "code",
      "metadata": {
        "colab": {
          "base_uri": "https://localhost:8080/",
          "height": 751
        },
        "id": "DjtpV-5Mt28I",
        "outputId": "ddf1b047-eed1-49c5-9fbe-cf6fa0d36e13"
      },
      "source": [
        "bestAccuracy_o = [0, 0]\n",
        "\n",
        "# split the data into training and testing\n",
        "(trainX, testX, trainY, testY) = train_test_split(X, Y, test_size = 0.4, random_state = 0)\n",
        "\n",
        "for k in range(1, 11):\n",
        "    # build the knn classifier\n",
        "    model_knn = KNeighborsClassifier(k)\n",
        "\n",
        "    # fit the knn classifier to the training data\n",
        "    model_knn.fit(trainX, trainY)\n",
        "    \n",
        "    mean_cv_scores = np.mean(cross_val_score(model_knn, trainX, trainY, cv = 5))\n",
        "\n",
        "    # print quality metrics\n",
        "    print('Mean CV accuracy for', k, 'neighbors is', mean_cv_scores)\n",
        "    \n",
        "    # save the hyperparameter k if better than found before\n",
        "    if mean_cv_scores > bestAccuracy_o[0]:\n",
        "        bestAccuracy_o = [mean_cv_scores, k]\n",
        "        \n",
        "print('\\nThe best dev accuracy', bestAccuracy_o[0], 'occured with', bestAccuracy_o[1], 'neghbors')\n",
        "        \n",
        "# build the knn classifier\n",
        "model_knn = KNeighborsClassifier(bestAccuracy_o[1])\n",
        "\n",
        "# fit the knn classifier to the training data\n",
        "model_knn.fit(trainX, trainY)\n",
        "\n",
        "# predict the labels of the test set\n",
        "predictedY = model_knn.predict(testX)\n",
        "\n",
        "# print quality metrics\n",
        "print('\\nTest Classification Report for', bestAccuracy_o[0], 'neighbors:\\n\\n', classification_report(testY, predictedY))\n",
        "print('\\nTest Confusion Matrix:\\n')\n",
        "\n",
        "sn.heatmap(confusion_matrix(testY, predictedY))"
      ],
      "execution_count": null,
      "outputs": [
        {
          "output_type": "stream",
          "text": [
            "Mean CV accuracy for 1 neighbors is 0.5638138138138139\n",
            "Mean CV accuracy for 2 neighbors is 0.5632132132132133\n",
            "Mean CV accuracy for 3 neighbors is 0.6241741741741741\n",
            "Mean CV accuracy for 4 neighbors is 0.5968468468468469\n",
            "Mean CV accuracy for 5 neighbors is 0.6078078078078077\n",
            "Mean CV accuracy for 6 neighbors is 0.6246246246246246\n",
            "Mean CV accuracy for 7 neighbors is 0.6133633633633633\n",
            "Mean CV accuracy for 8 neighbors is 0.6243243243243243\n",
            "Mean CV accuracy for 9 neighbors is 0.6076576576576576\n",
            "Mean CV accuracy for 10 neighbors is 0.6132132132132133\n",
            "\n",
            "The best dev accuracy 0.6246246246246246 occured with 6 neghbors\n",
            "\n",
            "Test Classification Report for 0.6246246246246246 neighbors:\n",
            "\n",
            "               precision    recall  f1-score   support\n",
            "\n",
            "           0       0.68      0.68      0.68        59\n",
            "           1       0.70      0.70      0.70        63\n",
            "\n",
            "    accuracy                           0.69       122\n",
            "   macro avg       0.69      0.69      0.69       122\n",
            "weighted avg       0.69      0.69      0.69       122\n",
            "\n",
            "\n",
            "Test Confusion Matrix:\n",
            "\n"
          ],
          "name": "stdout"
        },
        {
          "output_type": "execute_result",
          "data": {
            "text/plain": [
              "<matplotlib.axes._subplots.AxesSubplot at 0x7f7d20a567d0>"
            ]
          },
          "metadata": {
            "tags": []
          },
          "execution_count": 37
        },
        {
          "output_type": "display_data",
          "data": {
            "image/png": "[encoded data removed]",
            "text/plain": [
              "<Figure size 432x288 with 2 Axes>"
            ]
          },
          "metadata": {
            "tags": [],
            "needs_background": "light"
          }
        }
      ]
    },
    {
      "cell_type": "markdown",
      "metadata": {
        "id": "WVN6AeRGt3Kq"
      },
      "source": [
        ""
      ]
    },
    {
      "cell_type": "code",
      "metadata": {
        "colab": {
          "base_uri": "https://localhost:8080/",
          "height": 755
        },
        "id": "2jSd3IZ7t3ac",
        "outputId": "acda25ce-b37d-48f0-9016-46ea84d86970"
      },
      "source": [
        "bestAccuracy_pca = [0, 0]\n",
        "\n",
        "# split the data into training and testing\n",
        "(trainX, testX, trainY, testY) = train_test_split(X_pca, Y, test_size = 0.4, random_state = 0)\n",
        "\n",
        "for k in range(1, 11):\n",
        "    # build the knn classifier\n",
        "    model_knn = KNeighborsClassifier(k)\n",
        "\n",
        "    # fit the knn classifier to the training data\n",
        "    model_knn.fit(trainX, trainY)\n",
        "    \n",
        "    mean_cv_scores = np.mean(cross_val_score(model_knn, trainX, trainY, cv = 5))\n",
        "\n",
        "    # print quality metrics\n",
        "    print('Mean CV accuracy for', k, 'neighbors is', mean_cv_scores)\n",
        "    \n",
        "    # save the hyperparameter k if better than found before\n",
        "    if mean_cv_scores > bestAccuracy_pca[0]:\n",
        "        bestAccuracy_pca = [mean_cv_scores, k]\n",
        "        \n",
        "print('\\nThe best dev accuracy', bestAccuracy_pca[0], 'occured with', bestAccuracy_pca[1], 'neghbors')\n",
        "        \n",
        "# build the knn classifier\n",
        "model_knn = KNeighborsClassifier(bestAccuracy_pca[1])\n",
        "\n",
        "# fit the knn classifier to the training data\n",
        "model_knn.fit(trainX, trainY)\n",
        "\n",
        "# predict the labels of the test set\n",
        "predictedY = model_knn.predict(testX)\n",
        "\n",
        "# print quality metrics\n",
        "print('\\nTest Classification Report for', bestAccuracy_pca[0], 'neighbors:\\n\\n', classification_report(testY, predictedY))\n",
        "print('\\nTest Confusion Matrix:\\n')\n",
        "\n",
        "sn.heatmap(confusion_matrix(testY, predictedY))"
      ],
      "execution_count": null,
      "outputs": [
        {
          "output_type": "stream",
          "text": [
            "Mean CV accuracy for 1 neighbors is 0.508108108108108\n",
            "Mean CV accuracy for 2 neighbors is 0.5472972972972974\n",
            "Mean CV accuracy for 3 neighbors is 0.5857357357357358\n",
            "Mean CV accuracy for 4 neighbors is 0.5752252252252252\n",
            "Mean CV accuracy for 5 neighbors is 0.6028528528528528\n",
            "Mean CV accuracy for 6 neighbors is 0.6028528528528528\n",
            "Mean CV accuracy for 7 neighbors is 0.5971471471471472\n",
            "Mean CV accuracy for 8 neighbors is 0.6081081081081081\n",
            "Mean CV accuracy for 9 neighbors is 0.6136636636636638\n",
            "Mean CV accuracy for 10 neighbors is 0.6135135135135135\n",
            "\n",
            "The best dev accuracy 0.6136636636636638 occured with 9 neghbors\n",
            "\n",
            "Test Classification Report for 0.6136636636636638 neighbors:\n",
            "\n",
            "               precision    recall  f1-score   support\n",
            "\n",
            "           0       0.65      0.58      0.61        59\n",
            "           1       0.64      0.71      0.68        63\n",
            "\n",
            "    accuracy                           0.65       122\n",
            "   macro avg       0.65      0.65      0.64       122\n",
            "weighted avg       0.65      0.65      0.65       122\n",
            "\n",
            "\n",
            "Test Confusion Matrix:\n",
            "\n"
          ],
          "name": "stdout"
        },
        {
          "output_type": "execute_result",
          "data": {
            "text/plain": [
              "<matplotlib.axes._subplots.AxesSubplot at 0x7f7d1b1573d0>"
            ]
          },
          "metadata": {
            "tags": []
          },
          "execution_count": 38
        },
        {
          "output_type": "display_data",
          "data": {
            "image/png": "[encoded data removed]",
            "text/plain": [
              "<Figure size 432x288 with 2 Axes>"
            ]
          },
          "metadata": {
            "tags": [],
            "needs_background": "light"
          }
        }
      ]
    },
    {
      "cell_type": "markdown",
      "metadata": {
        "id": "ZhMqQ3xByBY5"
      },
      "source": [
        ""
      ]
    },
    {
      "cell_type": "code",
      "metadata": {
        "colab": {
          "base_uri": "https://localhost:8080/",
          "height": 755
        },
        "id": "tSgOcWkcyBiG",
        "outputId": "6287f6b7-b8ae-4fb9-c656-420b8b0e7200"
      },
      "source": [
        "bestAccuracy_tsne = [0, 0]\n",
        "\n",
        "# split the data into training and testing\n",
        "(trainX, testX, trainY, testY) = train_test_split(X_tsne, Y, test_size = 0.4, random_state = 0)\n",
        "\n",
        "for k in range(1, 11):\n",
        "    # build the knn classifier\n",
        "    model_knn = KNeighborsClassifier(k)\n",
        "\n",
        "    # fit the knn classifier to the training data\n",
        "    model_knn.fit(trainX, trainY)\n",
        "    \n",
        "    mean_cv_scores = np.mean(cross_val_score(model_knn, trainX, trainY, cv = 5))\n",
        "\n",
        "    # print quality metrics\n",
        "    print('Mean CV accuracy for', k, 'neighbors is', mean_cv_scores)\n",
        "    \n",
        "    # save the hyperparameter k if better than found before\n",
        "    if mean_cv_scores > bestAccuracy_tsne[0]:\n",
        "        bestAccuracy_tsne = [mean_cv_scores, k]\n",
        "        \n",
        "print('\\nThe best dev accuracy', bestAccuracy_tsne[0], 'occured with', bestAccuracy_tsne[1], 'neghbors')\n",
        "        \n",
        "# build the knn classifier\n",
        "model_knn = KNeighborsClassifier(bestAccuracy_tsne[1])\n",
        "\n",
        "# fit the knn classifier to the training data\n",
        "model_knn.fit(trainX, trainY)\n",
        "\n",
        "# predict the labels of the test set\n",
        "predictedY = model_knn.predict(testX)\n",
        "\n",
        "# print quality metrics\n",
        "print('\\nTest Classification Report for', bestAccuracy_tsne[0], 'neighbors:\\n\\n', classification_report(testY, predictedY))\n",
        "print('\\nTest Confusion Matrix:\\n')\n",
        "\n",
        "sn.heatmap(confusion_matrix(testY, predictedY))"
      ],
      "execution_count": null,
      "outputs": [
        {
          "output_type": "stream",
          "text": [
            "Mean CV accuracy for 1 neighbors is 0.6078078078078077\n",
            "Mean CV accuracy for 2 neighbors is 0.5247747747747747\n",
            "Mean CV accuracy for 3 neighbors is 0.5693693693693694\n",
            "Mean CV accuracy for 4 neighbors is 0.5638138138138138\n",
            "Mean CV accuracy for 5 neighbors is 0.590990990990991\n",
            "Mean CV accuracy for 6 neighbors is 0.5692192192192193\n",
            "Mean CV accuracy for 7 neighbors is 0.5744744744744745\n",
            "Mean CV accuracy for 8 neighbors is 0.5801801801801801\n",
            "Mean CV accuracy for 9 neighbors is 0.5636636636636637\n",
            "Mean CV accuracy for 10 neighbors is 0.5803303303303303\n",
            "\n",
            "The best dev accuracy 0.6078078078078077 occured with 1 neghbors\n",
            "\n",
            "Test Classification Report for 0.6078078078078077 neighbors:\n",
            "\n",
            "               precision    recall  f1-score   support\n",
            "\n",
            "           0       0.55      0.56      0.55        59\n",
            "           1       0.58      0.57      0.58        63\n",
            "\n",
            "    accuracy                           0.57       122\n",
            "   macro avg       0.57      0.57      0.57       122\n",
            "weighted avg       0.57      0.57      0.57       122\n",
            "\n",
            "\n",
            "Test Confusion Matrix:\n",
            "\n"
          ],
          "name": "stdout"
        },
        {
          "output_type": "execute_result",
          "data": {
            "text/plain": [
              "<matplotlib.axes._subplots.AxesSubplot at 0x7f7d1b931c50>"
            ]
          },
          "metadata": {
            "tags": []
          },
          "execution_count": 39
        },
        {
          "output_type": "display_data",
          "data": {
            "image/png": "[encoded data removed]",
            "text/plain": [
              "<Figure size 432x288 with 2 Axes>"
            ]
          },
          "metadata": {
            "tags": [],
            "needs_background": "light"
          }
        }
      ]
    },
    {
      "cell_type": "markdown",
      "metadata": {
        "id": "IWFzL9DTB9tv"
      },
      "source": [
        "### Linear Discriminant Analysis (LDA)"
      ]
    },
    {
      "cell_type": "code",
      "metadata": {
        "id": "-rSPMx_3CDBa",
        "colab": {
          "base_uri": "https://localhost:8080/",
          "height": 560
        },
        "outputId": "dae17b97-ebc2-4178-c4db-3841dfe638c3"
      },
      "source": [
        "# split the data into training and testing\n",
        "(trainX, testX, trainY, testY) = train_test_split(X, Y, test_size = 0.4, random_state = 0)\n",
        "\n",
        "start = time.time()\n",
        "\n",
        "# build the LDA classifier\n",
        "model_lda = LinearDiscriminantAnalysis()\n",
        "\n",
        "# fit the LDA classifier to the training data\n",
        "model_lda.fit(trainX, trainY)\n",
        "\n",
        "end = time.time()\n",
        "print('Running LDA took', end - start, 'seconds')\n",
        "\n",
        "# predict the labels of the test set\n",
        "predictedY = model_lda.predict(testX)\n",
        "\n",
        "# print quality metrics\n",
        "print('\\nClassification Report:\\n\\n', classification_report(testY, predictedY))\n",
        "print('\\nConfusion Matrix:\\n')\n",
        "sn.heatmap(confusion_matrix(testY, predictedY), annot = True)"
      ],
      "execution_count": null,
      "outputs": [
        {
          "output_type": "stream",
          "text": [
            "Running LDA took 0.002537250518798828 seconds\n",
            "\n",
            "Classification Report:\n",
            "\n",
            "               precision    recall  f1-score   support\n",
            "\n",
            "           0       0.85      0.69      0.77        59\n",
            "           1       0.76      0.89      0.82        63\n",
            "\n",
            "    accuracy                           0.80       122\n",
            "   macro avg       0.81      0.79      0.79       122\n",
            "weighted avg       0.80      0.80      0.79       122\n",
            "\n",
            "\n",
            "Confusion Matrix:\n",
            "\n"
          ],
          "name": "stdout"
        },
        {
          "output_type": "execute_result",
          "data": {
            "text/plain": [
              "<matplotlib.axes._subplots.AxesSubplot at 0x7f7d1a9c0290>"
            ]
          },
          "metadata": {
            "tags": []
          },
          "execution_count": 48
        },
        {
          "output_type": "display_data",
          "data": {
            "image/png": "[encoded data removed]",
            "text/plain": [
              "<Figure size 432x288 with 2 Axes>"
            ]
          },
          "metadata": {
            "tags": [],
            "needs_background": "light"
          }
        }
      ]
    },
    {
      "cell_type": "markdown",
      "metadata": {
        "id": "g6lQ9Hs4KAJd"
      },
      "source": [
        ""
      ]
    },
    {
      "cell_type": "code",
      "metadata": {
        "id": "xpZH7VMBKASF",
        "colab": {
          "base_uri": "https://localhost:8080/",
          "height": 560
        },
        "outputId": "57e3d944-4d78-499d-b5cf-2601ca0fb50c"
      },
      "source": [
        "# split the data into training and testing\n",
        "(trainX, testX, trainY, testY) = train_test_split(X_pca, Y, test_size = 0.4, random_state = 0)\n",
        "\n",
        "start = time.time()\n",
        "\n",
        "# build the LDA classifier\n",
        "model_lda = LinearDiscriminantAnalysis()\n",
        "\n",
        "# fit the LDA classifier to the training data\n",
        "model_lda.fit(trainX, trainY)\n",
        "\n",
        "end = time.time()\n",
        "print('Running LDA took', end - start, 'seconds')\n",
        "\n",
        "# find the mean cross-validation accuracy\n",
        "mean_cv_scores = np.mean(cross_val_score(model_lda, trainX, trainY, cv = 5))\n",
        "\n",
        "# predict the labels of the test set\n",
        "predictedY = model_lda.predict(testX)\n",
        "\n",
        "# print quality metrics\n",
        "print('\\nClassification Report:\\n\\n', classification_report(testY, predictedY))\n",
        "print('\\nConfusion Matrix:\\n')\n",
        "sn.heatmap(confusion_matrix(testY, predictedY), annot = True)"
      ],
      "execution_count": null,
      "outputs": [
        {
          "output_type": "stream",
          "text": [
            "Running LDA took 0.0015387535095214844 seconds\n",
            "\n",
            "Classification Report:\n",
            "\n",
            "               precision    recall  f1-score   support\n",
            "\n",
            "           0       0.69      0.53      0.60        59\n",
            "           1       0.64      0.78      0.70        63\n",
            "\n",
            "    accuracy                           0.66       122\n",
            "   macro avg       0.66      0.65      0.65       122\n",
            "weighted avg       0.66      0.66      0.65       122\n",
            "\n",
            "\n",
            "Confusion Matrix:\n",
            "\n"
          ],
          "name": "stdout"
        },
        {
          "output_type": "execute_result",
          "data": {
            "text/plain": [
              "<matplotlib.axes._subplots.AxesSubplot at 0x7f7d1a8fa390>"
            ]
          },
          "metadata": {
            "tags": []
          },
          "execution_count": 49
        },
        {
          "output_type": "display_data",
          "data": {
            "image/png": "[encoded data removed]",
            "text/plain": [
              "<Figure size 432x288 with 2 Axes>"
            ]
          },
          "metadata": {
            "tags": [],
            "needs_background": "light"
          }
        }
      ]
    },
    {
      "cell_type": "markdown",
      "metadata": {
        "id": "PG84PVeNykJO"
      },
      "source": [
        ""
      ]
    },
    {
      "cell_type": "code",
      "metadata": {
        "colab": {
          "base_uri": "https://localhost:8080/",
          "height": 560
        },
        "id": "xBRZ4cO5ykSP",
        "outputId": "9bc81e41-999b-476e-9dfc-5a15a2377c3c"
      },
      "source": [
        "# split the data into training and testing\n",
        "(trainX, testX, trainY, testY) = train_test_split(X_tsne, Y, test_size = 0.4, random_state = 0)\n",
        "\n",
        "start = time.time()\n",
        "\n",
        "# build the LDA classifier\n",
        "model_lda = LinearDiscriminantAnalysis()\n",
        "\n",
        "# fit the LDA classifier to the training data\n",
        "model_lda.fit(trainX, trainY)\n",
        "\n",
        "end = time.time()\n",
        "print('Running LDA took', end - start, 'seconds')\n",
        "\n",
        "# find the mean cross-validation accuracy\n",
        "mean_cv_scores = np.mean(cross_val_score(model_lda, trainX, trainY, cv = 5))\n",
        "\n",
        "# predict the labels of the test set\n",
        "predictedY = model_lda.predict(testX)\n",
        "\n",
        "# print quality metrics\n",
        "print('\\nClassification Report:\\n\\n', classification_report(testY, predictedY))\n",
        "print('\\nConfusion Matrix:\\n')\n",
        "sn.heatmap(confusion_matrix(testY, predictedY), annot = True)"
      ],
      "execution_count": null,
      "outputs": [
        {
          "output_type": "stream",
          "text": [
            "Running LDA took 0.002650022506713867 seconds\n",
            "\n",
            "Classification Report:\n",
            "\n",
            "               precision    recall  f1-score   support\n",
            "\n",
            "           0       0.66      0.39      0.49        59\n",
            "           1       0.59      0.81      0.68        63\n",
            "\n",
            "    accuracy                           0.61       122\n",
            "   macro avg       0.62      0.60      0.58       122\n",
            "weighted avg       0.62      0.61      0.59       122\n",
            "\n",
            "\n",
            "Confusion Matrix:\n",
            "\n"
          ],
          "name": "stdout"
        },
        {
          "output_type": "execute_result",
          "data": {
            "text/plain": [
              "<matplotlib.axes._subplots.AxesSubplot at 0x7f7d1a823dd0>"
            ]
          },
          "metadata": {
            "tags": []
          },
          "execution_count": 50
        },
        {
          "output_type": "display_data",
          "data": {
            "image/png": "[encoded data removed]",
            "text/plain": [
              "<Figure size 432x288 with 2 Axes>"
            ]
          },
          "metadata": {
            "tags": [],
            "needs_background": "light"
          }
        }
      ]
    },
    {
      "cell_type": "markdown",
      "metadata": {
        "id": "qxxw1depb9VE"
      },
      "source": [
        "### Quadrantic Discriminant Analysis (QDA)"
      ]
    },
    {
      "cell_type": "code",
      "metadata": {
        "colab": {
          "base_uri": "https://localhost:8080/",
          "height": 560
        },
        "id": "XeRWig3Xynx7",
        "outputId": "ea5cd353-34bf-4756-b193-5f937a164d2a"
      },
      "source": [
        "# split the data into training and testing\n",
        "(trainX, testX, trainY, testY) = train_test_split(X, Y, test_size = 0.4, random_state = 0)\n",
        "\n",
        "start = time.time()\n",
        "\n",
        "# build the LDA classifier\n",
        "model_qda = QuadraticDiscriminantAnalysis(reg_param = 0.5)\n",
        "\n",
        "# fit the LDA classifier to the training data\n",
        "model_qda.fit(trainX, trainY)\n",
        "\n",
        "end = time.time()\n",
        "print('Running QDA took', end - start, 'seconds')\n",
        "\n",
        "# predict the labels of the test set\n",
        "predictedY = model_qda.predict(testX)\n",
        "\n",
        "# print quality metrics\n",
        "print('\\nClassification Report:\\n\\n', classification_report(testY, predictedY))\n",
        "print('\\nConfusion Matrix:\\n')\n",
        "sn.heatmap(confusion_matrix(testY, predictedY), annot = True)"
      ],
      "execution_count": null,
      "outputs": [
        {
          "output_type": "stream",
          "text": [
            "Running QDA took 0.006155967712402344 seconds\n",
            "\n",
            "Classification Report:\n",
            "\n",
            "               precision    recall  f1-score   support\n",
            "\n",
            "           0       0.82      0.69      0.75        59\n",
            "           1       0.75      0.86      0.80        63\n",
            "\n",
            "    accuracy                           0.78       122\n",
            "   macro avg       0.78      0.78      0.78       122\n",
            "weighted avg       0.78      0.78      0.78       122\n",
            "\n",
            "\n",
            "Confusion Matrix:\n",
            "\n"
          ],
          "name": "stdout"
        },
        {
          "output_type": "execute_result",
          "data": {
            "text/plain": [
              "<matplotlib.axes._subplots.AxesSubplot at 0x7f7d1ae275d0>"
            ]
          },
          "metadata": {
            "tags": []
          },
          "execution_count": 51
        },
        {
          "output_type": "display_data",
          "data": {
            "image/png": "[encoded data removed]",
            "text/plain": [
              "<Figure size 432x288 with 2 Axes>"
            ]
          },
          "metadata": {
            "tags": [],
            "needs_background": "light"
          }
        }
      ]
    },
    {
      "cell_type": "markdown",
      "metadata": {
        "id": "PZmhsDMAyn-7"
      },
      "source": [
        ""
      ]
    },
    {
      "cell_type": "code",
      "metadata": {
        "colab": {
          "base_uri": "https://localhost:8080/",
          "height": 560
        },
        "id": "Is8U_dN8yoLU",
        "outputId": "70865a3d-454b-4b6d-cf2c-ef2ff6d14882"
      },
      "source": [
        "# split the data into training and testing\n",
        "(trainX, testX, trainY, testY) = train_test_split(X_pca, Y, test_size = 0.4, random_state = 0)\n",
        "\n",
        "start = time.time()\n",
        "\n",
        "# build the LDA classifier\n",
        "model_qda = QuadraticDiscriminantAnalysis(reg_param = 0.5)\n",
        "\n",
        "# fit the LDA classifier to the training data\n",
        "model_qda.fit(trainX, trainY)\n",
        "\n",
        "end = time.time()\n",
        "print('Running QDA took', end - start, 'seconds')\n",
        "\n",
        "# predict the labels of the test set\n",
        "predictedY = model_qda.predict(testX)\n",
        "\n",
        "# print quality metrics\n",
        "print('\\nClassification Report:\\n\\n', classification_report(testY, predictedY))\n",
        "print('\\nConfusion Matrix:\\n')\n",
        "sn.heatmap(confusion_matrix(testY, predictedY), annot = True)"
      ],
      "execution_count": null,
      "outputs": [
        {
          "output_type": "stream",
          "text": [
            "Running QDA took 0.0015482902526855469 seconds\n",
            "\n",
            "Classification Report:\n",
            "\n",
            "               precision    recall  f1-score   support\n",
            "\n",
            "           0       0.70      0.59      0.64        59\n",
            "           1       0.67      0.76      0.71        63\n",
            "\n",
            "    accuracy                           0.68       122\n",
            "   macro avg       0.68      0.68      0.68       122\n",
            "weighted avg       0.68      0.68      0.68       122\n",
            "\n",
            "\n",
            "Confusion Matrix:\n",
            "\n"
          ],
          "name": "stdout"
        },
        {
          "output_type": "execute_result",
          "data": {
            "text/plain": [
              "<matplotlib.axes._subplots.AxesSubplot at 0x7f7d1a733dd0>"
            ]
          },
          "metadata": {
            "tags": []
          },
          "execution_count": 52
        },
        {
          "output_type": "display_data",
          "data": {
            "image/png": "[encoded data removed]",
            "text/plain": [
              "<Figure size 432x288 with 2 Axes>"
            ]
          },
          "metadata": {
            "tags": [],
            "needs_background": "light"
          }
        }
      ]
    },
    {
      "cell_type": "markdown",
      "metadata": {
        "id": "Zk143BroyoYX"
      },
      "source": [
        ""
      ]
    },
    {
      "cell_type": "code",
      "metadata": {
        "colab": {
          "base_uri": "https://localhost:8080/",
          "height": 564
        },
        "id": "zNJTbYETyojy",
        "outputId": "402a3166-d221-4e25-e4fd-08e8ba351323"
      },
      "source": [
        "# split the data into training and testing\n",
        "(trainX, testX, trainY, testY) = train_test_split(X_tsne, Y, test_size = 0.4, random_state = 0)\n",
        "\n",
        "start = time.time()\n",
        "\n",
        "# build the LDA classifier\n",
        "model_qda = QuadraticDiscriminantAnalysis(reg_param = 0.5)\n",
        "\n",
        "# fit the LDA classifier to the training data\n",
        "model_qda.fit(trainX, trainY)\n",
        "\n",
        "end = time.time()\n",
        "print('Running QDA took', end - start, 'seconds')\n",
        "\n",
        "# predict the labels of the test set\n",
        "predictedY = model_qda.predict(testX)\n",
        "\n",
        "# print quality metrics\n",
        "print('\\nClassification Report:\\n\\n', classification_report(testY, predictedY))\n",
        "print('\\nConfusion Matrix:\\n')\n",
        "sn.heatmap(confusion_matrix(testY, predictedY), annot = True)"
      ],
      "execution_count": null,
      "outputs": [
        {
          "output_type": "stream",
          "text": [
            "Running QDA took 0.0017271041870117188 seconds\n",
            "\n",
            "Classification Report:\n",
            "\n",
            "               precision    recall  f1-score   support\n",
            "\n",
            "           0       0.65      0.41      0.50        59\n",
            "           1       0.59      0.79      0.68        63\n",
            "\n",
            "    accuracy                           0.61       122\n",
            "   macro avg       0.62      0.60      0.59       122\n",
            "weighted avg       0.62      0.61      0.59       122\n",
            "\n",
            "\n",
            "Confusion Matrix:\n",
            "\n"
          ],
          "name": "stdout"
        },
        {
          "output_type": "execute_result",
          "data": {
            "text/plain": [
              "<matplotlib.axes._subplots.AxesSubplot at 0x7f7d1a6d3f90>"
            ]
          },
          "metadata": {
            "tags": []
          },
          "execution_count": 53
        },
        {
          "output_type": "display_data",
          "data": {
            "image/png": "[encoded data removed]",
            "text/plain": [
              "<Figure size 432x288 with 2 Axes>"
            ]
          },
          "metadata": {
            "tags": [],
            "needs_background": "light"
          }
        }
      ]
    },
    {
      "cell_type": "markdown",
      "metadata": {
        "id": "xf6930CMyoyC"
      },
      "source": [
        ""
      ]
    },
    {
      "cell_type": "code",
      "metadata": {
        "id": "K3WwlzzTb9NG",
        "colab": {
          "base_uri": "https://localhost:8080/",
          "height": 595
        },
        "outputId": "bcbcf817-22dc-43fa-bf28-fd13ca418db4"
      },
      "source": [
        "bestAccuracy_qda_o = [0, 0]\n",
        "\n",
        "# split the data into training and testing\n",
        "(trainX, testX, trainY, testY) = train_test_split(X, Y, test_size = 0.4, random_state = 0)\n",
        "\n",
        "start = time.time()\n",
        "\n",
        "# test hyperparameters\n",
        "for i in range(25):\n",
        "    rp = i/100\n",
        "    \n",
        "    # build the QDA classifier\n",
        "    model_qda = QuadraticDiscriminantAnalysis(reg_param = rp)\n",
        "\n",
        "    # fit the QDA classifier to the training data\n",
        "    model_qda.fit(trainX, trainY)\n",
        "    \n",
        "    # find the mean cross-validation accuracy\n",
        "    mean_cv_scores = np.mean(cross_val_score(model_qda, trainX, trainY, cv = 5))\n",
        "    \n",
        "    # save the hyperparameter reg_param if better than found before\n",
        "    if mean_cv_scores > bestAccuracy_qda_o[0]:\n",
        "        bestAccuracy_qda_o = [mean_cv_scores, rp]\n",
        "        \n",
        "end = time.time()\n",
        "print('Tuning QDA took', end - start, 'seconds')\n",
        "\n",
        "print('\\nThe best dev accuracy', bestAccuracy_qda_o[0], 'occured with', bestAccuracy_qda_o[1], 'regularization parameter')\n",
        "        \n",
        "# build the QDA classifier\n",
        "model_qda = QuadraticDiscriminantAnalysis(reg_param = bestAccuracy_qda_o[1])\n",
        "\n",
        "# fit the QDA classifier to the training data\n",
        "model_qda.fit(trainX, trainY)\n",
        "\n",
        "# predict the labels of the test set\n",
        "predictedY = model_qda.predict(testX)\n",
        "\n",
        "# print quality metrics\n",
        "print('\\nTest Classification Report for', bestAccuracy[0], 'reg_param:\\n\\n', classification_report(testY, predictedY))\n",
        "print('\\nConfusion Matrix:\\n')\n",
        "sn.heatmap(confusion_matrix(testY, predictedY), annot = True)"
      ],
      "execution_count": null,
      "outputs": [
        {
          "output_type": "stream",
          "text": [
            "Tuning QDA took 0.3112170696258545 seconds\n",
            "\n",
            "The best dev accuracy 0.8402402402402401 occured with 0.07 regularization parameter\n",
            "\n",
            "Test Classification Report for 0.6246246246246246 reg_param:\n",
            "\n",
            "               precision    recall  f1-score   support\n",
            "\n",
            "           0       0.86      0.71      0.78        59\n",
            "           1       0.77      0.89      0.82        63\n",
            "\n",
            "    accuracy                           0.80       122\n",
            "   macro avg       0.81      0.80      0.80       122\n",
            "weighted avg       0.81      0.80      0.80       122\n",
            "\n",
            "\n",
            "Confusion Matrix:\n",
            "\n"
          ],
          "name": "stdout"
        },
        {
          "output_type": "execute_result",
          "data": {
            "text/plain": [
              "<matplotlib.axes._subplots.AxesSubplot at 0x7f7d1a550dd0>"
            ]
          },
          "metadata": {
            "tags": []
          },
          "execution_count": 55
        },
        {
          "output_type": "display_data",
          "data": {
            "image/png": "[encoded data removed]",
            "text/plain": [
              "<Figure size 432x288 with 2 Axes>"
            ]
          },
          "metadata": {
            "tags": [],
            "needs_background": "light"
          }
        }
      ]
    },
    {
      "cell_type": "markdown",
      "metadata": {
        "id": "cdr3OT5siV1b"
      },
      "source": [
        ""
      ]
    },
    {
      "cell_type": "code",
      "metadata": {
        "id": "GdlfxseTb9eZ",
        "colab": {
          "base_uri": "https://localhost:8080/",
          "height": 595
        },
        "outputId": "47dc3847-da0b-4cf4-944d-ec163e84ffa0"
      },
      "source": [
        "bestAccuracy_qda_pca = [0, 0]\n",
        "\n",
        "# split the data into training and testing\n",
        "(trainX, testX, trainY, testY) = train_test_split(X_pca, Y, test_size = 0.4, random_state = 0)\n",
        "\n",
        "start = time.time()\n",
        "\n",
        "# test hyperparameters\n",
        "for i in range(25):\n",
        "    rp = i/100\n",
        "    \n",
        "    # build the QDA classifier\n",
        "    model_qda = QuadraticDiscriminantAnalysis(reg_param = rp)\n",
        "\n",
        "    # fit the QDA classifier to the training data\n",
        "    model_qda.fit(trainX, trainY)\n",
        "    \n",
        "    # find the mean cross-validation accuracy\n",
        "    mean_cv_scores = np.mean(cross_val_score(model_qda, trainX, trainY, cv = 5))\n",
        "    \n",
        "    # save the hyperparameter reg_param if better than found before\n",
        "    if mean_cv_scores > bestAccuracy_qda_pca[0]:\n",
        "        bestAccuracy_qda_pca = [mean_cv_scores, rp]\n",
        "        \n",
        "end = time.time()\n",
        "print('Tuning QDA took', end - start, 'seconds')\n",
        "\n",
        "print('\\nThe best dev accuracy', bestAccuracy_qda_pca[0], 'occured with', bestAccuracy_qda_pca[1], 'regularization parameter')\n",
        "        \n",
        "# build the QDA classifier\n",
        "model_qda = QuadraticDiscriminantAnalysis(reg_param = bestAccuracy_qda_pca[1])\n",
        "\n",
        "# fit the QDA classifier to the training data\n",
        "model_qda.fit(trainX, trainY)\n",
        "\n",
        "# predict the labels of the test set\n",
        "predictedY = model_qda.predict(testX)\n",
        "\n",
        "# print quality metrics\n",
        "print('\\nTest Classification Report for', bestAccuracy_qda_pca[0], 'reg_param:\\n\\n', classification_report(testY, predictedY))\n",
        "print('\\nConfusion Matrix:\\n')\n",
        "sn.heatmap(confusion_matrix(testY, predictedY), annot = True)"
      ],
      "execution_count": null,
      "outputs": [
        {
          "output_type": "stream",
          "text": [
            "Tuning QDA took 0.20762968063354492 seconds\n",
            "\n",
            "The best dev accuracy 0.7237237237237237 occured with 0.24 regularization parameter\n",
            "\n",
            "Test Classification Report for 0.7237237237237237 reg_param:\n",
            "\n",
            "               precision    recall  f1-score   support\n",
            "\n",
            "           0       0.70      0.59      0.64        59\n",
            "           1       0.67      0.76      0.71        63\n",
            "\n",
            "    accuracy                           0.68       122\n",
            "   macro avg       0.68      0.68      0.68       122\n",
            "weighted avg       0.68      0.68      0.68       122\n",
            "\n",
            "\n",
            "Confusion Matrix:\n",
            "\n"
          ],
          "name": "stdout"
        },
        {
          "output_type": "execute_result",
          "data": {
            "text/plain": [
              "<matplotlib.axes._subplots.AxesSubplot at 0x7f7d1a4db490>"
            ]
          },
          "metadata": {
            "tags": []
          },
          "execution_count": 56
        },
        {
          "output_type": "display_data",
          "data": {
            "image/png": "[encoded data removed]",
            "text/plain": [
              "<Figure size 432x288 with 2 Axes>"
            ]
          },
          "metadata": {
            "tags": [],
            "needs_background": "light"
          }
        }
      ]
    },
    {
      "cell_type": "markdown",
      "metadata": {
        "id": "El_m5BlzkXKf"
      },
      "source": [
        ""
      ]
    },
    {
      "cell_type": "code",
      "metadata": {
        "colab": {
          "base_uri": "https://localhost:8080/",
          "height": 595
        },
        "id": "TvFpwBxukXS1",
        "outputId": "a63b405d-c3e7-4422-a4fd-50d49a8b4f33"
      },
      "source": [
        "bestAccuracy_qda_tsne = [0, 0]\n",
        "\n",
        "# split the data into training and testing\n",
        "(trainX, testX, trainY, testY) = train_test_split(X_tsne, Y, test_size = 0.4, random_state = 0)\n",
        "\n",
        "start = time.time()\n",
        "\n",
        "# test hyperparameters\n",
        "for i in range(25):\n",
        "    rp = i/100\n",
        "    \n",
        "    # build the QDA classifier\n",
        "    model_qda = QuadraticDiscriminantAnalysis(reg_param = rp)\n",
        "\n",
        "    # fit the QDA classifier to the training data\n",
        "    model_qda.fit(trainX, trainY)\n",
        "    \n",
        "    # find the mean cross-validation accuracy\n",
        "    mean_cv_scores = np.mean(cross_val_score(model_qda, trainX, trainY, cv = 5))\n",
        "    \n",
        "    # save the hyperparameter reg_param if better than found before\n",
        "    if mean_cv_scores > bestAccuracy_qda_tsne[0]:\n",
        "        bestAccuracy_qda_tsne = [mean_cv_scores, rp]\n",
        "        \n",
        "end = time.time()\n",
        "print('Tuning QDA took', end - start, 'seconds')\n",
        "\n",
        "print('\\nThe best dev accuracy', bestAccuracy_qda_tsne[0], 'occured with', bestAccuracy_qda_tsne[1], 'regularization parameter')\n",
        "        \n",
        "# build the QDA classifier\n",
        "model_qda = QuadraticDiscriminantAnalysis(reg_param = bestAccuracy_qda_tsne[1])\n",
        "\n",
        "# fit the QDA classifier to the training data\n",
        "model_qda.fit(trainX, trainY)\n",
        "\n",
        "# predict the labels of the test set\n",
        "predictedY = model_qda.predict(testX)\n",
        "\n",
        "# print quality metrics\n",
        "print('\\nTest Classification Report for', bestAccuracy_qda_tsne[0], 'reg_param:\\n\\n', classification_report(testY, predictedY))\n",
        "print('\\nConfusion Matrix:\\n')\n",
        "sn.heatmap(confusion_matrix(testY, predictedY), annot = True)"
      ],
      "execution_count": null,
      "outputs": [
        {
          "output_type": "stream",
          "text": [
            "Tuning QDA took 0.22359323501586914 seconds\n",
            "\n",
            "The best dev accuracy 0.5471471471471471 occured with 0.06 regularization parameter\n",
            "\n",
            "Test Classification Report for 0.5471471471471471 reg_param:\n",
            "\n",
            "               precision    recall  f1-score   support\n",
            "\n",
            "           0       0.62      0.53      0.57        59\n",
            "           1       0.61      0.70      0.65        63\n",
            "\n",
            "    accuracy                           0.61       122\n",
            "   macro avg       0.62      0.61      0.61       122\n",
            "weighted avg       0.62      0.61      0.61       122\n",
            "\n",
            "\n",
            "Confusion Matrix:\n",
            "\n"
          ],
          "name": "stdout"
        },
        {
          "output_type": "execute_result",
          "data": {
            "text/plain": [
              "<matplotlib.axes._subplots.AxesSubplot at 0x7f7d1a368810>"
            ]
          },
          "metadata": {
            "tags": []
          },
          "execution_count": 57
        },
        {
          "output_type": "display_data",
          "data": {
            "image/png": "[encoded data removed]",
            "text/plain": [
              "<Figure size 432x288 with 2 Axes>"
            ]
          },
          "metadata": {
            "tags": [],
            "needs_background": "light"
          }
        }
      ]
    },
    {
      "cell_type": "markdown",
      "metadata": {
        "id": "DIOZZTQVkYgR"
      },
      "source": [
        "### Decision Tree Classifier"
      ]
    },
    {
      "cell_type": "code",
      "metadata": {
        "colab": {
          "base_uri": "https://localhost:8080/",
          "height": 577
        },
        "id": "RDTErz3vzTbE",
        "outputId": "4e5ab50d-3a24-486f-9470-dbba67f82a2d"
      },
      "source": [
        "# split the data into train and test sets\n",
        "trainX, testX, trainY, testY = train_test_split(X, Y, test_size = 0.4, random_state = 0)\n",
        "\n",
        "start = time.time()\n",
        "\n",
        "# build and tune the classifier\n",
        "model_dt = DecisionTreeClassifier()\n",
        "\n",
        "# fit the classifier to the training data\n",
        "model_dt.fit(trainX, trainY)\n",
        "\n",
        "end = time.time()\n",
        "print('Tuning Decision Tree Classifier took', end - start, 'seconds')\n",
        "\n",
        "# predict the labels of the test set\n",
        "predictedY = model_dt.predict(testX)\n",
        "\n",
        "# print quality metrics\n",
        "print('\\nTesting Classification Report:\\n\\n', classification_report(testY, predictedY))\n",
        "print('\\nTesting Confusion Matrix:\\n')\n",
        "\n",
        "sn.heatmap(confusion_matrix(testY, predictedY))\n",
        "plt.figure()"
      ],
      "execution_count": null,
      "outputs": [
        {
          "output_type": "stream",
          "text": [
            "Tuning Decision Tree Classifier took 0.0033676624298095703 seconds\n",
            "\n",
            "Testing Classification Report:\n",
            "\n",
            "               precision    recall  f1-score   support\n",
            "\n",
            "           0       0.75      0.81      0.78        59\n",
            "           1       0.81      0.75      0.78        63\n",
            "\n",
            "    accuracy                           0.78       122\n",
            "   macro avg       0.78      0.78      0.78       122\n",
            "weighted avg       0.78      0.78      0.78       122\n",
            "\n",
            "\n",
            "Testing Confusion Matrix:\n",
            "\n"
          ],
          "name": "stdout"
        },
        {
          "output_type": "execute_result",
          "data": {
            "text/plain": [
              "<Figure size 432x288 with 0 Axes>"
            ]
          },
          "metadata": {
            "tags": []
          },
          "execution_count": 58
        },
        {
          "output_type": "display_data",
          "data": {
            "image/png": "[encoded data removed]",
            "text/plain": [
              "<Figure size 432x288 with 2 Axes>"
            ]
          },
          "metadata": {
            "tags": [],
            "needs_background": "light"
          }
        },
        {
          "output_type": "display_data",
          "data": {
            "text/plain": [
              "<Figure size 432x288 with 0 Axes>"
            ]
          },
          "metadata": {
            "tags": []
          }
        }
      ]
    },
    {
      "cell_type": "markdown",
      "metadata": {
        "id": "QnoTzqfHzTjc"
      },
      "source": [
        ""
      ]
    },
    {
      "cell_type": "code",
      "metadata": {
        "colab": {
          "base_uri": "https://localhost:8080/",
          "height": 577
        },
        "id": "GO9Fgd75zTsc",
        "outputId": "5910df22-79f9-4084-fbbb-4cfa4634af73"
      },
      "source": [
        "# split the data into train and test sets\n",
        "trainX, testX, trainY, testY = train_test_split(X_pca, Y, test_size = 0.4, random_state = 0)\n",
        "\n",
        "start = time.time()\n",
        "\n",
        "# build and tune the classifier\n",
        "model_dt = DecisionTreeClassifier()\n",
        "\n",
        "# fit the classifier to the training data\n",
        "model_dt.fit(trainX, trainY)\n",
        "\n",
        "end = time.time()\n",
        "print('Tuning Decision Tree Classifier took', end - start, 'seconds')\n",
        "\n",
        "# predict the labels of the test set\n",
        "predictedY = model_dt.predict(testX)\n",
        "\n",
        "# print quality metrics\n",
        "print('\\nTesting Classification Report:\\n\\n', classification_report(testY, predictedY))\n",
        "print('\\nTesting Confusion Matrix:\\n')\n",
        "\n",
        "sn.heatmap(confusion_matrix(testY, predictedY))\n",
        "plt.figure()"
      ],
      "execution_count": null,
      "outputs": [
        {
          "output_type": "stream",
          "text": [
            "Tuning Decision Tree Classifier took 0.0027844905853271484 seconds\n",
            "\n",
            "Testing Classification Report:\n",
            "\n",
            "               precision    recall  f1-score   support\n",
            "\n",
            "           0       0.62      0.56      0.59        59\n",
            "           1       0.62      0.68      0.65        63\n",
            "\n",
            "    accuracy                           0.62       122\n",
            "   macro avg       0.62      0.62      0.62       122\n",
            "weighted avg       0.62      0.62      0.62       122\n",
            "\n",
            "\n",
            "Testing Confusion Matrix:\n",
            "\n"
          ],
          "name": "stdout"
        },
        {
          "output_type": "execute_result",
          "data": {
            "text/plain": [
              "<Figure size 432x288 with 0 Axes>"
            ]
          },
          "metadata": {
            "tags": []
          },
          "execution_count": 59
        },
        {
          "output_type": "display_data",
          "data": {
            "image/png": "[encoded data removed]",
            "text/plain": [
              "<Figure size 432x288 with 2 Axes>"
            ]
          },
          "metadata": {
            "tags": [],
            "needs_background": "light"
          }
        },
        {
          "output_type": "display_data",
          "data": {
            "text/plain": [
              "<Figure size 432x288 with 0 Axes>"
            ]
          },
          "metadata": {
            "tags": []
          }
        }
      ]
    },
    {
      "cell_type": "markdown",
      "metadata": {
        "id": "u6bflZuWzTzg"
      },
      "source": [
        ""
      ]
    },
    {
      "cell_type": "code",
      "metadata": {
        "colab": {
          "base_uri": "https://localhost:8080/",
          "height": 581
        },
        "id": "bxzfzpwkzUBa",
        "outputId": "87b65725-255f-469f-9655-1f9ffc14804d"
      },
      "source": [
        "# split the data into train and test sets\n",
        "trainX, testX, trainY, testY = train_test_split(X_tsne, Y, test_size = 0.4, random_state = 0)\n",
        "\n",
        "start = time.time()\n",
        "\n",
        "# build and tune the classifier\n",
        "model_dt = DecisionTreeClassifier()\n",
        "\n",
        "# fit the classifier to the training data\n",
        "model_dt.fit(trainX, trainY)\n",
        "\n",
        "end = time.time()\n",
        "print('Tuning Decision Tree Classifier took', end - start, 'seconds')\n",
        "\n",
        "# predict the labels of the test set\n",
        "predictedY = model_dt.predict(testX)\n",
        "\n",
        "# print quality metrics\n",
        "print('\\nTesting Classification Report:\\n\\n', classification_report(testY, predictedY))\n",
        "print('\\nTesting Confusion Matrix:\\n')\n",
        "\n",
        "sn.heatmap(confusion_matrix(testY, predictedY))\n",
        "plt.figure()"
      ],
      "execution_count": null,
      "outputs": [
        {
          "output_type": "stream",
          "text": [
            "Tuning Decision Tree Classifier took 0.0011246204376220703 seconds\n",
            "\n",
            "Testing Classification Report:\n",
            "\n",
            "               precision    recall  f1-score   support\n",
            "\n",
            "           0       0.55      0.51      0.53        59\n",
            "           1       0.57      0.60      0.58        63\n",
            "\n",
            "    accuracy                           0.56       122\n",
            "   macro avg       0.56      0.56      0.56       122\n",
            "weighted avg       0.56      0.56      0.56       122\n",
            "\n",
            "\n",
            "Testing Confusion Matrix:\n",
            "\n"
          ],
          "name": "stdout"
        },
        {
          "output_type": "execute_result",
          "data": {
            "text/plain": [
              "<Figure size 432x288 with 0 Axes>"
            ]
          },
          "metadata": {
            "tags": []
          },
          "execution_count": 60
        },
        {
          "output_type": "display_data",
          "data": {
            "image/png": "[encoded data removed]",
            "text/plain": [
              "<Figure size 432x288 with 2 Axes>"
            ]
          },
          "metadata": {
            "tags": [],
            "needs_background": "light"
          }
        },
        {
          "output_type": "display_data",
          "data": {
            "text/plain": [
              "<Figure size 432x288 with 0 Axes>"
            ]
          },
          "metadata": {
            "tags": []
          }
        }
      ]
    },
    {
      "cell_type": "markdown",
      "metadata": {
        "id": "jNo7h7IJzUJb"
      },
      "source": [
        ""
      ]
    },
    {
      "cell_type": "code",
      "metadata": {
        "id": "uAJBXp7CkYp0",
        "colab": {
          "base_uri": "https://localhost:8080/",
          "height": 681
        },
        "outputId": "9ef16dca-83bd-4f53-884e-20b1d8806fd5"
      },
      "source": [
        "# split the data into train and test sets\n",
        "trainX, testX, trainY, testY = train_test_split(X, Y, test_size = 0.4, random_state = 0)\n",
        "\n",
        "start = time.time()\n",
        "\n",
        "# build and tune the classifier\n",
        "parameters = {'max_depth': [1, 5, 10, 100, None], 'max_features': [2, 3, 4]}\n",
        "model_dt = GridSearchCV(DecisionTreeClassifier(), param_grid = parameters, cv = 5, n_jobs = -1)\n",
        "\n",
        "# fit the classifier to the training data\n",
        "model_dt.fit(trainX, trainY)\n",
        "\n",
        "end = time.time()\n",
        "print('Tuning Decision Tree Classifier took', end - start, 'seconds')\n",
        "\n",
        "# find best hyperparameters\n",
        "print(model_dt.best_estimator_)\n",
        "\n",
        "# predict the labels of the test set\n",
        "predictedY = model_dt.predict(testX)\n",
        "\n",
        "# print quality metrics\n",
        "print('\\nTesting Classification Report:\\n\\n', classification_report(testY, predictedY))\n",
        "print('\\nTesting Confusion Matrix:\\n')\n",
        "\n",
        "sn.heatmap(confusion_matrix(testY, predictedY))\n",
        "plt.figure()"
      ],
      "execution_count": null,
      "outputs": [
        {
          "output_type": "stream",
          "text": [
            "Tuning Decision Tree Classifier took 0.18519878387451172 seconds\n",
            "DecisionTreeClassifier(ccp_alpha=0.0, class_weight=None, criterion='gini',\n",
            "                       max_depth=10, max_features=4, max_leaf_nodes=None,\n",
            "                       min_impurity_decrease=0.0, min_impurity_split=None,\n",
            "                       min_samples_leaf=1, min_samples_split=2,\n",
            "                       min_weight_fraction_leaf=0.0, presort='deprecated',\n",
            "                       random_state=None, splitter='best')\n",
            "\n",
            "Testing Classification Report:\n",
            "\n",
            "               precision    recall  f1-score   support\n",
            "\n",
            "           0       0.78      0.61      0.69        59\n",
            "           1       0.70      0.84      0.76        63\n",
            "\n",
            "    accuracy                           0.73       122\n",
            "   macro avg       0.74      0.73      0.72       122\n",
            "weighted avg       0.74      0.73      0.73       122\n",
            "\n",
            "\n",
            "Testing Confusion Matrix:\n",
            "\n"
          ],
          "name": "stdout"
        },
        {
          "output_type": "execute_result",
          "data": {
            "text/plain": [
              "<Figure size 432x288 with 0 Axes>"
            ]
          },
          "metadata": {
            "tags": []
          },
          "execution_count": 64
        },
        {
          "output_type": "display_data",
          "data": {
            "image/png": "[encoded data removed]",
            "text/plain": [
              "<Figure size 432x288 with 2 Axes>"
            ]
          },
          "metadata": {
            "tags": [],
            "needs_background": "light"
          }
        },
        {
          "output_type": "display_data",
          "data": {
            "text/plain": [
              "<Figure size 432x288 with 0 Axes>"
            ]
          },
          "metadata": {
            "tags": []
          }
        }
      ]
    },
    {
      "cell_type": "code",
      "metadata": {
        "id": "Yw_8pxfxl1F1"
      },
      "source": [
        "bestDepth_DT_original = 10\n",
        "bestMaxFeatures_DT_original = 4"
      ],
      "execution_count": null,
      "outputs": []
    },
    {
      "cell_type": "markdown",
      "metadata": {
        "id": "Ke-16auLkYz1"
      },
      "source": [
        ""
      ]
    },
    {
      "cell_type": "code",
      "metadata": {
        "id": "YzcGIyM6kY80",
        "colab": {
          "base_uri": "https://localhost:8080/",
          "height": 681
        },
        "outputId": "d37b16f6-709e-4698-9d48-ea7333ead85c"
      },
      "source": [
        "# split the data into train and test sets\n",
        "trainX, testX, trainY, testY = train_test_split(X_pca, Y, test_size = 0.4, random_state = 0)\n",
        "\n",
        "start = time.time()\n",
        "\n",
        "# build and tune the classifier\n",
        "parameters = {'max_depth': [1, 5, 10, 100, None], 'max_features': [2, 3, 4]}\n",
        "model_dt = GridSearchCV(DecisionTreeClassifier(), param_grid = parameters, cv = 5, n_jobs = -1)\n",
        "\n",
        "# fit the classifier to the training data\n",
        "model_dt.fit(trainX, trainY)\n",
        "\n",
        "end = time.time()\n",
        "print('Tuning Decision Tree Classifier took', end - start, 'seconds')\n",
        "\n",
        "# find best hyperparameters\n",
        "print(model_dt.best_estimator_)\n",
        "\n",
        "# predict the labels of the test set\n",
        "predictedY = model_dt.predict(testX)\n",
        "\n",
        "# print quality metrics\n",
        "print('\\nTesting Classification Report:\\n\\n', classification_report(testY, predictedY))\n",
        "print('\\nTesting Confusion Matrix:\\n')\n",
        "\n",
        "sn.heatmap(confusion_matrix(testY, predictedY))\n",
        "plt.figure()"
      ],
      "execution_count": null,
      "outputs": [
        {
          "output_type": "stream",
          "text": [
            "Tuning Decision Tree Classifier took 0.16270136833190918 seconds\n",
            "DecisionTreeClassifier(ccp_alpha=0.0, class_weight=None, criterion='gini',\n",
            "                       max_depth=1, max_features=2, max_leaf_nodes=None,\n",
            "                       min_impurity_decrease=0.0, min_impurity_split=None,\n",
            "                       min_samples_leaf=1, min_samples_split=2,\n",
            "                       min_weight_fraction_leaf=0.0, presort='deprecated',\n",
            "                       random_state=None, splitter='best')\n",
            "\n",
            "Testing Classification Report:\n",
            "\n",
            "               precision    recall  f1-score   support\n",
            "\n",
            "           0       0.67      0.58      0.62        59\n",
            "           1       0.65      0.73      0.69        63\n",
            "\n",
            "    accuracy                           0.66       122\n",
            "   macro avg       0.66      0.65      0.65       122\n",
            "weighted avg       0.66      0.66      0.65       122\n",
            "\n",
            "\n",
            "Testing Confusion Matrix:\n",
            "\n"
          ],
          "name": "stdout"
        },
        {
          "output_type": "execute_result",
          "data": {
            "text/plain": [
              "<Figure size 432x288 with 0 Axes>"
            ]
          },
          "metadata": {
            "tags": []
          },
          "execution_count": 62
        },
        {
          "output_type": "display_data",
          "data": {
            "image/png": "[encoded data removed]",
            "text/plain": [
              "<Figure size 432x288 with 2 Axes>"
            ]
          },
          "metadata": {
            "tags": [],
            "needs_background": "light"
          }
        },
        {
          "output_type": "display_data",
          "data": {
            "text/plain": [
              "<Figure size 432x288 with 0 Axes>"
            ]
          },
          "metadata": {
            "tags": []
          }
        }
      ]
    },
    {
      "cell_type": "code",
      "metadata": {
        "id": "TOAbloXQl3Pb"
      },
      "source": [
        "bestDepth_DT_pca = 1\n",
        "bestMaxFeatures_DT_pca = 2"
      ],
      "execution_count": null,
      "outputs": []
    },
    {
      "cell_type": "markdown",
      "metadata": {
        "id": "YQmuuF3ez5-k"
      },
      "source": [
        ""
      ]
    },
    {
      "cell_type": "code",
      "metadata": {
        "colab": {
          "base_uri": "https://localhost:8080/",
          "height": 685
        },
        "id": "63l8xcDwz6Ji",
        "outputId": "20be7d80-1287-41e6-ebde-0949dc4d25e1"
      },
      "source": [
        "# split the data into train and test sets\n",
        "trainX, testX, trainY, testY = train_test_split(X_tsne, Y, test_size = 0.4, random_state = 0)\n",
        "\n",
        "start = time.time()\n",
        "\n",
        "# build and tune the classifier\n",
        "parameters = {'max_depth': [1, 5, 10, 100, None], 'max_features': [2, 3, 4]}\n",
        "model_dt = GridSearchCV(DecisionTreeClassifier(), param_grid = parameters, cv = 5, n_jobs = -1)\n",
        "\n",
        "# fit the classifier to the training data\n",
        "model_dt.fit(trainX, trainY)\n",
        "\n",
        "end = time.time()\n",
        "print('Tuning Decision Tree Classifier took', end - start, 'seconds')\n",
        "\n",
        "# find best hyperparameters\n",
        "print(model_dt.best_estimator_)\n",
        "\n",
        "# predict the labels of the test set\n",
        "predictedY = model_dt.predict(testX)\n",
        "\n",
        "# print quality metrics\n",
        "print('\\nTesting Classification Report:\\n\\n', classification_report(testY, predictedY))\n",
        "print('\\nTesting Confusion Matrix:\\n')\n",
        "\n",
        "sn.heatmap(confusion_matrix(testY, predictedY))\n",
        "plt.figure()"
      ],
      "execution_count": null,
      "outputs": [
        {
          "output_type": "stream",
          "text": [
            "Tuning Decision Tree Classifier took 0.19125938415527344 seconds\n",
            "DecisionTreeClassifier(ccp_alpha=0.0, class_weight=None, criterion='gini',\n",
            "                       max_depth=10, max_features=2, max_leaf_nodes=None,\n",
            "                       min_impurity_decrease=0.0, min_impurity_split=None,\n",
            "                       min_samples_leaf=1, min_samples_split=2,\n",
            "                       min_weight_fraction_leaf=0.0, presort='deprecated',\n",
            "                       random_state=None, splitter='best')\n",
            "\n",
            "Testing Classification Report:\n",
            "\n",
            "               precision    recall  f1-score   support\n",
            "\n",
            "           0       0.50      0.53      0.51        59\n",
            "           1       0.53      0.51      0.52        63\n",
            "\n",
            "    accuracy                           0.52       122\n",
            "   macro avg       0.52      0.52      0.52       122\n",
            "weighted avg       0.52      0.52      0.52       122\n",
            "\n",
            "\n",
            "Testing Confusion Matrix:\n",
            "\n"
          ],
          "name": "stdout"
        },
        {
          "output_type": "execute_result",
          "data": {
            "text/plain": [
              "<Figure size 432x288 with 0 Axes>"
            ]
          },
          "metadata": {
            "tags": []
          },
          "execution_count": 68
        },
        {
          "output_type": "display_data",
          "data": {
            "image/png": "[encoded data removed]",
            "text/plain": [
              "<Figure size 432x288 with 2 Axes>"
            ]
          },
          "metadata": {
            "tags": [],
            "needs_background": "light"
          }
        },
        {
          "output_type": "display_data",
          "data": {
            "text/plain": [
              "<Figure size 432x288 with 0 Axes>"
            ]
          },
          "metadata": {
            "tags": []
          }
        }
      ]
    },
    {
      "cell_type": "code",
      "metadata": {
        "id": "K1KsZudZl5Rg"
      },
      "source": [
        "bestDepth_DT_tsne = 10\n",
        "bestMaxFeatures_DT_tsne = 2"
      ],
      "execution_count": null,
      "outputs": []
    },
    {
      "cell_type": "markdown",
      "metadata": {
        "id": "fCCjEd6FCDJk"
      },
      "source": [
        "### Random Forest Classifier"
      ]
    },
    {
      "cell_type": "code",
      "metadata": {
        "colab": {
          "base_uri": "https://localhost:8080/",
          "height": 577
        },
        "id": "TgEM0PR3z-Py",
        "outputId": "4dbe93b4-f362-4e24-ae4d-f22ccc90b0e4"
      },
      "source": [
        "# split the data into train and test sets\n",
        "trainX, testX, trainY, testY = train_test_split(X, Y, test_size = 0.4, random_state = 0)\n",
        "\n",
        "start = time.time()\n",
        "\n",
        "# build and tune the classifier\n",
        "model_rf = RandomForestClassifier()\n",
        "\n",
        "# fit the classifier to the training data\n",
        "model_rf.fit(trainX, trainY)\n",
        "\n",
        "end = time.time()\n",
        "print('Tuning Random Forest took', end - start, 'seconds')\n",
        "\n",
        "# predict the labels of the test set\n",
        "predictedY = model_rf.predict(testX)\n",
        "\n",
        "# print quality metrics\n",
        "print('\\nTesting Classification Report:\\n\\n', classification_report(testY, predictedY))\n",
        "print('\\nTesting Confusion Matrix:\\n')\n",
        "\n",
        "sn.heatmap(confusion_matrix(testY, predictedY))\n",
        "plt.figure()"
      ],
      "execution_count": null,
      "outputs": [
        {
          "output_type": "stream",
          "text": [
            "Tuning Random Forest took 0.183945894241333 seconds\n",
            "\n",
            "Testing Classification Report:\n",
            "\n",
            "               precision    recall  f1-score   support\n",
            "\n",
            "           0       0.87      0.76      0.81        59\n",
            "           1       0.80      0.89      0.84        63\n",
            "\n",
            "    accuracy                           0.83       122\n",
            "   macro avg       0.83      0.83      0.83       122\n",
            "weighted avg       0.83      0.83      0.83       122\n",
            "\n",
            "\n",
            "Testing Confusion Matrix:\n",
            "\n"
          ],
          "name": "stdout"
        },
        {
          "output_type": "execute_result",
          "data": {
            "text/plain": [
              "<Figure size 432x288 with 0 Axes>"
            ]
          },
          "metadata": {
            "tags": []
          },
          "execution_count": 73
        },
        {
          "output_type": "display_data",
          "data": {
            "image/png": "[encoded data removed]",
            "text/plain": [
              "<Figure size 432x288 with 2 Axes>"
            ]
          },
          "metadata": {
            "tags": [],
            "needs_background": "light"
          }
        },
        {
          "output_type": "display_data",
          "data": {
            "text/plain": [
              "<Figure size 432x288 with 0 Axes>"
            ]
          },
          "metadata": {
            "tags": []
          }
        }
      ]
    },
    {
      "cell_type": "markdown",
      "metadata": {
        "id": "tIUiwic1z-aX"
      },
      "source": [
        ""
      ]
    },
    {
      "cell_type": "code",
      "metadata": {
        "colab": {
          "base_uri": "https://localhost:8080/",
          "height": 577
        },
        "id": "Fe9m-5FBz-qp",
        "outputId": "d3383359-8f6d-4cc7-dee5-ebbeb024e7b4"
      },
      "source": [
        "# split the data into train and test sets\n",
        "trainX, testX, trainY, testY = train_test_split(X_pca, Y, test_size = 0.4, random_state = 0)\n",
        "\n",
        "start = time.time()\n",
        "\n",
        "# build and tune the classifier\n",
        "model_rf = RandomForestClassifier()\n",
        "\n",
        "# fit the classifier to the training data\n",
        "model_rf.fit(trainX, trainY)\n",
        "\n",
        "end = time.time()\n",
        "print('Tuning Random Forest took', end - start, 'seconds')\n",
        "\n",
        "# predict the labels of the test set\n",
        "predictedY = model_rf.predict(testX)\n",
        "\n",
        "# print quality metrics\n",
        "print('\\nTesting Classification Report:\\n\\n', classification_report(testY, predictedY))\n",
        "print('\\nTesting Confusion Matrix:\\n')\n",
        "\n",
        "sn.heatmap(confusion_matrix(testY, predictedY))\n",
        "plt.figure()"
      ],
      "execution_count": null,
      "outputs": [
        {
          "output_type": "stream",
          "text": [
            "Tuning Random Forest took 0.18688273429870605 seconds\n",
            "\n",
            "Testing Classification Report:\n",
            "\n",
            "               precision    recall  f1-score   support\n",
            "\n",
            "           0       0.63      0.61      0.62        59\n",
            "           1       0.65      0.67      0.66        63\n",
            "\n",
            "    accuracy                           0.64       122\n",
            "   macro avg       0.64      0.64      0.64       122\n",
            "weighted avg       0.64      0.64      0.64       122\n",
            "\n",
            "\n",
            "Testing Confusion Matrix:\n",
            "\n"
          ],
          "name": "stdout"
        },
        {
          "output_type": "execute_result",
          "data": {
            "text/plain": [
              "<Figure size 432x288 with 0 Axes>"
            ]
          },
          "metadata": {
            "tags": []
          },
          "execution_count": 74
        },
        {
          "output_type": "display_data",
          "data": {
            "image/png": "[encoded data removed]",
            "text/plain": [
              "<Figure size 432x288 with 2 Axes>"
            ]
          },
          "metadata": {
            "tags": [],
            "needs_background": "light"
          }
        },
        {
          "output_type": "display_data",
          "data": {
            "text/plain": [
              "<Figure size 432x288 with 0 Axes>"
            ]
          },
          "metadata": {
            "tags": []
          }
        }
      ]
    },
    {
      "cell_type": "markdown",
      "metadata": {
        "id": "Yk2CtJadz-0m"
      },
      "source": [
        ""
      ]
    },
    {
      "cell_type": "code",
      "metadata": {
        "colab": {
          "base_uri": "https://localhost:8080/",
          "height": 581
        },
        "id": "QwSaR-65z_Tu",
        "outputId": "87fe8df9-7ac5-4815-86c8-a01d25cb378e"
      },
      "source": [
        "# split the data into train and test sets\n",
        "trainX, testX, trainY, testY = train_test_split(X_tsne, Y, test_size = 0.4, random_state = 0)\n",
        "\n",
        "start = time.time()\n",
        "\n",
        "# build and tune the classifier\n",
        "model_rf = RandomForestClassifier()\n",
        "\n",
        "# fit the classifier to the training data\n",
        "model_rf.fit(trainX, trainY)\n",
        "\n",
        "end = time.time()\n",
        "print('Tuning Random Forest took', end - start, 'seconds')\n",
        "\n",
        "# predict the labels of the test set\n",
        "predictedY = model_rf.predict(testX)\n",
        "\n",
        "# print quality metrics\n",
        "print('\\nTesting Classification Report:\\n\\n', classification_report(testY, predictedY))\n",
        "print('\\nTesting Confusion Matrix:\\n')\n",
        "\n",
        "sn.heatmap(confusion_matrix(testY, predictedY))\n",
        "plt.figure()"
      ],
      "execution_count": null,
      "outputs": [
        {
          "output_type": "stream",
          "text": [
            "Tuning Random Forest took 0.17979192733764648 seconds\n",
            "\n",
            "Testing Classification Report:\n",
            "\n",
            "               precision    recall  f1-score   support\n",
            "\n",
            "           0       0.54      0.58      0.56        59\n",
            "           1       0.58      0.54      0.56        63\n",
            "\n",
            "    accuracy                           0.56       122\n",
            "   macro avg       0.56      0.56      0.56       122\n",
            "weighted avg       0.56      0.56      0.56       122\n",
            "\n",
            "\n",
            "Testing Confusion Matrix:\n",
            "\n"
          ],
          "name": "stdout"
        },
        {
          "output_type": "execute_result",
          "data": {
            "text/plain": [
              "<Figure size 432x288 with 0 Axes>"
            ]
          },
          "metadata": {
            "tags": []
          },
          "execution_count": 75
        },
        {
          "output_type": "display_data",
          "data": {
            "image/png": "[encoded data removed]",
            "text/plain": [
              "<Figure size 432x288 with 2 Axes>"
            ]
          },
          "metadata": {
            "tags": [],
            "needs_background": "light"
          }
        },
        {
          "output_type": "display_data",
          "data": {
            "text/plain": [
              "<Figure size 432x288 with 0 Axes>"
            ]
          },
          "metadata": {
            "tags": []
          }
        }
      ]
    },
    {
      "cell_type": "markdown",
      "metadata": {
        "id": "_4PZne5kz_cJ"
      },
      "source": [
        ""
      ]
    },
    {
      "cell_type": "code",
      "metadata": {
        "id": "sAE14sxOCGdC",
        "colab": {
          "base_uri": "https://localhost:8080/",
          "height": 716
        },
        "outputId": "c5437171-69d3-4ad1-bf9e-c2930baa0c46"
      },
      "source": [
        "# split the data into train and test sets\n",
        "trainX, testX, trainY, testY = train_test_split(X, Y, test_size = 0.4, random_state = 0)\n",
        "\n",
        "start = time.time()\n",
        "\n",
        "# build and tune the classifier\n",
        "parameters = {'max_depth': [1, 5, 10, 100, None], 'max_features': [2, 3, 4], 'n_estimators': [100, 125, 150, 200]}\n",
        "model_rf = GridSearchCV(RandomForestClassifier(), param_grid = parameters, cv = 5, n_jobs = -1)\n",
        "\n",
        "# fit the classifier to the training data\n",
        "model_rf.fit(trainX, trainY)\n",
        "\n",
        "end = time.time()\n",
        "print('Tuning Random Forest took', end - start, 'seconds')\n",
        "\n",
        "# find best hyperparameters\n",
        "print(model_rf.best_estimator_)\n",
        "\n",
        "# predict the labels of the test set\n",
        "predictedY = model_rf.predict(testX)\n",
        "\n",
        "# print quality metrics\n",
        "print('\\nTesting Classification Report:\\n\\n', classification_report(testY, predictedY))\n",
        "print('\\nTesting Confusion Matrix:\\n')\n",
        "\n",
        "sn.heatmap(confusion_matrix(testY, predictedY))\n",
        "plt.figure()"
      ],
      "execution_count": null,
      "outputs": [
        {
          "output_type": "stream",
          "text": [
            "Tuning Random Forest took 65.74857091903687 seconds\n",
            "RandomForestClassifier(bootstrap=True, ccp_alpha=0.0, class_weight=None,\n",
            "                       criterion='gini', max_depth=100, max_features=3,\n",
            "                       max_leaf_nodes=None, max_samples=None,\n",
            "                       min_impurity_decrease=0.0, min_impurity_split=None,\n",
            "                       min_samples_leaf=1, min_samples_split=2,\n",
            "                       min_weight_fraction_leaf=0.0, n_estimators=150,\n",
            "                       n_jobs=None, oob_score=False, random_state=None,\n",
            "                       verbose=0, warm_start=False)\n",
            "\n",
            "Testing Classification Report:\n",
            "\n",
            "               precision    recall  f1-score   support\n",
            "\n",
            "           0       0.82      0.80      0.81        59\n",
            "           1       0.82      0.84      0.83        63\n",
            "\n",
            "    accuracy                           0.82       122\n",
            "   macro avg       0.82      0.82      0.82       122\n",
            "weighted avg       0.82      0.82      0.82       122\n",
            "\n",
            "\n",
            "Testing Confusion Matrix:\n",
            "\n"
          ],
          "name": "stdout"
        },
        {
          "output_type": "execute_result",
          "data": {
            "text/plain": [
              "<Figure size 432x288 with 0 Axes>"
            ]
          },
          "metadata": {
            "tags": []
          },
          "execution_count": 76
        },
        {
          "output_type": "display_data",
          "data": {
            "image/png": "[encoded data removed]",
            "text/plain": [
              "<Figure size 432x288 with 2 Axes>"
            ]
          },
          "metadata": {
            "tags": [],
            "needs_background": "light"
          }
        },
        {
          "output_type": "display_data",
          "data": {
            "text/plain": [
              "<Figure size 432x288 with 0 Axes>"
            ]
          },
          "metadata": {
            "tags": []
          }
        }
      ]
    },
    {
      "cell_type": "code",
      "metadata": {
        "id": "rcsRZdxvWX18"
      },
      "source": [
        "bestDepth_RF_original = 100\n",
        "bestMaxFeatures_RF_original = 3\n",
        "bestNumEstimators_RF_original = 150"
      ],
      "execution_count": null,
      "outputs": []
    },
    {
      "cell_type": "markdown",
      "metadata": {
        "id": "k_me0LEXJ5L8"
      },
      "source": [
        ""
      ]
    },
    {
      "cell_type": "code",
      "metadata": {
        "id": "9ZzDbNcUJ5Ud",
        "colab": {
          "base_uri": "https://localhost:8080/",
          "height": 716
        },
        "outputId": "ac54d8ff-db96-49fc-c7a5-896b2c22a9c0"
      },
      "source": [
        "# split the data into train and test sets\n",
        "trainX, testX, trainY, testY = train_test_split(X_pca, Y, test_size = 0.4, random_state = 0)\n",
        "\n",
        "start = time.time()\n",
        "\n",
        "# build and tune the classifier\n",
        "parameters = {'max_depth': [1, 5, 10, 100, None], 'max_features': [2, 3, 4], 'n_estimators': [50, 100, 150, 200]}\n",
        "model_rf = GridSearchCV(RandomForestClassifier(), param_grid = parameters, cv = 5, n_jobs = -1)\n",
        "\n",
        "# fit the classifier to the training data\n",
        "model_rf.fit(trainX, trainY)\n",
        "\n",
        "end = time.time()\n",
        "print('Tuning Random Forest took', end - start, 'seconds')\n",
        "\n",
        "# find best hyperparameters\n",
        "print(model_rf.best_estimator_)\n",
        "\n",
        "# predict the labels of the test set\n",
        "predictedY = model_rf.predict(testX)\n",
        "\n",
        "# print quality metrics\n",
        "print('\\nTesting Classification Report:\\n\\n', classification_report(testY, predictedY))\n",
        "print('\\nTesting Confusion Matrix:\\n')\n",
        "\n",
        "sn.heatmap(confusion_matrix(testY, predictedY))\n",
        "plt.figure()"
      ],
      "execution_count": null,
      "outputs": [
        {
          "output_type": "stream",
          "text": [
            "Tuning Random Forest took 31.013280153274536 seconds\n",
            "RandomForestClassifier(bootstrap=True, ccp_alpha=0.0, class_weight=None,\n",
            "                       criterion='gini', max_depth=1, max_features=2,\n",
            "                       max_leaf_nodes=None, max_samples=None,\n",
            "                       min_impurity_decrease=0.0, min_impurity_split=None,\n",
            "                       min_samples_leaf=1, min_samples_split=2,\n",
            "                       min_weight_fraction_leaf=0.0, n_estimators=50,\n",
            "                       n_jobs=None, oob_score=False, random_state=None,\n",
            "                       verbose=0, warm_start=False)\n",
            "\n",
            "Testing Classification Report:\n",
            "\n",
            "               precision    recall  f1-score   support\n",
            "\n",
            "           0       0.67      0.58      0.62        59\n",
            "           1       0.65      0.73      0.69        63\n",
            "\n",
            "    accuracy                           0.66       122\n",
            "   macro avg       0.66      0.65      0.65       122\n",
            "weighted avg       0.66      0.66      0.65       122\n",
            "\n",
            "\n",
            "Testing Confusion Matrix:\n",
            "\n"
          ],
          "name": "stdout"
        },
        {
          "output_type": "execute_result",
          "data": {
            "text/plain": [
              "<Figure size 432x288 with 0 Axes>"
            ]
          },
          "metadata": {
            "tags": []
          },
          "execution_count": 78
        },
        {
          "output_type": "display_data",
          "data": {
            "image/png": "[encoded data removed]",
            "text/plain": [
              "<Figure size 432x288 with 2 Axes>"
            ]
          },
          "metadata": {
            "tags": [],
            "needs_background": "light"
          }
        },
        {
          "output_type": "display_data",
          "data": {
            "text/plain": [
              "<Figure size 432x288 with 0 Axes>"
            ]
          },
          "metadata": {
            "tags": []
          }
        }
      ]
    },
    {
      "cell_type": "code",
      "metadata": {
        "id": "r9_hUVS5Wuvx"
      },
      "source": [
        "bestDepth_RF_pca = 1\n",
        "bestMaxFeatures_RF_pca = 2\n",
        "bestNumEstimators_RF_pca = 50"
      ],
      "execution_count": null,
      "outputs": []
    },
    {
      "cell_type": "markdown",
      "metadata": {
        "id": "i8hgIYcM0SR0"
      },
      "source": [
        ""
      ]
    },
    {
      "cell_type": "code",
      "metadata": {
        "colab": {
          "base_uri": "https://localhost:8080/",
          "height": 720
        },
        "id": "FbwiM_9I0Sbc",
        "outputId": "73d61fc2-5d04-4c77-95c1-831a41a759a3"
      },
      "source": [
        "# split the data into train and test sets\n",
        "trainX, testX, trainY, testY = train_test_split(X_tsne, Y, test_size = 0.4, random_state = 0)\n",
        "\n",
        "start = time.time()\n",
        "\n",
        "# build and tune the classifier\n",
        "parameters = {'max_depth': [1, 5, 10, 100, None], 'max_features': [2, 3, 4], 'n_estimators': [50, 100, 150, 200]}\n",
        "model_rf = GridSearchCV(RandomForestClassifier(), param_grid = parameters, cv = 5, n_jobs = -1)\n",
        "\n",
        "# fit the classifier to the training data\n",
        "model_rf.fit(trainX, trainY)\n",
        "\n",
        "end = time.time()\n",
        "print('Tuning Random Forest took', end - start, 'seconds')\n",
        "\n",
        "# find best hyperparameters\n",
        "print(model_rf.best_estimator_)\n",
        "\n",
        "# predict the labels of the test set\n",
        "predictedY = model_rf.predict(testX)\n",
        "\n",
        "# print quality metrics\n",
        "print('\\nTesting Classification Report:\\n\\n', classification_report(testY, predictedY))\n",
        "print('\\nTesting Confusion Matrix:\\n')\n",
        "\n",
        "sn.heatmap(confusion_matrix(testY, predictedY))\n",
        "plt.figure()"
      ],
      "execution_count": null,
      "outputs": [
        {
          "output_type": "stream",
          "text": [
            "Tuning Random Forest took 45.614232301712036 seconds\n",
            "RandomForestClassifier(bootstrap=True, ccp_alpha=0.0, class_weight=None,\n",
            "                       criterion='gini', max_depth=100, max_features=2,\n",
            "                       max_leaf_nodes=None, max_samples=None,\n",
            "                       min_impurity_decrease=0.0, min_impurity_split=None,\n",
            "                       min_samples_leaf=1, min_samples_split=2,\n",
            "                       min_weight_fraction_leaf=0.0, n_estimators=150,\n",
            "                       n_jobs=None, oob_score=False, random_state=None,\n",
            "                       verbose=0, warm_start=False)\n",
            "\n",
            "Testing Classification Report:\n",
            "\n",
            "               precision    recall  f1-score   support\n",
            "\n",
            "           0       0.58      0.58      0.58        59\n",
            "           1       0.60      0.60      0.60        63\n",
            "\n",
            "    accuracy                           0.59       122\n",
            "   macro avg       0.59      0.59      0.59       122\n",
            "weighted avg       0.59      0.59      0.59       122\n",
            "\n",
            "\n",
            "Testing Confusion Matrix:\n",
            "\n"
          ],
          "name": "stdout"
        },
        {
          "output_type": "execute_result",
          "data": {
            "text/plain": [
              "<Figure size 432x288 with 0 Axes>"
            ]
          },
          "metadata": {
            "tags": []
          },
          "execution_count": 80
        },
        {
          "output_type": "display_data",
          "data": {
            "image/png": "[encoded data removed]",
            "text/plain": [
              "<Figure size 432x288 with 2 Axes>"
            ]
          },
          "metadata": {
            "tags": [],
            "needs_background": "light"
          }
        },
        {
          "output_type": "display_data",
          "data": {
            "text/plain": [
              "<Figure size 432x288 with 0 Axes>"
            ]
          },
          "metadata": {
            "tags": []
          }
        }
      ]
    },
    {
      "cell_type": "code",
      "metadata": {
        "id": "hv4io99NW2db"
      },
      "source": [
        "bestDepth_RF_tsne = 100\n",
        "bestMaxFeatures_RF_tsne = 2\n",
        "bestNumEstimators_RF_tsne = 150"
      ],
      "execution_count": null,
      "outputs": []
    },
    {
      "cell_type": "markdown",
      "metadata": {
        "id": "zzXsuendCGkw"
      },
      "source": [
        "### XGBoost Classifier"
      ]
    },
    {
      "cell_type": "code",
      "metadata": {
        "colab": {
          "base_uri": "https://localhost:8080/",
          "height": 560
        },
        "id": "7lYU-mak0Znm",
        "outputId": "6723948e-9443-4c9a-f043-e6473a322d5d"
      },
      "source": [
        "# split the data into train and test sets\n",
        "trainX, testX, trainY, testY = train_test_split(X, Y, test_size = 0.4, random_state = 0)\n",
        "\n",
        "# set parameter values and grid search for optimal parameters\n",
        "model_xgb = XGBClassifier(n_jobs = -1, eval_metric='mlogloss')\n",
        "\n",
        "# fit the classifier to the training data\n",
        "model_xgb.fit(trainX, trainY)\n",
        "\n",
        "# predict the labels of the test set\n",
        "predictedY = model_xgb.predict(testX)\n",
        "\n",
        "# print quality metrics\n",
        "print('\\nTesting Classification Report:\\n\\n', classification_report(testY, predictedY))\n",
        "print('\\nTesting Confusion Matrix:\\n')\n",
        "\n",
        "sn.heatmap(confusion_matrix(testY, predictedY))\n",
        "plt.figure()"
      ],
      "execution_count": null,
      "outputs": [
        {
          "output_type": "stream",
          "text": [
            "\n",
            "Testing Classification Report:\n",
            "\n",
            "               precision    recall  f1-score   support\n",
            "\n",
            "           0       0.80      0.81      0.81        59\n",
            "           1       0.82      0.81      0.82        63\n",
            "\n",
            "    accuracy                           0.81       122\n",
            "   macro avg       0.81      0.81      0.81       122\n",
            "weighted avg       0.81      0.81      0.81       122\n",
            "\n",
            "\n",
            "Testing Confusion Matrix:\n",
            "\n"
          ],
          "name": "stdout"
        },
        {
          "output_type": "execute_result",
          "data": {
            "text/plain": [
              "<Figure size 432x288 with 0 Axes>"
            ]
          },
          "metadata": {
            "tags": []
          },
          "execution_count": 83
        },
        {
          "output_type": "display_data",
          "data": {
            "image/png": "[encoded data removed]",
            "text/plain": [
              "<Figure size 432x288 with 2 Axes>"
            ]
          },
          "metadata": {
            "tags": [],
            "needs_background": "light"
          }
        },
        {
          "output_type": "display_data",
          "data": {
            "text/plain": [
              "<Figure size 432x288 with 0 Axes>"
            ]
          },
          "metadata": {
            "tags": []
          }
        }
      ]
    },
    {
      "cell_type": "markdown",
      "metadata": {
        "id": "fCQQgsiH0Zvk"
      },
      "source": [
        ""
      ]
    },
    {
      "cell_type": "code",
      "metadata": {
        "colab": {
          "base_uri": "https://localhost:8080/",
          "height": 560
        },
        "id": "5a2VhDt60Z3J",
        "outputId": "4db6422c-1923-44a5-8833-31eb277d078f"
      },
      "source": [
        "# split the data into train and test sets\n",
        "trainX, testX, trainY, testY = train_test_split(X_pca, Y, test_size = 0.4, random_state = 0)\n",
        "\n",
        "# set parameter values and grid search for optimal parameters\n",
        "model_xgb = XGBClassifier(n_jobs = -1, eval_metric='mlogloss')\n",
        "\n",
        "# fit the classifier to the training data\n",
        "model_xgb.fit(trainX, trainY)\n",
        "\n",
        "# predict the labels of the test set\n",
        "predictedY = model_xgb.predict(testX)\n",
        "\n",
        "# print quality metrics\n",
        "print('\\nTesting Classification Report:\\n\\n', classification_report(testY, predictedY))\n",
        "print('\\nTesting Confusion Matrix:\\n')\n",
        "\n",
        "sn.heatmap(confusion_matrix(testY, predictedY))\n",
        "plt.figure()"
      ],
      "execution_count": null,
      "outputs": [
        {
          "output_type": "stream",
          "text": [
            "\n",
            "Testing Classification Report:\n",
            "\n",
            "               precision    recall  f1-score   support\n",
            "\n",
            "           0       0.67      0.58      0.62        59\n",
            "           1       0.65      0.73      0.69        63\n",
            "\n",
            "    accuracy                           0.66       122\n",
            "   macro avg       0.66      0.65      0.65       122\n",
            "weighted avg       0.66      0.66      0.65       122\n",
            "\n",
            "\n",
            "Testing Confusion Matrix:\n",
            "\n"
          ],
          "name": "stdout"
        },
        {
          "output_type": "execute_result",
          "data": {
            "text/plain": [
              "<Figure size 432x288 with 0 Axes>"
            ]
          },
          "metadata": {
            "tags": []
          },
          "execution_count": 84
        },
        {
          "output_type": "display_data",
          "data": {
            "image/png": "[encoded data removed]",
            "text/plain": [
              "<Figure size 432x288 with 2 Axes>"
            ]
          },
          "metadata": {
            "tags": [],
            "needs_background": "light"
          }
        },
        {
          "output_type": "display_data",
          "data": {
            "text/plain": [
              "<Figure size 432x288 with 0 Axes>"
            ]
          },
          "metadata": {
            "tags": []
          }
        }
      ]
    },
    {
      "cell_type": "markdown",
      "metadata": {
        "id": "MfBVzm_p0Z-1"
      },
      "source": [
        ""
      ]
    },
    {
      "cell_type": "code",
      "metadata": {
        "colab": {
          "base_uri": "https://localhost:8080/",
          "height": 560
        },
        "id": "bt_GsOLu0aMg",
        "outputId": "124303bb-940a-406c-f63d-58cd2b0403b2"
      },
      "source": [
        "# split the data into train and test sets\n",
        "trainX, testX, trainY, testY = train_test_split(X_tsne, Y, test_size = 0.4, random_state = 0)\n",
        "\n",
        "# set parameter values and grid search for optimal parameters\n",
        "model_xgb = XGBClassifier(n_jobs = -1, eval_metric='mlogloss')\n",
        "\n",
        "# fit the classifier to the training data\n",
        "model_xgb.fit(trainX, trainY)\n",
        "\n",
        "# predict the labels of the test set\n",
        "predictedY = model_xgb.predict(testX)\n",
        "\n",
        "# print quality metrics\n",
        "print('\\nTesting Classification Report:\\n\\n', classification_report(testY, predictedY))\n",
        "print('\\nTesting Confusion Matrix:\\n')\n",
        "\n",
        "sn.heatmap(confusion_matrix(testY, predictedY))\n",
        "plt.figure()"
      ],
      "execution_count": null,
      "outputs": [
        {
          "output_type": "stream",
          "text": [
            "\n",
            "Testing Classification Report:\n",
            "\n",
            "               precision    recall  f1-score   support\n",
            "\n",
            "           0       0.55      0.59      0.57        59\n",
            "           1       0.59      0.54      0.56        63\n",
            "\n",
            "    accuracy                           0.57       122\n",
            "   macro avg       0.57      0.57      0.57       122\n",
            "weighted avg       0.57      0.57      0.57       122\n",
            "\n",
            "\n",
            "Testing Confusion Matrix:\n",
            "\n"
          ],
          "name": "stdout"
        },
        {
          "output_type": "execute_result",
          "data": {
            "text/plain": [
              "<Figure size 432x288 with 0 Axes>"
            ]
          },
          "metadata": {
            "tags": []
          },
          "execution_count": 85
        },
        {
          "output_type": "display_data",
          "data": {
            "image/png": "[encoded data removed]",
            "text/plain": [
              "<Figure size 432x288 with 2 Axes>"
            ]
          },
          "metadata": {
            "tags": [],
            "needs_background": "light"
          }
        },
        {
          "output_type": "display_data",
          "data": {
            "text/plain": [
              "<Figure size 432x288 with 0 Axes>"
            ]
          },
          "metadata": {
            "tags": []
          }
        }
      ]
    },
    {
      "cell_type": "markdown",
      "metadata": {
        "id": "mjrV_niz0aW2"
      },
      "source": [
        ""
      ]
    },
    {
      "cell_type": "code",
      "metadata": {
        "id": "PT45h4WwKZ9A",
        "colab": {
          "base_uri": "https://localhost:8080/",
          "height": 681
        },
        "outputId": "c4c95bc6-7571-4229-f67d-d08a2d0fd43e"
      },
      "source": [
        "# split the data into train and test sets\n",
        "trainX, testX, trainY, testY = train_test_split(X, Y, test_size = 0.4, random_state = 0)\n",
        "\n",
        "# set parameter values and grid search for optimal parameters\n",
        "parameters = {'max_depth': [1, 5, 10, 100, None], 'reg_lambda': [0.001, 0.01, 0.1, 1, 10]}\n",
        "model_xgb = GridSearchCV(XGBClassifier(n_jobs = -1, eval_metric='mlogloss'), parameters, cv = 5, n_jobs = -1)\n",
        "\n",
        "# fit the classifier to the training data\n",
        "model_xgb.fit(trainX, trainY)\n",
        "\n",
        "# find best hyperparameters\n",
        "print(model_xgb.best_estimator_)\n",
        "\n",
        "# predict the labels of the test set\n",
        "predictedY = model_xgb.predict(testX)\n",
        "\n",
        "# print quality metrics\n",
        "print('\\nTesting Classification Report:\\n\\n', classification_report(testY, predictedY))\n",
        "print('\\nTesting Confusion Matrix:\\n')\n",
        "\n",
        "sn.heatmap(confusion_matrix(testY, predictedY))\n",
        "plt.figure()"
      ],
      "execution_count": null,
      "outputs": [
        {
          "output_type": "stream",
          "text": [
            "XGBClassifier(base_score=0.5, booster='gbtree', colsample_bylevel=1,\n",
            "              colsample_bynode=1, colsample_bytree=1, eval_metric='mlogloss',\n",
            "              gamma=0, learning_rate=0.1, max_delta_step=0, max_depth=1,\n",
            "              min_child_weight=1, missing=None, n_estimators=100, n_jobs=-1,\n",
            "              nthread=None, objective='binary:logistic', random_state=0,\n",
            "              reg_alpha=0, reg_lambda=0.001, scale_pos_weight=1, seed=None,\n",
            "              silent=None, subsample=1, verbosity=1)\n",
            "\n",
            "Testing Classification Report:\n",
            "\n",
            "               precision    recall  f1-score   support\n",
            "\n",
            "           0       0.81      0.81      0.81        59\n",
            "           1       0.83      0.83      0.83        63\n",
            "\n",
            "    accuracy                           0.82       122\n",
            "   macro avg       0.82      0.82      0.82       122\n",
            "weighted avg       0.82      0.82      0.82       122\n",
            "\n",
            "\n",
            "Testing Confusion Matrix:\n",
            "\n"
          ],
          "name": "stdout"
        },
        {
          "output_type": "execute_result",
          "data": {
            "text/plain": [
              "<Figure size 432x288 with 0 Axes>"
            ]
          },
          "metadata": {
            "tags": []
          },
          "execution_count": 86
        },
        {
          "output_type": "display_data",
          "data": {
            "image/png": "[encoded data removed]",
            "text/plain": [
              "<Figure size 432x288 with 2 Axes>"
            ]
          },
          "metadata": {
            "tags": [],
            "needs_background": "light"
          }
        },
        {
          "output_type": "display_data",
          "data": {
            "text/plain": [
              "<Figure size 432x288 with 0 Axes>"
            ]
          },
          "metadata": {
            "tags": []
          }
        }
      ]
    },
    {
      "cell_type": "code",
      "metadata": {
        "id": "pvu3MdlWnkc3"
      },
      "source": [
        "bestDepth_XGB_original = 1\n",
        "bestRegLambda_XGB_original = 0.001"
      ],
      "execution_count": null,
      "outputs": []
    },
    {
      "cell_type": "markdown",
      "metadata": {
        "id": "DC8QGIroJk7i"
      },
      "source": [
        ""
      ]
    },
    {
      "cell_type": "code",
      "metadata": {
        "id": "SOER9RCfJlFR",
        "colab": {
          "base_uri": "https://localhost:8080/",
          "height": 681
        },
        "outputId": "3c479847-9e10-4d61-cb78-07413b62eb33"
      },
      "source": [
        "# split the data into train and test sets\n",
        "trainX, testX, trainY, testY = train_test_split(X_pca, Y, test_size = 0.4, random_state = 0)\n",
        "\n",
        "# set parameter values and grid search for optimal parameters\n",
        "parameters = {'max_depth': [1, 5, 10, 100, None], 'reg_lambda': [0.001, 0.01, 0.1, 1, 10]}\n",
        "model_xgb = GridSearchCV(XGBClassifier(n_jobs = -1, eval_metric='mlogloss'), parameters, cv = 5, n_jobs = -1)\n",
        "\n",
        "# fit the classifier to the training data\n",
        "model_xgb.fit(trainX, trainY)\n",
        "\n",
        "# find best hyperparameters\n",
        "print(model_xgb.best_estimator_)\n",
        "\n",
        "# predict the labels of the test set\n",
        "predictedY = model_xgb.predict(testX)\n",
        "\n",
        "# print quality metrics\n",
        "print('\\nTesting Classification Report:\\n\\n', classification_report(testY, predictedY))\n",
        "print('\\nTesting Confusion Matrix:\\n')\n",
        "\n",
        "sn.heatmap(confusion_matrix(testY, predictedY))\n",
        "plt.figure()"
      ],
      "execution_count": null,
      "outputs": [
        {
          "output_type": "stream",
          "text": [
            "XGBClassifier(base_score=0.5, booster='gbtree', colsample_bylevel=1,\n",
            "              colsample_bynode=1, colsample_bytree=1, eval_metric='mlogloss',\n",
            "              gamma=0, learning_rate=0.1, max_delta_step=0, max_depth=1,\n",
            "              min_child_weight=1, missing=None, n_estimators=100, n_jobs=-1,\n",
            "              nthread=None, objective='binary:logistic', random_state=0,\n",
            "              reg_alpha=0, reg_lambda=10, scale_pos_weight=1, seed=None,\n",
            "              silent=None, subsample=1, verbosity=1)\n",
            "\n",
            "Testing Classification Report:\n",
            "\n",
            "               precision    recall  f1-score   support\n",
            "\n",
            "           0       0.67      0.58      0.62        59\n",
            "           1       0.65      0.73      0.69        63\n",
            "\n",
            "    accuracy                           0.66       122\n",
            "   macro avg       0.66      0.65      0.65       122\n",
            "weighted avg       0.66      0.66      0.65       122\n",
            "\n",
            "\n",
            "Testing Confusion Matrix:\n",
            "\n"
          ],
          "name": "stdout"
        },
        {
          "output_type": "execute_result",
          "data": {
            "text/plain": [
              "<Figure size 432x288 with 0 Axes>"
            ]
          },
          "metadata": {
            "tags": []
          },
          "execution_count": 88
        },
        {
          "output_type": "display_data",
          "data": {
            "image/png": "[encoded data removed]",
            "text/plain": [
              "<Figure size 432x288 with 2 Axes>"
            ]
          },
          "metadata": {
            "tags": [],
            "needs_background": "light"
          }
        },
        {
          "output_type": "display_data",
          "data": {
            "text/plain": [
              "<Figure size 432x288 with 0 Axes>"
            ]
          },
          "metadata": {
            "tags": []
          }
        }
      ]
    },
    {
      "cell_type": "code",
      "metadata": {
        "id": "Y1V2MSZnnt91"
      },
      "source": [
        "bestDepth_XGB_pca = 1\n",
        "bestRegLambda_XGB_pca = 10"
      ],
      "execution_count": null,
      "outputs": []
    },
    {
      "cell_type": "markdown",
      "metadata": {
        "id": "XgfjZuGK0btb"
      },
      "source": [
        ""
      ]
    },
    {
      "cell_type": "code",
      "metadata": {
        "colab": {
          "base_uri": "https://localhost:8080/",
          "height": 685
        },
        "id": "bAsZoiPv0b1U",
        "outputId": "30d65156-79c6-4fbc-b570-93974a0baca4"
      },
      "source": [
        "# split the data into train and test sets\n",
        "trainX, testX, trainY, testY = train_test_split(X_tsne, Y, test_size = 0.4, random_state = 0)\n",
        "\n",
        "# set parameter values and grid search for optimal parameters\n",
        "parameters = {'max_depth': [1, 5, 10, 100, None], 'reg_lambda': [0.001, 0.01, 0.1, 1, 10]}\n",
        "model_xgb = GridSearchCV(XGBClassifier(n_jobs = -1, eval_metric='mlogloss'), parameters, cv = 5, n_jobs = -1)\n",
        "\n",
        "# fit the classifier to the training data\n",
        "model_xgb.fit(trainX, trainY)\n",
        "\n",
        "# find best hyperparameters\n",
        "print(model_xgb.best_estimator_)\n",
        "\n",
        "# predict the labels of the test set\n",
        "predictedY = model_xgb.predict(testX)\n",
        "\n",
        "# print quality metrics\n",
        "print('\\nTesting Classification Report:\\n\\n', classification_report(testY, predictedY))\n",
        "print('\\nTesting Confusion Matrix:\\n')\n",
        "\n",
        "sn.heatmap(confusion_matrix(testY, predictedY))\n",
        "plt.figure()"
      ],
      "execution_count": null,
      "outputs": [
        {
          "output_type": "stream",
          "text": [
            "XGBClassifier(base_score=0.5, booster='gbtree', colsample_bylevel=1,\n",
            "              colsample_bynode=1, colsample_bytree=1, eval_metric='mlogloss',\n",
            "              gamma=0, learning_rate=0.1, max_delta_step=0, max_depth=100,\n",
            "              min_child_weight=1, missing=None, n_estimators=100, n_jobs=-1,\n",
            "              nthread=None, objective='binary:logistic', random_state=0,\n",
            "              reg_alpha=0, reg_lambda=0.001, scale_pos_weight=1, seed=None,\n",
            "              silent=None, subsample=1, verbosity=1)\n",
            "\n",
            "Testing Classification Report:\n",
            "\n",
            "               precision    recall  f1-score   support\n",
            "\n",
            "           0       0.54      0.58      0.56        59\n",
            "           1       0.58      0.54      0.56        63\n",
            "\n",
            "    accuracy                           0.56       122\n",
            "   macro avg       0.56      0.56      0.56       122\n",
            "weighted avg       0.56      0.56      0.56       122\n",
            "\n",
            "\n",
            "Testing Confusion Matrix:\n",
            "\n"
          ],
          "name": "stdout"
        },
        {
          "output_type": "execute_result",
          "data": {
            "text/plain": [
              "<Figure size 432x288 with 0 Axes>"
            ]
          },
          "metadata": {
            "tags": []
          },
          "execution_count": 90
        },
        {
          "output_type": "display_data",
          "data": {
            "image/png": "[encoded data removed]",
            "text/plain": [
              "<Figure size 432x288 with 2 Axes>"
            ]
          },
          "metadata": {
            "tags": [],
            "needs_background": "light"
          }
        },
        {
          "output_type": "display_data",
          "data": {
            "text/plain": [
              "<Figure size 432x288 with 0 Axes>"
            ]
          },
          "metadata": {
            "tags": []
          }
        }
      ]
    },
    {
      "cell_type": "code",
      "metadata": {
        "id": "YTAz5ZunnwjT"
      },
      "source": [
        "bestDepth_XGB_tsne = 100\n",
        "bestRegLambda_XGB_tsne = 0.001"
      ],
      "execution_count": null,
      "outputs": []
    },
    {
      "cell_type": "markdown",
      "metadata": {
        "id": "lePynKMhgkW7"
      },
      "source": [
        "## Feature Importance"
      ]
    },
    {
      "cell_type": "markdown",
      "metadata": {
        "id": "p900I3l9iZ6R"
      },
      "source": [
        "### Logistic Regression"
      ]
    },
    {
      "cell_type": "code",
      "metadata": {
        "colab": {
          "base_uri": "https://localhost:8080/",
          "height": 560
        },
        "id": "Zj7JFOuLgqxm",
        "outputId": "fa8ef2c5-602e-408a-a488-959caced41e3"
      },
      "source": [
        "# split the data into training and testing\n",
        "(trainX, testX, trainY, testY) = train_test_split(X, Y, test_size = 0.4, random_state = 0)\n",
        "\n",
        "start = time.time() # time how long it takes to find the model\n",
        "\n",
        "# create model\n",
        "model_lr = LogisticRegression(C = bestC_original[0], max_iter = 10000)\n",
        "model_lr.fit(trainX, trainY)\n",
        "\n",
        "end = time.time()\n",
        "print('Tuning Logistic Regression Model took', end - start, 'seconds')\n",
        "\n",
        "# predict the labels of the test set\n",
        "predictedY = model_lr.predict(testX)\n",
        "\n",
        "# print quality metrics\n",
        "print('\\nClassification Report:\\n\\n', classification_report(testY, predictedY))\n",
        "print('\\nConfusion Matrix:\\n')\n",
        "\n",
        "sn.heatmap(confusion_matrix(testY, predictedY), annot = True)"
      ],
      "execution_count": null,
      "outputs": [
        {
          "output_type": "stream",
          "text": [
            "Tuning Logistic Regression Model took 0.0668802261352539 seconds\n",
            "\n",
            "Classification Report:\n",
            "\n",
            "               precision    recall  f1-score   support\n",
            "\n",
            "           0       0.85      0.78      0.81        59\n",
            "           1       0.81      0.87      0.84        63\n",
            "\n",
            "    accuracy                           0.83       122\n",
            "   macro avg       0.83      0.83      0.83       122\n",
            "weighted avg       0.83      0.83      0.83       122\n",
            "\n",
            "\n",
            "Confusion Matrix:\n",
            "\n"
          ],
          "name": "stdout"
        },
        {
          "output_type": "execute_result",
          "data": {
            "text/plain": [
              "<matplotlib.axes._subplots.AxesSubplot at 0x7f7d1a16fb10>"
            ]
          },
          "metadata": {
            "tags": []
          },
          "execution_count": 95
        },
        {
          "output_type": "display_data",
          "data": {
            "image/png": "[encoded data removed]",
            "text/plain": [
              "<Figure size 432x288 with 2 Axes>"
            ]
          },
          "metadata": {
            "tags": [],
            "needs_background": "light"
          }
        }
      ]
    },
    {
      "cell_type": "markdown",
      "metadata": {
        "id": "lomjDEqcoBvN"
      },
      "source": [
        "feature importance"
      ]
    },
    {
      "cell_type": "code",
      "metadata": {
        "colab": {
          "base_uri": "https://localhost:8080/",
          "height": 297
        },
        "id": "6buH0CnwoB59",
        "outputId": "2d2c0864-b4f5-46b9-a4ba-654314f1642b"
      },
      "source": [
        "result = permutation_importance(model_lr, testX, testY, n_repeats = 10, n_jobs = -1)\n",
        "sorted_idx = result.importances_mean.argsort()\n",
        "\n",
        "fig, ax = plt.subplots()\n",
        "ax.boxplot(result.importances[sorted_idx].T, vert = False, labels = np.array(names[sorted_idx]))\n",
        "ax.set_title(\"Permutation Importances (test set)\")\n",
        "fig.tight_layout()\n",
        "plt.show()"
      ],
      "execution_count": null,
      "outputs": [
        {
          "output_type": "display_data",
          "data": {
            "image/png": "[encoded data removed]",
            "text/plain": [
              "<Figure size 432x288 with 1 Axes>"
            ]
          },
          "metadata": {
            "tags": [],
            "needs_background": "light"
          }
        }
      ]
    },
    {
      "cell_type": "code",
      "metadata": {
        "id": "8fDTdRL5pNS4"
      },
      "source": [
        ""
      ],
      "execution_count": null,
      "outputs": []
    },
    {
      "cell_type": "markdown",
      "metadata": {
        "id": "86yw_9kzpN4V"
      },
      "source": [
        "### k-Nearest Neighbor Classifier (KNN)"
      ]
    },
    {
      "cell_type": "code",
      "metadata": {
        "colab": {
          "base_uri": "https://localhost:8080/",
          "height": 543
        },
        "id": "9w_0mjAApUbZ",
        "outputId": "724effbf-131f-4d7b-846b-5177ce73c264"
      },
      "source": [
        "# split the data into training and testing\n",
        "(trainX, testX, trainY, testY) = train_test_split(X, Y, test_size = 0.4, random_state = 0)\n",
        "\n",
        "# build the knn classifier\n",
        "model_knn = KNeighborsClassifier(6)\n",
        "\n",
        "# fit the knn classifier to the training data\n",
        "model_knn.fit(trainX, trainY)\n",
        "\n",
        "# predict the labels of the test set\n",
        "predictedY = model_knn.predict(testX)\n",
        "\n",
        "# print quality metrics\n",
        "print('\\nClassification Report:\\n\\n', classification_report(testY, predictedY))\n",
        "print('\\nTest Confusion Matrix:\\n')\n",
        "sn.heatmap(confusion_matrix(testY, predictedY))"
      ],
      "execution_count": null,
      "outputs": [
        {
          "output_type": "stream",
          "text": [
            "\n",
            "Classification Report:\n",
            "\n",
            "               precision    recall  f1-score   support\n",
            "\n",
            "           0       0.68      0.68      0.68        59\n",
            "           1       0.70      0.70      0.70        63\n",
            "\n",
            "    accuracy                           0.69       122\n",
            "   macro avg       0.69      0.69      0.69       122\n",
            "weighted avg       0.69      0.69      0.69       122\n",
            "\n",
            "\n",
            "Test Confusion Matrix:\n",
            "\n"
          ],
          "name": "stdout"
        },
        {
          "output_type": "execute_result",
          "data": {
            "text/plain": [
              "<matplotlib.axes._subplots.AxesSubplot at 0x7f7d1a6c91d0>"
            ]
          },
          "metadata": {
            "tags": []
          },
          "execution_count": 104
        },
        {
          "output_type": "display_data",
          "data": {
            "image/png": "[encoded data removed]",
            "text/plain": [
              "<Figure size 432x288 with 2 Axes>"
            ]
          },
          "metadata": {
            "tags": [],
            "needs_background": "light"
          }
        }
      ]
    },
    {
      "cell_type": "markdown",
      "metadata": {
        "id": "3u7t1Sbgph-g"
      },
      "source": [
        "feature importance"
      ]
    },
    {
      "cell_type": "code",
      "metadata": {
        "colab": {
          "base_uri": "https://localhost:8080/",
          "height": 297
        },
        "id": "_karIPnspiGS",
        "outputId": "de9aebe9-2626-4537-9c3d-58eec364b7cd"
      },
      "source": [
        "result = permutation_importance(model_knn, testX, testY, n_repeats = 10, n_jobs = -1)\n",
        "sorted_idx = result.importances_mean.argsort()\n",
        "\n",
        "fig, ax = plt.subplots()\n",
        "ax.boxplot(result.importances[sorted_idx].T, vert = False, labels = np.array(names[sorted_idx]))\n",
        "ax.set_title(\"Permutation Importances (test set)\")\n",
        "fig.tight_layout()\n",
        "plt.show()"
      ],
      "execution_count": null,
      "outputs": [
        {
          "output_type": "display_data",
          "data": {
            "image/png": "[encoded data removed]",
            "text/plain": [
              "<Figure size 432x288 with 1 Axes>"
            ]
          },
          "metadata": {
            "tags": [],
            "needs_background": "light"
          }
        }
      ]
    },
    {
      "cell_type": "code",
      "metadata": {
        "id": "9IidIQcXpqWE"
      },
      "source": [
        ""
      ],
      "execution_count": null,
      "outputs": []
    },
    {
      "cell_type": "markdown",
      "metadata": {
        "id": "UhLxc2pipUn4"
      },
      "source": [
        "### Linear Discriminant Analysis (LDA)"
      ]
    },
    {
      "cell_type": "code",
      "metadata": {
        "colab": {
          "base_uri": "https://localhost:8080/",
          "height": 560
        },
        "id": "r_hJojETpvpv",
        "outputId": "13d183f3-7d55-42df-8054-26880979f31a"
      },
      "source": [
        "# split the data into training and testing\n",
        "(trainX, testX, trainY, testY) = train_test_split(X, Y, test_size = 0.4, random_state = 0)\n",
        "\n",
        "start = time.time()\n",
        "\n",
        "# build the LDA classifier\n",
        "model_lda = LinearDiscriminantAnalysis()\n",
        "\n",
        "# fit the LDA classifier to the training data\n",
        "model_lda.fit(trainX, trainY)\n",
        "\n",
        "end = time.time()\n",
        "print('Running LDA took', end - start, 'seconds')\n",
        "\n",
        "# predict the labels of the test set\n",
        "predictedY = model_lda.predict(testX)\n",
        "\n",
        "# print quality metrics\n",
        "print('\\nClassification Report:\\n\\n', classification_report(testY, predictedY))\n",
        "print('\\nConfusion Matrix:\\n')\n",
        "sn.heatmap(confusion_matrix(testY, predictedY), annot = True)"
      ],
      "execution_count": null,
      "outputs": [
        {
          "output_type": "stream",
          "text": [
            "Running LDA took 0.005413055419921875 seconds\n",
            "\n",
            "Classification Report:\n",
            "\n",
            "               precision    recall  f1-score   support\n",
            "\n",
            "           0       0.85      0.69      0.77        59\n",
            "           1       0.76      0.89      0.82        63\n",
            "\n",
            "    accuracy                           0.80       122\n",
            "   macro avg       0.81      0.79      0.79       122\n",
            "weighted avg       0.80      0.80      0.79       122\n",
            "\n",
            "\n",
            "Confusion Matrix:\n",
            "\n"
          ],
          "name": "stdout"
        },
        {
          "output_type": "execute_result",
          "data": {
            "text/plain": [
              "<matplotlib.axes._subplots.AxesSubplot at 0x7f7d1820a3d0>"
            ]
          },
          "metadata": {
            "tags": []
          },
          "execution_count": 106
        },
        {
          "output_type": "display_data",
          "data": {
            "image/png": "[encoded data removed]",
            "text/plain": [
              "<Figure size 432x288 with 2 Axes>"
            ]
          },
          "metadata": {
            "tags": [],
            "needs_background": "light"
          }
        }
      ]
    },
    {
      "cell_type": "markdown",
      "metadata": {
        "id": "Cjz-92yppvyQ"
      },
      "source": [
        "feature importance"
      ]
    },
    {
      "cell_type": "code",
      "metadata": {
        "colab": {
          "base_uri": "https://localhost:8080/",
          "height": 297
        },
        "id": "B2kdhZqTpv7k",
        "outputId": "d5fef829-46f3-4076-9108-d12eeceb23cd"
      },
      "source": [
        "result = permutation_importance(model_lda, testX, testY, n_repeats = 10, n_jobs = -1)\n",
        "sorted_idx = result.importances_mean.argsort()\n",
        "\n",
        "fig, ax = plt.subplots()\n",
        "ax.boxplot(result.importances[sorted_idx].T, vert = False, labels = np.array(names[sorted_idx]))\n",
        "ax.set_title(\"Permutation Importances (test set)\")\n",
        "fig.tight_layout()\n",
        "plt.show()"
      ],
      "execution_count": null,
      "outputs": [
        {
          "output_type": "display_data",
          "data": {
            "image/png": "[encoded data removed]",
            "text/plain": [
              "<Figure size 432x288 with 1 Axes>"
            ]
          },
          "metadata": {
            "tags": [],
            "needs_background": "light"
          }
        }
      ]
    },
    {
      "cell_type": "code",
      "metadata": {
        "id": "zzJi4Qafp9-D"
      },
      "source": [
        ""
      ],
      "execution_count": null,
      "outputs": []
    },
    {
      "cell_type": "markdown",
      "metadata": {
        "id": "2t3bLYpAqCsu"
      },
      "source": [
        "### Quadratic Discriminant Analysis (QDA)"
      ]
    },
    {
      "cell_type": "code",
      "metadata": {
        "colab": {
          "base_uri": "https://localhost:8080/",
          "height": 560
        },
        "id": "02DnWi_uqC4I",
        "outputId": "b7786a7b-3ce0-4e48-bacc-d2efadc90c20"
      },
      "source": [
        "# split the data into training and testing\n",
        "(trainX, testX, trainY, testY) = train_test_split(X, Y, test_size = 0.4, random_state = 0)\n",
        "\n",
        "start = time.time()\n",
        "\n",
        "# build the LDA classifier\n",
        "model_qda = QuadraticDiscriminantAnalysis(reg_param = bestAccuracy_qda_o[1])\n",
        "\n",
        "# fit the LDA classifier to the training data\n",
        "model_qda.fit(trainX, trainY)\n",
        "\n",
        "end = time.time()\n",
        "print('Running QDA took', end - start, 'seconds')\n",
        "\n",
        "# predict the labels of the test set\n",
        "predictedY = model_qda.predict(testX)\n",
        "\n",
        "# print quality metrics\n",
        "print('\\nClassification Report:\\n\\n', classification_report(testY, predictedY))\n",
        "print('\\nConfusion Matrix:\\n')\n",
        "sn.heatmap(confusion_matrix(testY, predictedY), annot = True)"
      ],
      "execution_count": null,
      "outputs": [
        {
          "output_type": "stream",
          "text": [
            "Running QDA took 0.0020956993103027344 seconds\n",
            "\n",
            "Classification Report:\n",
            "\n",
            "               precision    recall  f1-score   support\n",
            "\n",
            "           0       0.86      0.71      0.78        59\n",
            "           1       0.77      0.89      0.82        63\n",
            "\n",
            "    accuracy                           0.80       122\n",
            "   macro avg       0.81      0.80      0.80       122\n",
            "weighted avg       0.81      0.80      0.80       122\n",
            "\n",
            "\n",
            "Confusion Matrix:\n",
            "\n"
          ],
          "name": "stdout"
        },
        {
          "output_type": "execute_result",
          "data": {
            "text/plain": [
              "<matplotlib.axes._subplots.AxesSubplot at 0x7f7d17fbce10>"
            ]
          },
          "metadata": {
            "tags": []
          },
          "execution_count": 108
        },
        {
          "output_type": "display_data",
          "data": {
            "image/png": "[encoded data removed]",
            "text/plain": [
              "<Figure size 432x288 with 2 Axes>"
            ]
          },
          "metadata": {
            "tags": [],
            "needs_background": "light"
          }
        }
      ]
    },
    {
      "cell_type": "markdown",
      "metadata": {
        "id": "wfYLLcY6qNug"
      },
      "source": [
        "feature importance"
      ]
    },
    {
      "cell_type": "code",
      "metadata": {
        "colab": {
          "base_uri": "https://localhost:8080/",
          "height": 297
        },
        "id": "wHalTvCdqN44",
        "outputId": "98ad0d98-5b0a-486e-8f15-e7853fbee935"
      },
      "source": [
        "result = permutation_importance(model_qda, testX, testY, n_repeats = 10, n_jobs = -1)\n",
        "sorted_idx = result.importances_mean.argsort()\n",
        "\n",
        "fig, ax = plt.subplots()\n",
        "ax.boxplot(result.importances[sorted_idx].T, vert = False, labels = np.array(names[sorted_idx]))\n",
        "ax.set_title(\"Permutation Importances (test set)\")\n",
        "fig.tight_layout()\n",
        "plt.show()"
      ],
      "execution_count": null,
      "outputs": [
        {
          "output_type": "display_data",
          "data": {
            "image/png": "[encoded data removed]",
            "text/plain": [
              "<Figure size 432x288 with 1 Axes>"
            ]
          },
          "metadata": {
            "tags": [],
            "needs_background": "light"
          }
        }
      ]
    },
    {
      "cell_type": "markdown",
      "metadata": {
        "id": "grtY0LIeqQn1"
      },
      "source": [
        "### Decision Tree Classifier"
      ]
    },
    {
      "cell_type": "code",
      "metadata": {
        "colab": {
          "base_uri": "https://localhost:8080/",
          "height": 581
        },
        "id": "XxL09zCLqjR7",
        "outputId": "c6336c05-a07e-475f-873e-86fa61080a73"
      },
      "source": [
        "# split the data into train and test sets\n",
        "trainX, testX, trainY, testY = train_test_split(X, Y, test_size = 0.4, random_state = 0)\n",
        "\n",
        "start = time.time()\n",
        "\n",
        "# build and tune the classifier\n",
        "model_dt = DecisionTreeClassifier(max_depth = bestDepth_DT_original, max_features = bestMaxFeatures_DT_original)\n",
        "\n",
        "# fit the classifier to the training data\n",
        "model_dt.fit(trainX, trainY)\n",
        "\n",
        "end = time.time()\n",
        "print('Tuning Decision Tree Classifier took', end - start, 'seconds')\n",
        "\n",
        "# predict the labels of the test set\n",
        "predictedY = model_dt.predict(testX)\n",
        "\n",
        "# print quality metrics\n",
        "print('\\nTesting Classification Report:\\n\\n', classification_report(testY, predictedY))\n",
        "print('\\nTesting Confusion Matrix:\\n')\n",
        "\n",
        "sn.heatmap(confusion_matrix(testY, predictedY))\n",
        "plt.figure()"
      ],
      "execution_count": null,
      "outputs": [
        {
          "output_type": "stream",
          "text": [
            "Tuning Decision Tree Classifier took 0.001215219497680664 seconds\n",
            "\n",
            "Testing Classification Report:\n",
            "\n",
            "               precision    recall  f1-score   support\n",
            "\n",
            "           0       0.63      0.53      0.57        59\n",
            "           1       0.62      0.71      0.66        63\n",
            "\n",
            "    accuracy                           0.62       122\n",
            "   macro avg       0.62      0.62      0.62       122\n",
            "weighted avg       0.62      0.62      0.62       122\n",
            "\n",
            "\n",
            "Testing Confusion Matrix:\n",
            "\n"
          ],
          "name": "stdout"
        },
        {
          "output_type": "execute_result",
          "data": {
            "text/plain": [
              "<Figure size 432x288 with 0 Axes>"
            ]
          },
          "metadata": {
            "tags": []
          },
          "execution_count": 110
        },
        {
          "output_type": "display_data",
          "data": {
            "image/png": "[encoded data removed]",
            "text/plain": [
              "<Figure size 432x288 with 2 Axes>"
            ]
          },
          "metadata": {
            "tags": [],
            "needs_background": "light"
          }
        },
        {
          "output_type": "display_data",
          "data": {
            "text/plain": [
              "<Figure size 432x288 with 0 Axes>"
            ]
          },
          "metadata": {
            "tags": []
          }
        }
      ]
    },
    {
      "cell_type": "markdown",
      "metadata": {
        "id": "5bxn8vKpqjcK"
      },
      "source": [
        "feature importance"
      ]
    },
    {
      "cell_type": "code",
      "metadata": {
        "colab": {
          "base_uri": "https://localhost:8080/",
          "height": 297
        },
        "id": "Ee_YcQx0qjrP",
        "outputId": "ccc10845-2a0e-4069-8ad1-2ebf96317b89"
      },
      "source": [
        "result = permutation_importance(model_dt, testX, testY, n_repeats = 10, n_jobs = -1)\n",
        "sorted_idx = result.importances_mean.argsort()\n",
        "\n",
        "fig, ax = plt.subplots()\n",
        "ax.boxplot(result.importances[sorted_idx].T, vert = False, labels = np.array(names[sorted_idx]))\n",
        "ax.set_title(\"Permutation Importances (test set)\")\n",
        "fig.tight_layout()\n",
        "plt.show()"
      ],
      "execution_count": null,
      "outputs": [
        {
          "output_type": "display_data",
          "data": {
            "image/png": "[encoded data removed]",
            "text/plain": [
              "<Figure size 432x288 with 1 Axes>"
            ]
          },
          "metadata": {
            "tags": [],
            "needs_background": "light"
          }
        }
      ]
    },
    {
      "cell_type": "markdown",
      "metadata": {
        "id": "5u1AE_7Dqj7b"
      },
      "source": [
        "### Random Forest Classifier"
      ]
    },
    {
      "cell_type": "code",
      "metadata": {
        "colab": {
          "base_uri": "https://localhost:8080/",
          "height": 577
        },
        "id": "4Qe1H6Y1qmm9",
        "outputId": "85e68120-d759-4e3a-f9fd-73b2e288cdfb"
      },
      "source": [
        "# split the data into train and test sets\n",
        "trainX, testX, trainY, testY = train_test_split(X, Y, test_size = 0.4, random_state = 0)\n",
        "\n",
        "start = time.time()\n",
        "\n",
        "# build and tune the classifier\n",
        "model_rf = RandomForestClassifier(max_depth = bestDepth_RF_original, max_features = bestMaxFeatures_RF_original, n_estimators = bestNumEstimators_RF_original)\n",
        "\n",
        "# fit the classifier to the training data\n",
        "model_rf.fit(trainX, trainY)\n",
        "\n",
        "end = time.time()\n",
        "print('Tuning Random Forest took', end - start, 'seconds')\n",
        "\n",
        "# predict the labels of the test set\n",
        "predictedY = model_rf.predict(testX)\n",
        "\n",
        "# print quality metrics\n",
        "print('\\nTesting Classification Report:\\n\\n', classification_report(testY, predictedY))\n",
        "print('\\nTesting Confusion Matrix:\\n')\n",
        "\n",
        "sn.heatmap(confusion_matrix(testY, predictedY))\n",
        "plt.figure()"
      ],
      "execution_count": null,
      "outputs": [
        {
          "output_type": "stream",
          "text": [
            "Tuning Random Forest took 0.2580130100250244 seconds\n",
            "\n",
            "Testing Classification Report:\n",
            "\n",
            "               precision    recall  f1-score   support\n",
            "\n",
            "           0       0.83      0.75      0.79        59\n",
            "           1       0.78      0.86      0.82        63\n",
            "\n",
            "    accuracy                           0.80       122\n",
            "   macro avg       0.81      0.80      0.80       122\n",
            "weighted avg       0.81      0.80      0.80       122\n",
            "\n",
            "\n",
            "Testing Confusion Matrix:\n",
            "\n"
          ],
          "name": "stdout"
        },
        {
          "output_type": "execute_result",
          "data": {
            "text/plain": [
              "<Figure size 432x288 with 0 Axes>"
            ]
          },
          "metadata": {
            "tags": []
          },
          "execution_count": 113
        },
        {
          "output_type": "display_data",
          "data": {
            "image/png": "[encoded data removed]",
            "text/plain": [
              "<Figure size 432x288 with 2 Axes>"
            ]
          },
          "metadata": {
            "tags": [],
            "needs_background": "light"
          }
        },
        {
          "output_type": "display_data",
          "data": {
            "text/plain": [
              "<Figure size 432x288 with 0 Axes>"
            ]
          },
          "metadata": {
            "tags": []
          }
        }
      ]
    },
    {
      "cell_type": "markdown",
      "metadata": {
        "id": "7U0_Z-siqmw_"
      },
      "source": [
        ""
      ]
    },
    {
      "cell_type": "code",
      "metadata": {
        "colab": {
          "base_uri": "https://localhost:8080/",
          "height": 297
        },
        "id": "hgsbrJGPqm-X",
        "outputId": "33bae451-343b-4948-e4d8-098ed6b6631f"
      },
      "source": [
        "result = permutation_importance(model_rf, testX, testY, n_repeats = 10, n_jobs = -1)\n",
        "sorted_idx = result.importances_mean.argsort()\n",
        "\n",
        "fig, ax = plt.subplots()\n",
        "ax.boxplot(result.importances[sorted_idx].T, vert = False, labels = np.array(names[sorted_idx]))\n",
        "ax.set_title(\"Permutation Importances (test set)\")\n",
        "fig.tight_layout()\n",
        "plt.show()"
      ],
      "execution_count": null,
      "outputs": [
        {
          "output_type": "display_data",
          "data": {
            "image/png": "[encoded data removed]",
            "text/plain": [
              "<Figure size 432x288 with 1 Axes>"
            ]
          },
          "metadata": {
            "tags": [],
            "needs_background": "light"
          }
        }
      ]
    },
    {
      "cell_type": "markdown",
      "metadata": {
        "id": "AY3x4s5jqnRZ"
      },
      "source": [
        "### XGBoost Classifier"
      ]
    },
    {
      "cell_type": "code",
      "metadata": {
        "colab": {
          "base_uri": "https://localhost:8080/",
          "height": 560
        },
        "id": "TzrhssQWqrCD",
        "outputId": "55ce70e6-ff57-4082-d030-d88118b48ff8"
      },
      "source": [
        "# split the data into train and test sets\n",
        "trainX, testX, trainY, testY = train_test_split(X, Y, test_size = 0.4, random_state = 0)\n",
        "\n",
        "# set parameter values and grid search for optimal parameters\n",
        "model_xgb = XGBClassifier(max_depth = bestDepth_XGB_original, reg_lambda = bestRegLambda_XGB_original, n_jobs = -1, eval_metric='mlogloss')\n",
        "\n",
        "# fit the classifier to the training data\n",
        "model_xgb.fit(trainX, trainY)\n",
        "\n",
        "# predict the labels of the test set\n",
        "predictedY = model_xgb.predict(testX)\n",
        "\n",
        "# print quality metrics\n",
        "print('\\nTesting Classification Report:\\n\\n', classification_report(testY, predictedY))\n",
        "print('\\nTesting Confusion Matrix:\\n')\n",
        "\n",
        "sn.heatmap(confusion_matrix(testY, predictedY))\n",
        "plt.figure()"
      ],
      "execution_count": null,
      "outputs": [
        {
          "output_type": "stream",
          "text": [
            "\n",
            "Testing Classification Report:\n",
            "\n",
            "               precision    recall  f1-score   support\n",
            "\n",
            "           0       0.81      0.81      0.81        59\n",
            "           1       0.83      0.83      0.83        63\n",
            "\n",
            "    accuracy                           0.82       122\n",
            "   macro avg       0.82      0.82      0.82       122\n",
            "weighted avg       0.82      0.82      0.82       122\n",
            "\n",
            "\n",
            "Testing Confusion Matrix:\n",
            "\n"
          ],
          "name": "stdout"
        },
        {
          "output_type": "execute_result",
          "data": {
            "text/plain": [
              "<Figure size 432x288 with 0 Axes>"
            ]
          },
          "metadata": {
            "tags": []
          },
          "execution_count": 115
        },
        {
          "output_type": "display_data",
          "data": {
            "image/png": "[encoded data removed]",
            "text/plain": [
              "<Figure size 432x288 with 2 Axes>"
            ]
          },
          "metadata": {
            "tags": [],
            "needs_background": "light"
          }
        },
        {
          "output_type": "display_data",
          "data": {
            "text/plain": [
              "<Figure size 432x288 with 0 Axes>"
            ]
          },
          "metadata": {
            "tags": []
          }
        }
      ]
    },
    {
      "cell_type": "markdown",
      "metadata": {
        "id": "Hb2Wai1GqrKW"
      },
      "source": [
        ""
      ]
    },
    {
      "cell_type": "code",
      "metadata": {
        "colab": {
          "base_uri": "https://localhost:8080/",
          "height": 297
        },
        "id": "H28RW42zqrTo",
        "outputId": "c76220fb-1c2b-4ca1-f55e-e3e8716a7ff1"
      },
      "source": [
        "result = permutation_importance(model_xgb, testX, testY, n_repeats = 10, n_jobs = -1)\n",
        "sorted_idx = result.importances_mean.argsort()\n",
        "\n",
        "fig, ax = plt.subplots()\n",
        "ax.boxplot(result.importances[sorted_idx].T, vert = False, labels = np.array(names[sorted_idx]))\n",
        "ax.set_title(\"Permutation Importances (test set)\")\n",
        "fig.tight_layout()\n",
        "plt.show()"
      ],
      "execution_count": null,
      "outputs": [
        {
          "output_type": "display_data",
          "data": {
            "image/png": "[encoded data removed]",
            "text/plain": [
              "<Figure size 432x288 with 1 Axes>"
            ]
          },
          "metadata": {
            "tags": [],
            "needs_background": "light"
          }
        }
      ]
    },
    {
      "cell_type": "markdown",
      "metadata": {
        "id": "Dj8VHCVTj4Ga"
      },
      "source": [
        "## Clustering"
      ]
    },
    {
      "cell_type": "markdown",
      "metadata": {
        "id": "M_zpmKQMj72H"
      },
      "source": [
        ""
      ]
    },
    {
      "cell_type": "code",
      "metadata": {
        "id": "YN0puXylj7Fh"
      },
      "source": [
        "sklearn.clustering.DBSCAN\n",
        "sklearn.clustering.OPTICS\n"
      ],
      "execution_count": null,
      "outputs": []
    },
    {
      "cell_type": "markdown",
      "metadata": {
        "id": "H_LmQCDRCJFZ"
      },
      "source": [
        "## Conclusions"
      ]
    },
    {
      "cell_type": "code",
      "metadata": {
        "id": "fTvy1nZ_CMFV"
      },
      "source": [
        ""
      ],
      "execution_count": null,
      "outputs": []
    }
  ]
}