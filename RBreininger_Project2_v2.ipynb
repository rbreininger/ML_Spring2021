{
  "nbformat": 4,
  "nbformat_minor": 0,
  "metadata": {
    "colab": {
      "name": "RBreininger_Project2_v2.ipynb",
      "provenance": [],
      "collapsed_sections": []
    },
    "kernelspec": {
      "name": "python3",
      "display_name": "Python 3"
    },
    "language_info": {
      "name": "python"
    }
  },
  "cells": [
    {
      "cell_type": "markdown",
      "metadata": {
        "id": "jgtVOkXHBnJi"
      },
      "source": [
        "## Problem Statement\n",
        "\n",
        "The goal of this project is to see what classifiers work best in predicting heart disease. The data comes from the Univeristy of California Irvine (https://www.kaggle.com/ronitf/heart-disease-uci), specifically the Cleveland database. The data dimension is 303 x 14, consisting of 303 individuals and 13 health-based factors with 1 target variable (representing presence of heart disease). The original dataset had 76 attributes, but all published research only uses the selected 14.\n",
        "\n",
        "First, the data will be preprocessed through dimensionality reduction methods, specifically Principal Component Analysis (PCA) and t-distributed Stochastic Embedding (tSNE). The purpose of this is to see if data compression will improve performance. Specifically, the compressed datasets will be compared\n",
        "to the regular dataset to see whether using PCA or tSNE will improve the performance of the classifiers.\n",
        "\n",
        "Then, each of those data sets will be used in several classification methods to see which one will perform the best for the dataset. Before hyperparameter tuning, feature importance will be performed so that a subset of the most features are used for the classification. The feature importance will give a ranking of the features. Then, those features are added into the classification model one at a time to see which set of features produces the best accuracy. After feature selection, the classifiers will be compared using f1-score and accuracy. \n"
      ]
    },
    {
      "cell_type": "code",
      "metadata": {
        "id": "YagTcj2aGBqH"
      },
      "source": [
        "import numpy as np # data manipulation\n",
        "import pandas as pd # data manipulation\n",
        "import copy\n",
        "import seaborn as sn\n",
        "import time # for timing\n",
        "import matplotlib.pyplot as plt # plotting\n",
        "import io # for importing data\n",
        "from google.colab import files # upload files\n",
        "\n",
        "from sklearn.preprocessing import scale # preprocessing\n",
        "from sklearn.inspection import permutation_importance # feature importance\n",
        "from sklearn.manifold import TSNE\n",
        "from sklearn.model_selection import train_test_split # to split into training and testing\n",
        "\n",
        "# classifiers\n",
        "from sklearn.linear_model import LogisticRegression # logistic regression\n",
        "from sklearn.linear_model import LogisticRegressionCV # logistic regression cross-validation tuning\n",
        "from sklearn.discriminant_analysis import LinearDiscriminantAnalysis # LDA\n",
        "from sklearn.discriminant_analysis import QuadraticDiscriminantAnalysis # QDA\n",
        "from sklearn.tree import DecisionTreeClassifier # decision tree\n",
        "from sklearn.ensemble import RandomForestClassifier # random forest\n",
        "from xgboost import XGBClassifier # xgboost\n",
        "from sklearn.model_selection import GridSearchCV # hyperparameter tuning method\n",
        "\n",
        "# decision metrics\n",
        "from sklearn.model_selection import cross_val_score\n",
        "from sklearn.metrics import classification_report \n",
        "from sklearn.metrics import confusion_matrix\n",
        "from sklearn.metrics import accuracy_score"
      ],
      "execution_count": 1,
      "outputs": []
    },
    {
      "cell_type": "markdown",
      "metadata": {
        "id": "tvdH2v2lBqoB"
      },
      "source": [
        "## Data Loading\n",
        "\n",
        "As mentioned before, the data comes from the Univeristy of California Irvine (https://www.kaggle.com/ronitf/heart-disease-uci), specifically the Cleveland database.\n",
        "The attributes of the given dataset are as follows.\n",
        "1. age\n",
        "2. sex\n",
        "3. cp (chest pain type)\n",
        "4. trestbps (resting blood pressure)\n",
        "5. chol (serum cholestoral in mg/dl)\n",
        "6. fbs (fasting blood sugar > 120 mg/dl)\n",
        "7. restecg (resting electrocardiographic results)\n",
        "8. thalach (maximum heart rate achieved)\n",
        "9. exang (exercise induced angina)\n",
        "10. oldpeak (ST depression induced by exercise relative to rest)\n",
        "11. slope (the slope of the peak exercise ST segment)\n",
        "12. ca (number of major vessels colored by flourosopy)\n",
        "13. thal (presence and type of defect)\n",
        "14. target (presence of heart disease)\n",
        "\n",
        "The dataset is uploaded to Google Colab.\n",
        "\n",
        "There is no preprocessing that needs to occur for this dataset. This is because prior to being uploaded to Kaggle, this dataset was already preprocessed and filtered. It originally had 72 factors, which was filtered down to 13 (14 with targets)."
      ]
    },
    {
      "cell_type": "code",
      "metadata": {
        "id": "k3ZpFHP3BRx8",
        "colab": {
          "resources": {
            "http://localhost:8080/nbextensions/google.colab/files.js": {
              "data": "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",
              "ok": true,
              "headers": [
                [
                  "content-type",
                  "application/javascript"
                ]
              ],
              "status": 200,
              "status_text": ""
            }
          },
          "base_uri": "https://localhost:8080/",
          "height": 471
        },
        "outputId": "692b4ed6-079e-4bbf-c262-1512839e5775"
      },
      "source": [
        "uploaded = files.upload()\n",
        "DATA = pd.read_csv(io.BytesIO(uploaded['heart.csv']))\n",
        "DATA"
      ],
      "execution_count": 3,
      "outputs": [
        {
          "output_type": "display_data",
          "data": {
            "text/html": [
              "\n",
              "     <input type=\"file\" id=\"files-820d855f-38f1-41cb-9e70-4df703af3593\" name=\"files[]\" multiple disabled\n",
              "        style=\"border:none\" />\n",
              "     <output id=\"result-820d855f-38f1-41cb-9e70-4df703af3593\">\n",
              "      Upload widget is only available when the cell has been executed in the\n",
              "      current browser session. Please rerun this cell to enable.\n",
              "      </output>\n",
              "      <script src=\"/nbextensions/google.colab/files.js\"></script> "
            ],
            "text/plain": [
              "<IPython.core.display.HTML object>"
            ]
          },
          "metadata": {
            "tags": []
          }
        },
        {
          "output_type": "stream",
          "text": [
            "Saving heart.csv to heart.csv\n"
          ],
          "name": "stdout"
        },
        {
          "output_type": "execute_result",
          "data": {
            "text/html": [
              "<div>\n",
              "<style scoped>\n",
              "    .dataframe tbody tr th:only-of-type {\n",
              "        vertical-align: middle;\n",
              "    }\n",
              "\n",
              "    .dataframe tbody tr th {\n",
              "        vertical-align: top;\n",
              "    }\n",
              "\n",
              "    .dataframe thead th {\n",
              "        text-align: right;\n",
              "    }\n",
              "</style>\n",
              "<table border=\"1\" class=\"dataframe\">\n",
              "  <thead>\n",
              "    <tr style=\"text-align: right;\">\n",
              "      <th></th>\n",
              "      <th>age</th>\n",
              "      <th>sex</th>\n",
              "      <th>cp</th>\n",
              "      <th>trestbps</th>\n",
              "      <th>chol</th>\n",
              "      <th>fbs</th>\n",
              "      <th>restecg</th>\n",
              "      <th>thalach</th>\n",
              "      <th>exang</th>\n",
              "      <th>oldpeak</th>\n",
              "      <th>slope</th>\n",
              "      <th>ca</th>\n",
              "      <th>thal</th>\n",
              "      <th>target</th>\n",
              "    </tr>\n",
              "  </thead>\n",
              "  <tbody>\n",
              "    <tr>\n",
              "      <th>0</th>\n",
              "      <td>63</td>\n",
              "      <td>1</td>\n",
              "      <td>3</td>\n",
              "      <td>145</td>\n",
              "      <td>233</td>\n",
              "      <td>1</td>\n",
              "      <td>0</td>\n",
              "      <td>150</td>\n",
              "      <td>0</td>\n",
              "      <td>2.3</td>\n",
              "      <td>0</td>\n",
              "      <td>0</td>\n",
              "      <td>1</td>\n",
              "      <td>1</td>\n",
              "    </tr>\n",
              "    <tr>\n",
              "      <th>1</th>\n",
              "      <td>37</td>\n",
              "      <td>1</td>\n",
              "      <td>2</td>\n",
              "      <td>130</td>\n",
              "      <td>250</td>\n",
              "      <td>0</td>\n",
              "      <td>1</td>\n",
              "      <td>187</td>\n",
              "      <td>0</td>\n",
              "      <td>3.5</td>\n",
              "      <td>0</td>\n",
              "      <td>0</td>\n",
              "      <td>2</td>\n",
              "      <td>1</td>\n",
              "    </tr>\n",
              "    <tr>\n",
              "      <th>2</th>\n",
              "      <td>41</td>\n",
              "      <td>0</td>\n",
              "      <td>1</td>\n",
              "      <td>130</td>\n",
              "      <td>204</td>\n",
              "      <td>0</td>\n",
              "      <td>0</td>\n",
              "      <td>172</td>\n",
              "      <td>0</td>\n",
              "      <td>1.4</td>\n",
              "      <td>2</td>\n",
              "      <td>0</td>\n",
              "      <td>2</td>\n",
              "      <td>1</td>\n",
              "    </tr>\n",
              "    <tr>\n",
              "      <th>3</th>\n",
              "      <td>56</td>\n",
              "      <td>1</td>\n",
              "      <td>1</td>\n",
              "      <td>120</td>\n",
              "      <td>236</td>\n",
              "      <td>0</td>\n",
              "      <td>1</td>\n",
              "      <td>178</td>\n",
              "      <td>0</td>\n",
              "      <td>0.8</td>\n",
              "      <td>2</td>\n",
              "      <td>0</td>\n",
              "      <td>2</td>\n",
              "      <td>1</td>\n",
              "    </tr>\n",
              "    <tr>\n",
              "      <th>4</th>\n",
              "      <td>57</td>\n",
              "      <td>0</td>\n",
              "      <td>0</td>\n",
              "      <td>120</td>\n",
              "      <td>354</td>\n",
              "      <td>0</td>\n",
              "      <td>1</td>\n",
              "      <td>163</td>\n",
              "      <td>1</td>\n",
              "      <td>0.6</td>\n",
              "      <td>2</td>\n",
              "      <td>0</td>\n",
              "      <td>2</td>\n",
              "      <td>1</td>\n",
              "    </tr>\n",
              "    <tr>\n",
              "      <th>...</th>\n",
              "      <td>...</td>\n",
              "      <td>...</td>\n",
              "      <td>...</td>\n",
              "      <td>...</td>\n",
              "      <td>...</td>\n",
              "      <td>...</td>\n",
              "      <td>...</td>\n",
              "      <td>...</td>\n",
              "      <td>...</td>\n",
              "      <td>...</td>\n",
              "      <td>...</td>\n",
              "      <td>...</td>\n",
              "      <td>...</td>\n",
              "      <td>...</td>\n",
              "    </tr>\n",
              "    <tr>\n",
              "      <th>298</th>\n",
              "      <td>57</td>\n",
              "      <td>0</td>\n",
              "      <td>0</td>\n",
              "      <td>140</td>\n",
              "      <td>241</td>\n",
              "      <td>0</td>\n",
              "      <td>1</td>\n",
              "      <td>123</td>\n",
              "      <td>1</td>\n",
              "      <td>0.2</td>\n",
              "      <td>1</td>\n",
              "      <td>0</td>\n",
              "      <td>3</td>\n",
              "      <td>0</td>\n",
              "    </tr>\n",
              "    <tr>\n",
              "      <th>299</th>\n",
              "      <td>45</td>\n",
              "      <td>1</td>\n",
              "      <td>3</td>\n",
              "      <td>110</td>\n",
              "      <td>264</td>\n",
              "      <td>0</td>\n",
              "      <td>1</td>\n",
              "      <td>132</td>\n",
              "      <td>0</td>\n",
              "      <td>1.2</td>\n",
              "      <td>1</td>\n",
              "      <td>0</td>\n",
              "      <td>3</td>\n",
              "      <td>0</td>\n",
              "    </tr>\n",
              "    <tr>\n",
              "      <th>300</th>\n",
              "      <td>68</td>\n",
              "      <td>1</td>\n",
              "      <td>0</td>\n",
              "      <td>144</td>\n",
              "      <td>193</td>\n",
              "      <td>1</td>\n",
              "      <td>1</td>\n",
              "      <td>141</td>\n",
              "      <td>0</td>\n",
              "      <td>3.4</td>\n",
              "      <td>1</td>\n",
              "      <td>2</td>\n",
              "      <td>3</td>\n",
              "      <td>0</td>\n",
              "    </tr>\n",
              "    <tr>\n",
              "      <th>301</th>\n",
              "      <td>57</td>\n",
              "      <td>1</td>\n",
              "      <td>0</td>\n",
              "      <td>130</td>\n",
              "      <td>131</td>\n",
              "      <td>0</td>\n",
              "      <td>1</td>\n",
              "      <td>115</td>\n",
              "      <td>1</td>\n",
              "      <td>1.2</td>\n",
              "      <td>1</td>\n",
              "      <td>1</td>\n",
              "      <td>3</td>\n",
              "      <td>0</td>\n",
              "    </tr>\n",
              "    <tr>\n",
              "      <th>302</th>\n",
              "      <td>57</td>\n",
              "      <td>0</td>\n",
              "      <td>1</td>\n",
              "      <td>130</td>\n",
              "      <td>236</td>\n",
              "      <td>0</td>\n",
              "      <td>0</td>\n",
              "      <td>174</td>\n",
              "      <td>0</td>\n",
              "      <td>0.0</td>\n",
              "      <td>1</td>\n",
              "      <td>1</td>\n",
              "      <td>2</td>\n",
              "      <td>0</td>\n",
              "    </tr>\n",
              "  </tbody>\n",
              "</table>\n",
              "<p>303 rows × 14 columns</p>\n",
              "</div>"
            ],
            "text/plain": [
              "     age  sex  cp  trestbps  chol  fbs  ...  exang  oldpeak  slope  ca  thal  target\n",
              "0     63    1   3       145   233    1  ...      0      2.3      0   0     1       1\n",
              "1     37    1   2       130   250    0  ...      0      3.5      0   0     2       1\n",
              "2     41    0   1       130   204    0  ...      0      1.4      2   0     2       1\n",
              "3     56    1   1       120   236    0  ...      0      0.8      2   0     2       1\n",
              "4     57    0   0       120   354    0  ...      1      0.6      2   0     2       1\n",
              "..   ...  ...  ..       ...   ...  ...  ...    ...      ...    ...  ..   ...     ...\n",
              "298   57    0   0       140   241    0  ...      1      0.2      1   0     3       0\n",
              "299   45    1   3       110   264    0  ...      0      1.2      1   0     3       0\n",
              "300   68    1   0       144   193    1  ...      0      3.4      1   2     3       0\n",
              "301   57    1   0       130   131    0  ...      1      1.2      1   1     3       0\n",
              "302   57    0   1       130   236    0  ...      0      0.0      1   1     2       0\n",
              "\n",
              "[303 rows x 14 columns]"
            ]
          },
          "metadata": {
            "tags": []
          },
          "execution_count": 3
        }
      ]
    },
    {
      "cell_type": "markdown",
      "metadata": {
        "id": "ykONTy_cGHur"
      },
      "source": [
        "Now that the data is loaded, the targets are stored as a seperate variable and the factors are all stored as an 'X' variable."
      ]
    },
    {
      "cell_type": "code",
      "metadata": {
        "id": "FHSEyapiGIBd"
      },
      "source": [
        "# split up data into \n",
        "X = DATA.drop(['target'], axis=1)\n",
        "names = X.columns\n",
        "X = X.to_numpy()\n",
        "Y = DATA['target'].to_numpy()"
      ],
      "execution_count": 4,
      "outputs": []
    },
    {
      "cell_type": "markdown",
      "metadata": {
        "id": "wvsQ4AkMBxEb"
      },
      "source": [
        "## Dimensionality Reduction\n",
        "\n",
        "Dimensionality Reduction is used to transform data from a high-dimensional space into a low-dimensional space, so that the low-dimensional data retains some of the meaningful properties of the original data.\n",
        "\n",
        "For this project, we want to see if using dimensionality reduction methods will improve the accuracy of the classification methods that will be used."
      ]
    },
    {
      "cell_type": "markdown",
      "metadata": {
        "id": "eZFPvJXgqGyc"
      },
      "source": [
        "### Principal Component Analysis\n",
        "\n",
        "Principal Component Analysis is a dimensionality reduction method that uses linear algebra to map the original data into a lower dimensional version of the data that retains a percentage of the variance of the original data."
      ]
    },
    {
      "cell_type": "code",
      "metadata": {
        "id": "6bDM7WIBB1Cl"
      },
      "source": [
        "# Principal component analysis\n",
        "def PCA(X, alpha):        \n",
        "    # find the original dimension and print it\n",
        "    dimension = X.shape[1]\n",
        "    print('The original dimension of the data is', dimension)\n",
        "    \n",
        "    # center D to have mean 0\n",
        "    X -= np.mean(X, axis=0)\n",
        "    \n",
        "    # compute the covariance matrix\n",
        "    Sigma = (1/X.shape[0]) * X.T @ X\n",
        "\n",
        "    # compute the eigenvalues and eigenvectors of D^T D\n",
        "    (eValues, eVectors) = np.linalg.eigh(Sigma)\n",
        "\n",
        "    # compute the total variance\n",
        "    varX = np.sum(eValues)\n",
        "    \n",
        "    # initialize the variance for A to 0\n",
        "    varA = 0.0\n",
        "    \n",
        "    # reverse eValues and eVectors\n",
        "    eValues = np.flip(eValues)\n",
        "    eVectors = np.flip(eVectors, axis=1)\n",
        "\n",
        "    # find the minimum dimension consisting of fraction at least alpha of the total variance\n",
        "    for r in np.arange(0, eValues.shape[0]):\n",
        "        varA += eValues[r]\n",
        "        ratio = varA/varX\n",
        "\n",
        "        if ratio > alpha:\n",
        "            dimension = r + 1\n",
        "            print('The new dimension of the data is', dimension, 'and it explains', ratio, 'of the variance')\n",
        "            break\n",
        "            \n",
        "    # construct the new basis\n",
        "    basis = eVectors[:,:dimension]\n",
        "    \n",
        "    # create the datapoints in the new space\n",
        "    A = X @ basis\n",
        "    \n",
        "    # return points\n",
        "    return A"
      ],
      "execution_count": 5,
      "outputs": []
    },
    {
      "cell_type": "markdown",
      "metadata": {
        "id": "NOYg_kIzyQ9L"
      },
      "source": [
        "We want to select principal components so that we are able to explain at least 95% of the variance in the data."
      ]
    },
    {
      "cell_type": "code",
      "metadata": {
        "id": "xBkboVEKIYgj",
        "colab": {
          "base_uri": "https://localhost:8080/"
        },
        "outputId": "32879f44-3a36-400e-cf51-754184a1c3f5"
      },
      "source": [
        "start = time.time()\n",
        "\n",
        "# Apply PCA to the data\n",
        "X_pca = PCA(X, 0.95)\n",
        "\n",
        "end = time.time()\n",
        "print('PCA took', end-start, 'seconds')"
      ],
      "execution_count": 6,
      "outputs": [
        {
          "output_type": "stream",
          "text": [
            "The original dimension of the data is 13\n",
            "The new dimension of the data is 3 and it explains 0.9825312669267827 of the variance\n",
            "PCA took 0.0312502384185791 seconds\n"
          ],
          "name": "stdout"
        }
      ]
    },
    {
      "cell_type": "markdown",
      "metadata": {
        "id": "L9hxa4JfqIml"
      },
      "source": [
        "### t-distributed Stochastic Neighbor Embedding (tSNE)\n",
        "\n",
        "t-distributed Stochastic Neighbor Embedding (tSNE) is a nonlinear dimensionality reduction method that takes high dimensional data and converts it to a 2-dimensional or 3-dimensional dataset.\n",
        "\n",
        "Specifically, tSNE creates a probability distribution of the original dataset, where similar objects are given a higher probability and dissimilar points are given a lower probability. Then, a similar probability distribution is created for a 2-D/3-D map. The method will minimize the Kullback–Leibler (KL) divergence between the two distributions, with respect to the distances (baseline is Euclidean distance) between points.\n",
        "\n",
        "We want to select 3 components that will explain the most about the data, i.e. map the original dataset to 2-dimension."
      ]
    },
    {
      "cell_type": "code",
      "metadata": {
        "colab": {
          "base_uri": "https://localhost:8080/"
        },
        "id": "4W8tMyBoqIxJ",
        "outputId": "82fd030f-9e21-4084-e362-4bea239f6d6e"
      },
      "source": [
        "start = time.time()\n",
        "\n",
        "# Apply PCA to the data\n",
        "X_tsne = TSNE(n_components = 3).fit_transform(X)\n",
        "\n",
        "end = time.time()\n",
        "print('tSNE took', end-start, 'seconds')"
      ],
      "execution_count": 33,
      "outputs": [
        {
          "output_type": "stream",
          "text": [
            "tSNE took 6.38012170791626 seconds\n"
          ],
          "name": "stdout"
        }
      ]
    },
    {
      "cell_type": "markdown",
      "metadata": {
        "id": "0WKuSlxgB1L_"
      },
      "source": [
        "## Classification Methods: Feature Importance and Hyperparameter Tuning\n",
        "\n",
        "Several classification methods will be used to try and predict heart disease. For each of the models, feature importance will be found and then hyperparameter tuning will be performed to obtain the best accuracy for each model. Then, the subsetted dataset will be compressed using PCA and tSNE, to see if dimensionality reduction will improve the accuracy of the model.\n",
        "\n",
        "The classification methods that will be used are listed below.\n",
        "1. Logistical Regression\n",
        "2. Linear Discriminant Analysis (LDA)\n",
        "3. Quadrantic Discriminant Analysis (QDA)\n",
        "4. Decision Tree Classifier.\n",
        "5. Random Forest Classifier\n",
        "6. XGBoost Classifier\n",
        "\n",
        "The decision tree classifier, the random forest classifier and the XGBoost classifier are able to use the CART algorithm for feature importance implemented in scikit-learn. This will be used to rank the features into a list so that they can be added into the models one feature at a time. The number of features with the highest accuracy will be used for hyperparameter tuning.\n",
        "\n",
        "In order to obtain a ranked list of features for the models that cannot use the CART algorithm, the permutation importance of the testing set is performed to find that list."
      ]
    },
    {
      "cell_type": "markdown",
      "metadata": {
        "id": "YACkVAw3B5ak"
      },
      "source": [
        "### Logistic Regression\n",
        "\n",
        "Logistical Regression is a regression method that minimizes the binary cross-entropy loss function, which uses the logistic function to convert the predicted values into binary results. \n",
        "\n",
        "First, we will run an inital model so that feature importance can be calculated."
      ]
    },
    {
      "cell_type": "code",
      "metadata": {
        "colab": {
          "base_uri": "https://localhost:8080/",
          "height": 560
        },
        "id": "rHXq_ys9tBQv",
        "outputId": "bb86babe-3d42-4f93-ce4d-ccfe4b4463a8"
      },
      "source": [
        "# split the data into training and testing\n",
        "(trainX, testX, trainY, testY) = train_test_split(X, Y, test_size = 0.4, random_state = 0)\n",
        "\n",
        "start = time.time() # time how long it takes to find the model\n",
        "\n",
        "# create model\n",
        "model_lr = LogisticRegression(C = 2, max_iter = 10000)\n",
        "model_lr.fit(trainX, trainY)\n",
        "\n",
        "end = time.time()\n",
        "print('Running Logistic Regression Model took', end - start, 'seconds')\n",
        "\n",
        "# predict the labels of the test set\n",
        "predictedY = model_lr.predict(testX)\n",
        "\n",
        "# print quality metrics\n",
        "print('\\nClassification Report:\\n\\n', classification_report(testY, predictedY))\n",
        "print('\\nConfusion Matrix:\\n')\n",
        "\n",
        "sn.heatmap(confusion_matrix(testY, predictedY), annot = True)"
      ],
      "execution_count": 45,
      "outputs": [
        {
          "output_type": "stream",
          "text": [
            "Running Logistic Regression Model took 0.03550529479980469 seconds\n",
            "\n",
            "Classification Report:\n",
            "\n",
            "               precision    recall  f1-score   support\n",
            "\n",
            "           0       0.85      0.78      0.81        59\n",
            "           1       0.81      0.87      0.84        63\n",
            "\n",
            "    accuracy                           0.83       122\n",
            "   macro avg       0.83      0.83      0.83       122\n",
            "weighted avg       0.83      0.83      0.83       122\n",
            "\n",
            "\n",
            "Confusion Matrix:\n",
            "\n"
          ],
          "name": "stdout"
        },
        {
          "output_type": "execute_result",
          "data": {
            "text/plain": [
              "<matplotlib.axes._subplots.AxesSubplot at 0x7f9feebe4b90>"
            ]
          },
          "metadata": {
            "tags": []
          },
          "execution_count": 45
        },
        {
          "output_type": "display_data",
          "data": {
            "image/png": "[encoded data removed]",
            "text/plain": [
              "<Figure size 432x288 with 2 Axes>"
            ]
          },
          "metadata": {
            "tags": [],
            "needs_background": "light"
          }
        }
      ]
    },
    {
      "cell_type": "markdown",
      "metadata": {
        "id": "YD9PNBVr-TGJ"
      },
      "source": [
        "We can see that logistic regression predicts the classes with an accuracy of 0.83.\n",
        "\n",
        "The ranked list of features is then found using permutation importance and the model coefficients."
      ]
    },
    {
      "cell_type": "code",
      "metadata": {
        "colab": {
          "base_uri": "https://localhost:8080/",
          "height": 297
        },
        "id": "Ij7WQwTu-0nI",
        "outputId": "34962a5f-96bb-46e6-92aa-7ec2359ad120"
      },
      "source": [
        "result = permutation_importance(model_lr, testX, testY, n_repeats = 10, n_jobs = -1)\n",
        "sorted_idx = result.importances_mean.argsort()\n",
        "\n",
        "fig, ax = plt.subplots()\n",
        "ax.boxplot(result.importances[sorted_idx].T, vert = False, labels = names[sorted_idx])\n",
        "ax.set_title(\"Permutation Importances (test set)\")\n",
        "fig.tight_layout()\n",
        "plt.show()"
      ],
      "execution_count": 52,
      "outputs": [
        {
          "output_type": "display_data",
          "data": {
            "image/png": "[encoded data removed]",
            "text/plain": [
              "<Figure size 432x288 with 1 Axes>"
            ]
          },
          "metadata": {
            "tags": [],
            "needs_background": "light"
          }
        }
      ]
    },
    {
      "cell_type": "markdown",
      "metadata": {
        "id": "cM5Zy0ARMNZo"
      },
      "source": [
        "Now, the features are added into the model, one feature at a time in order of their calculated importance."
      ]
    },
    {
      "cell_type": "code",
      "metadata": {
        "colab": {
          "base_uri": "https://localhost:8080/"
        },
        "id": "qs0Sfjco_9zM",
        "outputId": "e2a713e3-4ce0-4998-990a-0894526f6cf0"
      },
      "source": [
        "bestAccuracy = [0, 0]\n",
        "\n",
        "# intializing the first term\n",
        "tempNames = []\n",
        "tempNames.append(names[sorted_idx[12]])\n",
        "\n",
        "start = time.time()\n",
        "\n",
        "for i in range(12):\n",
        "\n",
        "  # adding the other features based on their importance\n",
        "  tempNames.append(names[sorted_idx[12-i]])\n",
        "\n",
        "  # create new X term\n",
        "  tempX = DATA[tempNames].to_numpy()\n",
        "\n",
        "  # split the data into train and test sets\n",
        "  trainX, testX, trainY, testY = train_test_split(tempX, Y, test_size = 0.4, random_state = 0)\n",
        "\n",
        "  # build and tune the classifier\n",
        "  model_lr = LogisticRegression(C = 2, max_iter = 10000)\n",
        "\n",
        "  # fit the classifier to the training data\n",
        "  model_lr.fit(trainX, trainY)  \n",
        "\n",
        "  # predict the labels of the test set\n",
        "  predictedY = model_lr.predict(testX)\n",
        "\n",
        "  # find the mean cross-validation accuracy\n",
        "  mean_cv_scores = np.mean(cross_val_score(model_lr, trainX, trainY, cv = 5))\n",
        "    \n",
        "  # save the hyperparameter reg_param if better than found before\n",
        "  if mean_cv_scores > bestAccuracy[0]:\n",
        "      bestAccuracy = [mean_cv_scores, i+1]\n",
        "\n",
        "end = time.time()\n",
        "print('Feature testing took', end - start, 'seconds')\n",
        "\n",
        "print('\\nThe best dev accuracy', bestAccuracy[0], 'occured with', bestAccuracy[1], 'features')"
      ],
      "execution_count": 53,
      "outputs": [
        {
          "output_type": "stream",
          "text": [
            "Feature testing took 2.8833484649658203 seconds\n",
            "\n",
            "The best dev accuracy 0.8342342342342344 occured with 10 features\n"
          ],
          "name": "stdout"
        }
      ]
    },
    {
      "cell_type": "markdown",
      "metadata": {
        "id": "XSnPEUGaXzo8"
      },
      "source": [
        "Now, the model will be run with the new set of features."
      ]
    },
    {
      "cell_type": "code",
      "metadata": {
        "colab": {
          "base_uri": "https://localhost:8080/",
          "height": 560
        },
        "id": "q5MGPp1jXzwO",
        "outputId": "e8745b61-3ad9-4f04-dc15-f126ffe0d30a"
      },
      "source": [
        "# create new list of feature names\n",
        "newNames = []\n",
        "\n",
        "# add features into new name list\n",
        "for i in range(bestAccuracy[1]):\n",
        "  newNames.append(names[sorted_idx[12-i]])\n",
        "\n",
        "# create new X term\n",
        "newX_o = DATA[newNames].to_numpy()\n",
        "\n",
        "# create model\n",
        "model_lr = LogisticRegression(C = 2, max_iter = 10000)\n",
        "model_lr.fit(trainX, trainY)\n",
        "\n",
        "end = time.time()\n",
        "print('Running Logistic Regression Model took', end - start, 'seconds')\n",
        "\n",
        "# predict the labels of the test set\n",
        "predictedY = model_lr.predict(testX)\n",
        "\n",
        "# print quality metrics\n",
        "print('\\nClassification Report:\\n\\n', classification_report(testY, predictedY))\n",
        "print('\\nConfusion Matrix:\\n')\n",
        "\n",
        "sn.heatmap(confusion_matrix(testY, predictedY), annot = True)"
      ],
      "execution_count": 54,
      "outputs": [
        {
          "output_type": "stream",
          "text": [
            "Running Logistic Regression Model took 7.933320999145508 seconds\n",
            "\n",
            "Classification Report:\n",
            "\n",
            "               precision    recall  f1-score   support\n",
            "\n",
            "           0       0.79      0.69      0.74        59\n",
            "           1       0.74      0.83      0.78        63\n",
            "\n",
            "    accuracy                           0.76       122\n",
            "   macro avg       0.77      0.76      0.76       122\n",
            "weighted avg       0.76      0.76      0.76       122\n",
            "\n",
            "\n",
            "Confusion Matrix:\n",
            "\n"
          ],
          "name": "stdout"
        },
        {
          "output_type": "execute_result",
          "data": {
            "text/plain": [
              "<matplotlib.axes._subplots.AxesSubplot at 0x7f9fee6f8790>"
            ]
          },
          "metadata": {
            "tags": []
          },
          "execution_count": 54
        },
        {
          "output_type": "display_data",
          "data": {
            "image/png": "[encoded data removed]",
            "text/plain": [
              "<Figure size 432x288 with 2 Axes>"
            ]
          },
          "metadata": {
            "tags": [],
            "needs_background": "light"
          }
        }
      ]
    },
    {
      "cell_type": "markdown",
      "metadata": {
        "id": "rXG3ivJ7X54Y"
      },
      "source": [
        "We can see that the accuracy saw no improvement with the feature selection. However, if we do dimensionality reduction on this new dataset, we can compare the accuracy of the new compressed data with the inital compressed data.\n",
        "\n",
        "First, we run the the original PCA dataset to find if PCA can improve the accuracy."
      ]
    },
    {
      "cell_type": "code",
      "metadata": {
        "colab": {
          "base_uri": "https://localhost:8080/",
          "height": 564
        },
        "id": "W3lIBFx_xQPb",
        "outputId": "333d1b98-f84e-4e82-ea59-878971c65298"
      },
      "source": [
        "# split the data into training and testing\n",
        "(trainX, testX, trainY, testY) = train_test_split(X_pca, Y, test_size = 0.4, random_state = 0)\n",
        "\n",
        "start = time.time() # time how long it takes to find the model\n",
        "\n",
        "# create model\n",
        "model_lr = LogisticRegression(C = 2, max_iter = 10000)\n",
        "model_lr.fit(trainX, trainY)\n",
        "\n",
        "end = time.time()\n",
        "print('Running Logistic Regression Model took', end - start, 'seconds')\n",
        "\n",
        "# predict the labels of the test set\n",
        "predictedY = model_lr.predict(testX)\n",
        "\n",
        "# print quality metrics\n",
        "print('\\nClassification Report:\\n\\n', classification_report(testY, predictedY))\n",
        "print('\\nConfusion Matrix:\\n')\n",
        "\n",
        "sn.heatmap(confusion_matrix(testY, predictedY), annot = True)"
      ],
      "execution_count": 55,
      "outputs": [
        {
          "output_type": "stream",
          "text": [
            "Running Logistic Regression Model took 0.005211830139160156 seconds\n",
            "\n",
            "Classification Report:\n",
            "\n",
            "               precision    recall  f1-score   support\n",
            "\n",
            "           0       0.70      0.51      0.59        59\n",
            "           1       0.63      0.79      0.70        63\n",
            "\n",
            "    accuracy                           0.66       122\n",
            "   macro avg       0.67      0.65      0.65       122\n",
            "weighted avg       0.66      0.66      0.65       122\n",
            "\n",
            "\n",
            "Confusion Matrix:\n",
            "\n"
          ],
          "name": "stdout"
        },
        {
          "output_type": "execute_result",
          "data": {
            "text/plain": [
              "<matplotlib.axes._subplots.AxesSubplot at 0x7f9fee6a8c50>"
            ]
          },
          "metadata": {
            "tags": []
          },
          "execution_count": 55
        },
        {
          "output_type": "display_data",
          "data": {
            "image/png": "[encoded data removed]",
            "text/plain": [
              "<Figure size 432x288 with 2 Axes>"
            ]
          },
          "metadata": {
            "tags": [],
            "needs_background": "light"
          }
        }
      ]
    },
    {
      "cell_type": "markdown",
      "metadata": {
        "id": "RNFMpKpGxQke"
      },
      "source": [
        "We can see that the accuracy gets worse when PCA is used on the whole dataset. \n",
        "\n",
        "Now we will see if using PCA on the filtered dataset improves the accuracy."
      ]
    },
    {
      "cell_type": "code",
      "metadata": {
        "colab": {
          "base_uri": "https://localhost:8080/",
          "height": 595
        },
        "id": "omsVIuBx3cyw",
        "outputId": "6c29a9e0-5424-411b-e553-97529fd0cef2"
      },
      "source": [
        "newX_pca = PCA(newX_o.astype('float64'), 0.95)\n",
        "\n",
        "# split the data into training and testing\n",
        "(trainX, testX, trainY, testY) = train_test_split(newX_pca, Y, test_size = 0.4, random_state = 0)\n",
        "\n",
        "start = time.time() # time how long it takes to find the model\n",
        "\n",
        "# create model\n",
        "model_lr = LogisticRegression(C = 2, max_iter = 10000)\n",
        "model_lr.fit(trainX, trainY)\n",
        "\n",
        "end = time.time()\n",
        "print('Running Logistic Regression Model took', end - start, 'seconds')\n",
        "\n",
        "# predict the labels of the test set\n",
        "predictedY = model_lr.predict(testX)\n",
        "\n",
        "# print quality metrics\n",
        "print('\\nClassification Report:\\n\\n', classification_report(testY, predictedY))\n",
        "print('\\nConfusion Matrix:\\n')\n",
        "\n",
        "sn.heatmap(confusion_matrix(testY, predictedY), annot = True)"
      ],
      "execution_count": 56,
      "outputs": [
        {
          "output_type": "stream",
          "text": [
            "The original dimension of the data is 10\n",
            "The new dimension of the data is 2 and it explains 0.9796086519914605 of the variance\n",
            "Running Logistic Regression Model took 0.009609222412109375 seconds\n",
            "\n",
            "Classification Report:\n",
            "\n",
            "               precision    recall  f1-score   support\n",
            "\n",
            "           0       0.69      0.56      0.62        59\n",
            "           1       0.65      0.76      0.70        63\n",
            "\n",
            "    accuracy                           0.66       122\n",
            "   macro avg       0.67      0.66      0.66       122\n",
            "weighted avg       0.67      0.66      0.66       122\n",
            "\n",
            "\n",
            "Confusion Matrix:\n",
            "\n"
          ],
          "name": "stdout"
        },
        {
          "output_type": "execute_result",
          "data": {
            "text/plain": [
              "<matplotlib.axes._subplots.AxesSubplot at 0x7f9fef509a50>"
            ]
          },
          "metadata": {
            "tags": []
          },
          "execution_count": 56
        },
        {
          "output_type": "display_data",
          "data": {
            "image/png": "[encoded data removed]",
            "text/plain": [
              "<Figure size 432x288 with 2 Axes>"
            ]
          },
          "metadata": {
            "tags": [],
            "needs_background": "light"
          }
        }
      ]
    },
    {
      "cell_type": "markdown",
      "metadata": {
        "id": "AuwN_Xk33c8V"
      },
      "source": [
        "For the filtered dataset, using PCA does not improve the overall accuracy of the model.\n",
        "\n",
        "We will now repeat this process for the tSNE dimentionality reduction method."
      ]
    },
    {
      "cell_type": "code",
      "metadata": {
        "colab": {
          "base_uri": "https://localhost:8080/",
          "height": 564
        },
        "id": "EyPEFx-oxQxd",
        "outputId": "daec8dc0-6d9c-40a5-802a-ccd3b9aaac7d"
      },
      "source": [
        "# split the data into training and testing\n",
        "(trainX, testX, trainY, testY) = train_test_split(X_tsne, Y, test_size = 0.4, random_state = 0)\n",
        "\n",
        "start = time.time() # time how long it takes to find the model\n",
        "\n",
        "# create model\n",
        "model_lr = LogisticRegression(C = 2, max_iter = 10000)\n",
        "model_lr.fit(trainX, trainY)\n",
        "\n",
        "end = time.time()\n",
        "print('Tuning Logistic Regression Model took', end - start, 'seconds')\n",
        "\n",
        "# predict the labels of the test set\n",
        "predictedY = model_lr.predict(testX)\n",
        "\n",
        "# print quality metrics\n",
        "print('\\nClassification Report:\\n\\n', classification_report(testY, predictedY))\n",
        "print('\\nConfusion Matrix:\\n')\n",
        "\n",
        "sn.heatmap(confusion_matrix(testY, predictedY), annot = True)"
      ],
      "execution_count": 57,
      "outputs": [
        {
          "output_type": "stream",
          "text": [
            "Tuning Logistic Regression Model took 0.023259878158569336 seconds\n",
            "\n",
            "Classification Report:\n",
            "\n",
            "               precision    recall  f1-score   support\n",
            "\n",
            "           0       0.67      0.63      0.65        59\n",
            "           1       0.67      0.71      0.69        63\n",
            "\n",
            "    accuracy                           0.67       122\n",
            "   macro avg       0.67      0.67      0.67       122\n",
            "weighted avg       0.67      0.67      0.67       122\n",
            "\n",
            "\n",
            "Confusion Matrix:\n",
            "\n"
          ],
          "name": "stdout"
        },
        {
          "output_type": "execute_result",
          "data": {
            "text/plain": [
              "<matplotlib.axes._subplots.AxesSubplot at 0x7f9ff4b62d10>"
            ]
          },
          "metadata": {
            "tags": []
          },
          "execution_count": 57
        },
        {
          "output_type": "display_data",
          "data": {
            "image/png": "[encoded data removed]",
            "text/plain": [
              "<Figure size 432x288 with 2 Axes>"
            ]
          },
          "metadata": {
            "tags": [],
            "needs_background": "light"
          }
        }
      ]
    },
    {
      "cell_type": "markdown",
      "metadata": {
        "id": "416b4QeuxRi4"
      },
      "source": [
        "On the original dataset, using tSNE causes a small increase in accuracy.\n",
        "\n",
        "Now we will check using tSNE on the filtered dataset will improve the accuracy."
      ]
    },
    {
      "cell_type": "code",
      "metadata": {
        "colab": {
          "base_uri": "https://localhost:8080/",
          "height": 560
        },
        "id": "3DCbxrGG4fG-",
        "outputId": "31b8b813-d04f-441c-b7bf-d7008febeef1"
      },
      "source": [
        "newX_tsne = TSNE(n_components = 3).fit_transform(newX_o)\n",
        "\n",
        "# split the data into training and testing\n",
        "(trainX, testX, trainY, testY) = train_test_split(newX_tsne, Y, test_size = 0.4, random_state = 0)\n",
        "\n",
        "start = time.time() # time how long it takes to find the model\n",
        "\n",
        "# create model\n",
        "model_lr = LogisticRegression(C = 2, max_iter = 10000)\n",
        "model_lr.fit(trainX, trainY)\n",
        "\n",
        "end = time.time()\n",
        "print('Running Logistic Regression Model took', end - start, 'seconds')\n",
        "\n",
        "# predict the labels of the test set\n",
        "predictedY = model_lr.predict(testX)\n",
        "\n",
        "# print quality metrics\n",
        "print('\\nClassification Report:\\n\\n', classification_report(testY, predictedY))\n",
        "print('\\nConfusion Matrix:\\n')\n",
        "\n",
        "sn.heatmap(confusion_matrix(testY, predictedY), annot = True)"
      ],
      "execution_count": 58,
      "outputs": [
        {
          "output_type": "stream",
          "text": [
            "Running Logistic Regression Model took 0.005949735641479492 seconds\n",
            "\n",
            "Classification Report:\n",
            "\n",
            "               precision    recall  f1-score   support\n",
            "\n",
            "           0       0.76      0.53      0.62        59\n",
            "           1       0.65      0.84      0.74        63\n",
            "\n",
            "    accuracy                           0.69       122\n",
            "   macro avg       0.71      0.68      0.68       122\n",
            "weighted avg       0.70      0.69      0.68       122\n",
            "\n",
            "\n",
            "Confusion Matrix:\n",
            "\n"
          ],
          "name": "stdout"
        },
        {
          "output_type": "execute_result",
          "data": {
            "text/plain": [
              "<matplotlib.axes._subplots.AxesSubplot at 0x7f9fef346110>"
            ]
          },
          "metadata": {
            "tags": []
          },
          "execution_count": 58
        },
        {
          "output_type": "display_data",
          "data": {
            "image/png": "[encoded data removed]",
            "text/plain": [
              "<Figure size 432x288 with 2 Axes>"
            ]
          },
          "metadata": {
            "tags": [],
            "needs_background": "light"
          }
        }
      ]
    },
    {
      "cell_type": "markdown",
      "metadata": {
        "id": "WdOImjAr4fOb"
      },
      "source": [
        "We can see that running tSNE, this time on the filtered dataset, does improve the accuracy. \n",
        "\n",
        "Now, we will tune the hyperparameters of the models that are run on the models that performed the best in the inital results, where there is at least one model that used the non-compressed data, the PCA compressed data, and the tSNE compressed data.\n",
        "\n",
        "First, we hyperparameter tune the model with the original dataset using cross-validation."
      ]
    },
    {
      "cell_type": "code",
      "metadata": {
        "id": "juFlFCrjB9k-",
        "colab": {
          "base_uri": "https://localhost:8080/",
          "height": 577
        },
        "outputId": "56913f58-b25f-4e00-bd20-409b73fd21d6"
      },
      "source": [
        "# hyperparameter values\n",
        "cValues = np.linspace(0.01, 10.0, 20)\n",
        "\n",
        "# split the data into training and testing\n",
        "(trainX, testX, trainY, testY) = train_test_split(X, Y, test_size = 0.4, random_state = 0)\n",
        "\n",
        "start = time.time() # time how long it takes to find the model\n",
        "\n",
        "# create model\n",
        "model_lr = LogisticRegressionCV(Cs = cValues, cv = 5, max_iter = 10000)\n",
        "model_lr.fit(trainX, trainY)\n",
        "\n",
        "end = time.time()\n",
        "print('Tuning Logistic Regression Model took', end - start, 'seconds')\n",
        "\n",
        "# find best hyperparameter value\n",
        "bestC_original = model_lr.C_\n",
        "print('Grid search chose the C value of', bestC_original)\n",
        "\n",
        "# predict the labels of the test set\n",
        "predictedY = model_lr.predict(testX)\n",
        "\n",
        "# print quality metrics\n",
        "print('\\nClassification Report:\\n\\n', classification_report(testY, predictedY))\n",
        "print('\\nConfusion Matrix:\\n')\n",
        "\n",
        "sn.heatmap(confusion_matrix(testY, predictedY), annot = True)"
      ],
      "execution_count": 61,
      "outputs": [
        {
          "output_type": "stream",
          "text": [
            "Tuning Logistic Regression Model took 1.5220146179199219 seconds\n",
            "Grid search chose the C value of [2.11315789]\n",
            "\n",
            "Classification Report:\n",
            "\n",
            "               precision    recall  f1-score   support\n",
            "\n",
            "           0       0.85      0.78      0.81        59\n",
            "           1       0.81      0.87      0.84        63\n",
            "\n",
            "    accuracy                           0.83       122\n",
            "   macro avg       0.83      0.83      0.83       122\n",
            "weighted avg       0.83      0.83      0.83       122\n",
            "\n",
            "\n",
            "Confusion Matrix:\n",
            "\n"
          ],
          "name": "stdout"
        },
        {
          "output_type": "execute_result",
          "data": {
            "text/plain": [
              "<matplotlib.axes._subplots.AxesSubplot at 0x7f9feeaebf10>"
            ]
          },
          "metadata": {
            "tags": []
          },
          "execution_count": 61
        },
        {
          "output_type": "display_data",
          "data": {
            "image/png": "[encoded data removed]",
            "text/plain": [
              "<Figure size 432x288 with 2 Axes>"
            ]
          },
          "metadata": {
            "tags": [],
            "needs_background": "light"
          }
        }
      ]
    },
    {
      "cell_type": "markdown",
      "metadata": {
        "id": "0Ip7Fc0CKBH1"
      },
      "source": [
        "We can see that the accuracy with the hyperparameter tuned model is the same as the untuned model.\n",
        "\n",
        "Now we will hyperparameter tune the PCA compressed version of the original dataset."
      ]
    },
    {
      "cell_type": "code",
      "metadata": {
        "id": "7VgRjzarKBQI",
        "colab": {
          "base_uri": "https://localhost:8080/",
          "height": 581
        },
        "outputId": "f554b0d7-d27c-47f0-a25e-64bd6a3906a7"
      },
      "source": [
        "# hyperparameter values\n",
        "cValues = np.linspace(0.01, 10, 20)\n",
        "\n",
        "# split the data into training and testing\n",
        "(trainX, testX, trainY, testY) = train_test_split(X_pca, Y, test_size = 0.4, random_state = 0)\n",
        "\n",
        "start = time.time()\n",
        "\n",
        "# create model\n",
        "model_lr = LogisticRegressionCV(Cs = cValues, cv = 5, max_iter = 10000)\n",
        "model_lr.fit(trainX, trainY)\n",
        "\n",
        "end = time.time()\n",
        "print('Tuning Logistic Regression Model took', end - start, 'seconds')\n",
        "\n",
        "# find best hyperparameter value\n",
        "bestC_pca = model_lr.C_\n",
        "print('Grid search chose the C value of', bestC_pca)\n",
        "\n",
        "# predict the labels of the test set\n",
        "predictedY = model_lr.predict(testX)\n",
        "\n",
        "# print quality metrics\n",
        "print('\\nClassification Report:\\n\\n', classification_report(testY, predictedY))\n",
        "print('\\nConfusion Matrix:\\n')\n",
        "\n",
        "sn.heatmap(confusion_matrix(testY, predictedY), annot = True)"
      ],
      "execution_count": 60,
      "outputs": [
        {
          "output_type": "stream",
          "text": [
            "Tuning Logistic Regression Model took 0.13355207443237305 seconds\n",
            "Grid search chose the C value of [0.01]\n",
            "\n",
            "Classification Report:\n",
            "\n",
            "               precision    recall  f1-score   support\n",
            "\n",
            "           0       0.70      0.51      0.59        59\n",
            "           1       0.63      0.79      0.70        63\n",
            "\n",
            "    accuracy                           0.66       122\n",
            "   macro avg       0.67      0.65      0.65       122\n",
            "weighted avg       0.66      0.66      0.65       122\n",
            "\n",
            "\n",
            "Confusion Matrix:\n",
            "\n"
          ],
          "name": "stdout"
        },
        {
          "output_type": "execute_result",
          "data": {
            "text/plain": [
              "<matplotlib.axes._subplots.AxesSubplot at 0x7f9feeb3ec10>"
            ]
          },
          "metadata": {
            "tags": []
          },
          "execution_count": 60
        },
        {
          "output_type": "display_data",
          "data": {
            "image/png": "[encoded data removed]",
            "text/plain": [
              "<Figure size 432x288 with 2 Axes>"
            ]
          },
          "metadata": {
            "tags": [],
            "needs_background": "light"
          }
        }
      ]
    },
    {
      "cell_type": "markdown",
      "metadata": {
        "id": "N9wLC3tPsRpo"
      },
      "source": [
        "Again, we can see that the tuned model has the same accuracy as the untuned model.\n",
        "\n",
        "Now we will tune the tSNE compressed filtered dataset."
      ]
    },
    {
      "cell_type": "code",
      "metadata": {
        "colab": {
          "base_uri": "https://localhost:8080/",
          "height": 577
        },
        "id": "XN5YyozasRHS",
        "outputId": "0f87d484-9354-43ec-dbd0-51d074b06c4a"
      },
      "source": [
        "# hyperparameter values\n",
        "cValues = np.linspace(0.01, 10, 20)\n",
        "\n",
        "# split the data into training and testing\n",
        "(trainX, testX, trainY, testY) = train_test_split(newX_tsne, Y, test_size = 0.4, random_state = 0)\n",
        "\n",
        "start = time.time()\n",
        "\n",
        "# create model\n",
        "model_lr = LogisticRegressionCV(Cs = cValues, cv = 5, max_iter = 10000)\n",
        "model_lr.fit(trainX, trainY)\n",
        "\n",
        "end = time.time()\n",
        "print('Tuning Logistic Regression Model took', end - start, 'seconds')\n",
        "\n",
        "# find best hyperparameter value\n",
        "bestC_tsne = model_lr.C_\n",
        "print('Grid search chose the C value of', bestC_pca)\n",
        "\n",
        "# predict the labels of the test set\n",
        "predictedY = model_lr.predict(testX)\n",
        "\n",
        "# print quality metrics\n",
        "print('\\nClassification Report:\\n\\n', classification_report(testY, predictedY))\n",
        "print('\\nConfusion Matrix:\\n')\n",
        "\n",
        "sn.heatmap(confusion_matrix(testY, predictedY), annot = True)"
      ],
      "execution_count": 62,
      "outputs": [
        {
          "output_type": "stream",
          "text": [
            "Tuning Logistic Regression Model took 0.12716150283813477 seconds\n",
            "Grid search chose the C value of [0.01]\n",
            "\n",
            "Classification Report:\n",
            "\n",
            "               precision    recall  f1-score   support\n",
            "\n",
            "           0       0.76      0.53      0.62        59\n",
            "           1       0.65      0.84      0.74        63\n",
            "\n",
            "    accuracy                           0.69       122\n",
            "   macro avg       0.71      0.68      0.68       122\n",
            "weighted avg       0.70      0.69      0.68       122\n",
            "\n",
            "\n",
            "Confusion Matrix:\n",
            "\n"
          ],
          "name": "stdout"
        },
        {
          "output_type": "execute_result",
          "data": {
            "text/plain": [
              "<matplotlib.axes._subplots.AxesSubplot at 0x7f9fee762fd0>"
            ]
          },
          "metadata": {
            "tags": []
          },
          "execution_count": 62
        },
        {
          "output_type": "display_data",
          "data": {
            "image/png": "[encoded data removed]",
            "text/plain": [
              "<Figure size 432x288 with 2 Axes>"
            ]
          },
          "metadata": {
            "tags": [],
            "needs_background": "light"
          }
        }
      ]
    },
    {
      "cell_type": "markdown",
      "metadata": {
        "id": "Xu_6-drA_MaY"
      },
      "source": [
        "We can see that the tuned model performs the same as the untuned model.\n",
        "\n",
        "Overall, the best logistical regression model for classifying heart disease is the model run on the original, unfiltered and uncompressed, dataset."
      ]
    },
    {
      "cell_type": "markdown",
      "metadata": {
        "id": "IWFzL9DTB9tv"
      },
      "source": [
        "### Linear Discriminant Analysis (LDA)\n",
        "\n",
        "Linear Discriminant Analysis (LDA) is a generalization of Fisher's linear discriminant that tries to create a linear boundary between points. \n",
        "\n",
        "We will first run the model initally, so that feature importance can be found afterwards."
      ]
    },
    {
      "cell_type": "code",
      "metadata": {
        "id": "-rSPMx_3CDBa",
        "colab": {
          "base_uri": "https://localhost:8080/",
          "height": 560
        },
        "outputId": "50b1694b-71f5-487b-9837-6d0a056a4979"
      },
      "source": [
        "# split the data into training and testing\n",
        "(trainX, testX, trainY, testY) = train_test_split(X, Y, test_size = 0.4, random_state = 0)\n",
        "\n",
        "start = time.time()\n",
        "\n",
        "# build the LDA classifier\n",
        "model_lda = LinearDiscriminantAnalysis()\n",
        "\n",
        "# fit the LDA classifier to the training data\n",
        "model_lda.fit(trainX, trainY)\n",
        "\n",
        "end = time.time()\n",
        "print('Running LDA took', end - start, 'seconds')\n",
        "\n",
        "# predict the labels of the test set\n",
        "predictedY = model_lda.predict(testX)\n",
        "\n",
        "# print quality metrics\n",
        "print('\\nClassification Report:\\n\\n', classification_report(testY, predictedY))\n",
        "print('\\nConfusion Matrix:\\n')\n",
        "sn.heatmap(confusion_matrix(testY, predictedY), annot = True)"
      ],
      "execution_count": 63,
      "outputs": [
        {
          "output_type": "stream",
          "text": [
            "Running LDA took 0.032144784927368164 seconds\n",
            "\n",
            "Classification Report:\n",
            "\n",
            "               precision    recall  f1-score   support\n",
            "\n",
            "           0       0.85      0.69      0.77        59\n",
            "           1       0.76      0.89      0.82        63\n",
            "\n",
            "    accuracy                           0.80       122\n",
            "   macro avg       0.81      0.79      0.79       122\n",
            "weighted avg       0.80      0.80      0.79       122\n",
            "\n",
            "\n",
            "Confusion Matrix:\n",
            "\n"
          ],
          "name": "stdout"
        },
        {
          "output_type": "execute_result",
          "data": {
            "text/plain": [
              "<matplotlib.axes._subplots.AxesSubplot at 0x7f9fee98ca50>"
            ]
          },
          "metadata": {
            "tags": []
          },
          "execution_count": 63
        },
        {
          "output_type": "display_data",
          "data": {
            "image/png": "[encoded data removed]",
            "text/plain": [
              "<Figure size 432x288 with 2 Axes>"
            ]
          },
          "metadata": {
            "tags": [],
            "needs_background": "light"
          }
        }
      ]
    },
    {
      "cell_type": "markdown",
      "metadata": {
        "id": "Ya2F7ryc_XBA"
      },
      "source": [
        "We can see that the accuracy of the (inital) LDA model is worse than the (inital) logistic regression model.\n",
        "\n",
        "The ranked list of features is then found using permutation importance and the model coefficients."
      ]
    },
    {
      "cell_type": "code",
      "metadata": {
        "colab": {
          "base_uri": "https://localhost:8080/",
          "height": 297
        },
        "id": "VhownmGd_XKK",
        "outputId": "87a0b30d-3aff-4e15-ea28-e8247511e2f9"
      },
      "source": [
        "result = permutation_importance(model_lda, testX, testY, n_repeats = 10, n_jobs = -1)\n",
        "sorted_idx = result.importances_mean.argsort()\n",
        "\n",
        "fig, ax = plt.subplots()\n",
        "ax.boxplot(result.importances[sorted_idx].T, vert = False, labels = names[sorted_idx])\n",
        "ax.set_title(\"Permutation Importances (test set)\")\n",
        "fig.tight_layout()\n",
        "plt.show()"
      ],
      "execution_count": 64,
      "outputs": [
        {
          "output_type": "display_data",
          "data": {
            "image/png": "[encoded data removed]",
            "text/plain": [
              "<Figure size 432x288 with 1 Axes>"
            ]
          },
          "metadata": {
            "tags": [],
            "needs_background": "light"
          }
        }
      ]
    },
    {
      "cell_type": "markdown",
      "metadata": {
        "id": "Z9q8tsYg_hHf"
      },
      "source": [
        "Now, the features are added into the model, one feature at a time in order of their calculated importance."
      ]
    },
    {
      "cell_type": "code",
      "metadata": {
        "colab": {
          "base_uri": "https://localhost:8080/"
        },
        "id": "Vnx-l3sF_hQg",
        "outputId": "b9146349-538e-4ada-a003-8836d3ff7d8b"
      },
      "source": [
        "bestAccuracy = [0, 0]\n",
        "\n",
        "# intializing the first term\n",
        "tempNames = []\n",
        "tempNames.append(names[sorted_idx[12]])\n",
        "\n",
        "start = time.time()\n",
        "\n",
        "for i in range(12):\n",
        "\n",
        "  # adding the other features based on their importance\n",
        "  tempNames.append(names[sorted_idx[12-i]])\n",
        "\n",
        "  # create new X term\n",
        "  tempX = DATA[tempNames].to_numpy()\n",
        "\n",
        "  # split the data into train and test sets\n",
        "  trainX, testX, trainY, testY = train_test_split(tempX, Y, test_size = 0.4, random_state = 0)\n",
        "\n",
        "  # build and tune the classifier\n",
        "  model_lda = LinearDiscriminantAnalysis()\n",
        "\n",
        "  # fit the classifier to the training data\n",
        "  model_lda.fit(trainX, trainY)  \n",
        "\n",
        "  # predict the labels of the test set\n",
        "  predictedY = model_lda.predict(testX)\n",
        "\n",
        "  # find the mean cross-validation accuracy\n",
        "  mean_cv_scores = np.mean(cross_val_score(model_lda, trainX, trainY, cv = 5))\n",
        "    \n",
        "  # save the hyperparameter reg_param if better than found before\n",
        "  if mean_cv_scores > bestAccuracy[0]:\n",
        "      bestAccuracy = [mean_cv_scores, i+1]\n",
        "\n",
        "end = time.time()\n",
        "print('Feature testing took', end - start, 'seconds')\n",
        "\n",
        "print('\\nThe best dev accuracy', bestAccuracy[0], 'occured with', bestAccuracy[1], 'features')"
      ],
      "execution_count": 65,
      "outputs": [
        {
          "output_type": "stream",
          "text": [
            "Feature testing took 0.13603901863098145 seconds\n",
            "\n",
            "The best dev accuracy 0.83993993993994 occured with 7 features\n"
          ],
          "name": "stdout"
        }
      ]
    },
    {
      "cell_type": "markdown",
      "metadata": {
        "id": "g6lQ9Hs4KAJd"
      },
      "source": [
        "Now, the model will be run with the new set of features."
      ]
    },
    {
      "cell_type": "code",
      "metadata": {
        "colab": {
          "base_uri": "https://localhost:8080/",
          "height": 560
        },
        "id": "TSOKzXNn_oJj",
        "outputId": "d6123d31-4afc-4a85-c8b5-8bf3ce06b3d6"
      },
      "source": [
        "# create new list of feature names\n",
        "newNames = []\n",
        "\n",
        "# add features into new name list\n",
        "for i in range(bestAccuracy[1]):\n",
        "  newNames.append(names[sorted_idx[12-i]])\n",
        "\n",
        "# create new X term\n",
        "newX_o = DATA[newNames].to_numpy()\n",
        "\n",
        "# split the data into training and testing\n",
        "(trainX, testX, trainY, testY) = train_test_split(newX_o, Y, test_size = 0.4, random_state = 0)\n",
        "\n",
        "start = time.time()\n",
        "\n",
        "# build the LDA classifier\n",
        "model_lda = LinearDiscriminantAnalysis()\n",
        "\n",
        "# fit the LDA classifier to the training data\n",
        "model_lda.fit(trainX, trainY)\n",
        "\n",
        "end = time.time()\n",
        "print('Running LDA took', end - start, 'seconds')\n",
        "\n",
        "# predict the labels of the test set\n",
        "predictedY = model_lda.predict(testX)\n",
        "\n",
        "# print quality metrics\n",
        "print('\\nClassification Report:\\n\\n', classification_report(testY, predictedY))\n",
        "print('\\nConfusion Matrix:\\n')\n",
        "sn.heatmap(confusion_matrix(testY, predictedY), annot = True)"
      ],
      "execution_count": 66,
      "outputs": [
        {
          "output_type": "stream",
          "text": [
            "Running LDA took 0.0016214847564697266 seconds\n",
            "\n",
            "Classification Report:\n",
            "\n",
            "               precision    recall  f1-score   support\n",
            "\n",
            "           0       0.83      0.73      0.77        59\n",
            "           1       0.77      0.86      0.81        63\n",
            "\n",
            "    accuracy                           0.80       122\n",
            "   macro avg       0.80      0.79      0.79       122\n",
            "weighted avg       0.80      0.80      0.79       122\n",
            "\n",
            "\n",
            "Confusion Matrix:\n",
            "\n"
          ],
          "name": "stdout"
        },
        {
          "output_type": "execute_result",
          "data": {
            "text/plain": [
              "<matplotlib.axes._subplots.AxesSubplot at 0x7f9fee3ce810>"
            ]
          },
          "metadata": {
            "tags": []
          },
          "execution_count": 66
        },
        {
          "output_type": "display_data",
          "data": {
            "image/png": "[encoded data removed]",
            "text/plain": [
              "<Figure size 432x288 with 2 Axes>"
            ]
          },
          "metadata": {
            "tags": [],
            "needs_background": "light"
          }
        }
      ]
    },
    {
      "cell_type": "markdown",
      "metadata": {
        "id": "-jcjKEdY_oSh"
      },
      "source": [
        "We can see that the accuracy saw no improvement with the feature selection. However, if we do dimensionality reduction on this new dataset, we can compare the accuracy of the new compressed data with the inital compressed data.\n",
        "\n",
        "First, we run the the original PCA dataset to find if PCA can improve the accuracy."
      ]
    },
    {
      "cell_type": "code",
      "metadata": {
        "id": "xpZH7VMBKASF",
        "colab": {
          "base_uri": "https://localhost:8080/",
          "height": 564
        },
        "outputId": "3df6f94a-4a48-4d55-835c-c64b8c1192f2"
      },
      "source": [
        "# split the data into training and testing\n",
        "(trainX, testX, trainY, testY) = train_test_split(X_pca, Y, test_size = 0.4, random_state = 0)\n",
        "\n",
        "start = time.time()\n",
        "\n",
        "# build the LDA classifier\n",
        "model_lda = LinearDiscriminantAnalysis()\n",
        "\n",
        "# fit the LDA classifier to the training data\n",
        "model_lda.fit(trainX, trainY)\n",
        "\n",
        "end = time.time()\n",
        "print('Running LDA took', end - start, 'seconds')\n",
        "\n",
        "# predict the labels of the test set\n",
        "predictedY = model_lda.predict(testX)\n",
        "\n",
        "# print quality metrics\n",
        "print('\\nClassification Report:\\n\\n', classification_report(testY, predictedY))\n",
        "print('\\nConfusion Matrix:\\n')\n",
        "sn.heatmap(confusion_matrix(testY, predictedY), annot = True)"
      ],
      "execution_count": 67,
      "outputs": [
        {
          "output_type": "stream",
          "text": [
            "Running LDA took 0.0030395984649658203 seconds\n",
            "\n",
            "Classification Report:\n",
            "\n",
            "               precision    recall  f1-score   support\n",
            "\n",
            "           0       0.70      0.51      0.59        59\n",
            "           1       0.63      0.79      0.70        63\n",
            "\n",
            "    accuracy                           0.66       122\n",
            "   macro avg       0.67      0.65      0.65       122\n",
            "weighted avg       0.66      0.66      0.65       122\n",
            "\n",
            "\n",
            "Confusion Matrix:\n",
            "\n"
          ],
          "name": "stdout"
        },
        {
          "output_type": "execute_result",
          "data": {
            "text/plain": [
              "<matplotlib.axes._subplots.AxesSubplot at 0x7f9fee7c1c90>"
            ]
          },
          "metadata": {
            "tags": []
          },
          "execution_count": 67
        },
        {
          "output_type": "display_data",
          "data": {
            "image/png": "[encoded data removed]",
            "text/plain": [
              "<Figure size 432x288 with 2 Axes>"
            ]
          },
          "metadata": {
            "tags": [],
            "needs_background": "light"
          }
        }
      ]
    },
    {
      "cell_type": "markdown",
      "metadata": {
        "id": "iTDkHDh4_8li"
      },
      "source": [
        "We can see that the accuracy gets worse when PCA is used on the whole dataset. \n",
        "\n",
        "Now we will see if using PCA on the filtered dataset improves the accuracy."
      ]
    },
    {
      "cell_type": "code",
      "metadata": {
        "colab": {
          "base_uri": "https://localhost:8080/",
          "height": 595
        },
        "id": "X-R0GK6g_8uY",
        "outputId": "4ca16eac-1c6b-40a3-bf9a-aa07ef12bfec"
      },
      "source": [
        "newX_pca = PCA(newX_o.astype('float64'), 0.95)\n",
        "\n",
        "# split the data into training and testing\n",
        "(trainX, testX, trainY, testY) = train_test_split(newX_pca, Y, test_size = 0.4, random_state = 0)\n",
        "\n",
        "start = time.time()\n",
        "\n",
        "# build the LDA classifier\n",
        "model_lda = LinearDiscriminantAnalysis()\n",
        "\n",
        "# fit the LDA classifier to the training data\n",
        "model_lda.fit(trainX, trainY)\n",
        "\n",
        "end = time.time()\n",
        "print('Running LDA took', end - start, 'seconds')\n",
        "\n",
        "# predict the labels of the test set\n",
        "predictedY = model_lda.predict(testX)\n",
        "\n",
        "# print quality metrics\n",
        "print('\\nClassification Report:\\n\\n', classification_report(testY, predictedY))\n",
        "print('\\nConfusion Matrix:\\n')\n",
        "sn.heatmap(confusion_matrix(testY, predictedY), annot = True)"
      ],
      "execution_count": 68,
      "outputs": [
        {
          "output_type": "stream",
          "text": [
            "The original dimension of the data is 7\n",
            "The new dimension of the data is 1 and it explains 0.9925604860434261 of the variance\n",
            "Running LDA took 0.0040128231048583984 seconds\n",
            "\n",
            "Classification Report:\n",
            "\n",
            "               precision    recall  f1-score   support\n",
            "\n",
            "           0       0.68      0.54      0.60        59\n",
            "           1       0.64      0.76      0.70        63\n",
            "\n",
            "    accuracy                           0.66       122\n",
            "   macro avg       0.66      0.65      0.65       122\n",
            "weighted avg       0.66      0.66      0.65       122\n",
            "\n",
            "\n",
            "Confusion Matrix:\n",
            "\n"
          ],
          "name": "stdout"
        },
        {
          "output_type": "execute_result",
          "data": {
            "text/plain": [
              "<matplotlib.axes._subplots.AxesSubplot at 0x7f9fee242f10>"
            ]
          },
          "metadata": {
            "tags": []
          },
          "execution_count": 68
        },
        {
          "output_type": "display_data",
          "data": {
            "image/png": "[encoded data removed]",
            "text/plain": [
              "<Figure size 432x288 with 2 Axes>"
            ]
          },
          "metadata": {
            "tags": [],
            "needs_background": "light"
          }
        }
      ]
    },
    {
      "cell_type": "markdown",
      "metadata": {
        "id": "PG84PVeNykJO"
      },
      "source": [
        "Performing PCA on the filtered dataset gives the same results as performing PCA on the unfiltered dataset.\n",
        "\n",
        "We will now repeat this for the tSNE compressed dataset."
      ]
    },
    {
      "cell_type": "code",
      "metadata": {
        "colab": {
          "base_uri": "https://localhost:8080/",
          "height": 564
        },
        "id": "xBRZ4cO5ykSP",
        "outputId": "c91793cd-7bf4-4a6f-9b67-8b0cc6db8341"
      },
      "source": [
        "# split the data into training and testing\n",
        "(trainX, testX, trainY, testY) = train_test_split(X_tsne, Y, test_size = 0.4, random_state = 0)\n",
        "\n",
        "start = time.time()\n",
        "\n",
        "# build the LDA classifier\n",
        "model_lda = LinearDiscriminantAnalysis()\n",
        "\n",
        "# fit the LDA classifier to the training data\n",
        "model_lda.fit(trainX, trainY)\n",
        "\n",
        "end = time.time()\n",
        "print('Running LDA took', end - start, 'seconds')\n",
        "\n",
        "# predict the labels of the test set\n",
        "predictedY = model_lda.predict(testX)\n",
        "\n",
        "# print quality metrics\n",
        "print('\\nClassification Report:\\n\\n', classification_report(testY, predictedY))\n",
        "print('\\nConfusion Matrix:\\n')\n",
        "sn.heatmap(confusion_matrix(testY, predictedY), annot = True)"
      ],
      "execution_count": 69,
      "outputs": [
        {
          "output_type": "stream",
          "text": [
            "Running LDA took 0.0022954940795898438 seconds\n",
            "\n",
            "Classification Report:\n",
            "\n",
            "               precision    recall  f1-score   support\n",
            "\n",
            "           0       0.67      0.63      0.65        59\n",
            "           1       0.67      0.71      0.69        63\n",
            "\n",
            "    accuracy                           0.67       122\n",
            "   macro avg       0.67      0.67      0.67       122\n",
            "weighted avg       0.67      0.67      0.67       122\n",
            "\n",
            "\n",
            "Confusion Matrix:\n",
            "\n"
          ],
          "name": "stdout"
        },
        {
          "output_type": "execute_result",
          "data": {
            "text/plain": [
              "<matplotlib.axes._subplots.AxesSubplot at 0x7f9fee25d3d0>"
            ]
          },
          "metadata": {
            "tags": []
          },
          "execution_count": 69
        },
        {
          "output_type": "display_data",
          "data": {
            "image/png": "[encoded data removed]",
            "text/plain": [
              "<Figure size 432x288 with 2 Axes>"
            ]
          },
          "metadata": {
            "tags": [],
            "needs_background": "light"
          }
        }
      ]
    },
    {
      "cell_type": "markdown",
      "metadata": {
        "id": "VRXFp4RA_-Y7"
      },
      "source": [
        "Using tSNE gives a better accuracy than with using PCA.\n",
        "\n",
        "Now we check if tSNE can improve the accuracy of the filtered dataset."
      ]
    },
    {
      "cell_type": "code",
      "metadata": {
        "colab": {
          "base_uri": "https://localhost:8080/",
          "height": 560
        },
        "id": "iN9prGWu_-iM",
        "outputId": "1bae626d-7614-4654-84d6-5a0195f73bf0"
      },
      "source": [
        "newX_tsne = TSNE(n_components = 3).fit_transform(newX_o)\n",
        "\n",
        "# split the data into training and testing\n",
        "(trainX, testX, trainY, testY) = train_test_split(newX_tsne, Y, test_size = 0.4, random_state = 0)\n",
        "\n",
        "start = time.time()\n",
        "\n",
        "# build the LDA classifier\n",
        "model_lda = LinearDiscriminantAnalysis()\n",
        "\n",
        "# fit the LDA classifier to the training data\n",
        "model_lda.fit(trainX, trainY)\n",
        "\n",
        "end = time.time()\n",
        "print('Running LDA took', end - start, 'seconds')\n",
        "\n",
        "# predict the labels of the test set\n",
        "predictedY = model_lda.predict(testX)\n",
        "\n",
        "# print quality metrics\n",
        "print('\\nClassification Report:\\n\\n', classification_report(testY, predictedY))\n",
        "print('\\nConfusion Matrix:\\n')\n",
        "sn.heatmap(confusion_matrix(testY, predictedY), annot = True)"
      ],
      "execution_count": 70,
      "outputs": [
        {
          "output_type": "stream",
          "text": [
            "Running LDA took 0.0015380382537841797 seconds\n",
            "\n",
            "Classification Report:\n",
            "\n",
            "               precision    recall  f1-score   support\n",
            "\n",
            "           0       0.58      0.44      0.50        59\n",
            "           1       0.57      0.70      0.63        63\n",
            "\n",
            "    accuracy                           0.57       122\n",
            "   macro avg       0.57      0.57      0.56       122\n",
            "weighted avg       0.57      0.57      0.57       122\n",
            "\n",
            "\n",
            "Confusion Matrix:\n",
            "\n"
          ],
          "name": "stdout"
        },
        {
          "output_type": "execute_result",
          "data": {
            "text/plain": [
              "<matplotlib.axes._subplots.AxesSubplot at 0x7f9feecfc050>"
            ]
          },
          "metadata": {
            "tags": []
          },
          "execution_count": 70
        },
        {
          "output_type": "display_data",
          "data": {
            "image/png": "[encoded data removed]",
            "text/plain": [
              "<Figure size 432x288 with 2 Axes>"
            ]
          },
          "metadata": {
            "tags": [],
            "needs_background": "light"
          }
        }
      ]
    },
    {
      "cell_type": "markdown",
      "metadata": {
        "id": "FmzMWcWc_-oL"
      },
      "source": [
        "We can see that using tSNE on the filtered dataset does not improve the accuracy. Thus, the best performing LDA model is the model run on the uncompressed datasets, with the filtered dataset providing the same results as the unfiltered dataset.\n",
        "\n",
        "LDA does not have any hyperparameters to tune, so no hyperparameter tuning will occur for this type of model."
      ]
    },
    {
      "cell_type": "markdown",
      "metadata": {
        "id": "qxxw1depb9VE"
      },
      "source": [
        "### Quadrantic Discriminant Analysis (QDA)\n",
        "\n",
        "Quadratic Discriminant Analysis (QDA) is a very similar method to LDA. The only difference between the two methods is that LDA assumes that the covariances between the classes are identical, and QDA does not. Thus, QDA tries to create a quadratic boundary between the classes.\n",
        "\n",
        "For this dataset, there are only 2 classes being considered for the target variable. Thus, it is expected that QDA will perform similarly to LDA.\n",
        "\n",
        "We will first run the model initally, so that feature importance can be found afterwards."
      ]
    },
    {
      "cell_type": "code",
      "metadata": {
        "colab": {
          "base_uri": "https://localhost:8080/",
          "height": 560
        },
        "id": "XeRWig3Xynx7",
        "outputId": "09784316-50a7-4ad1-8a6b-9e5f1787b251"
      },
      "source": [
        "# split the data into training and testing\n",
        "(trainX, testX, trainY, testY) = train_test_split(X, Y, test_size = 0.4, random_state = 0)\n",
        "\n",
        "start = time.time()\n",
        "\n",
        "# build the LDA classifier\n",
        "model_qda = QuadraticDiscriminantAnalysis(reg_param = 0.5)\n",
        "\n",
        "# fit the LDA classifier to the training data\n",
        "model_qda.fit(trainX, trainY)\n",
        "\n",
        "end = time.time()\n",
        "print('Running QDA took', end - start, 'seconds')\n",
        "\n",
        "# predict the labels of the test set\n",
        "predictedY = model_qda.predict(testX)\n",
        "\n",
        "# print quality metrics\n",
        "print('\\nClassification Report:\\n\\n', classification_report(testY, predictedY))\n",
        "print('\\nConfusion Matrix:\\n')\n",
        "sn.heatmap(confusion_matrix(testY, predictedY), annot = True)"
      ],
      "execution_count": 77,
      "outputs": [
        {
          "output_type": "stream",
          "text": [
            "Running QDA took 0.002894163131713867 seconds\n",
            "\n",
            "Classification Report:\n",
            "\n",
            "               precision    recall  f1-score   support\n",
            "\n",
            "           0       0.82      0.69      0.75        59\n",
            "           1       0.75      0.86      0.80        63\n",
            "\n",
            "    accuracy                           0.78       122\n",
            "   macro avg       0.78      0.78      0.78       122\n",
            "weighted avg       0.78      0.78      0.78       122\n",
            "\n",
            "\n",
            "Confusion Matrix:\n",
            "\n"
          ],
          "name": "stdout"
        },
        {
          "output_type": "execute_result",
          "data": {
            "text/plain": [
              "<matplotlib.axes._subplots.AxesSubplot at 0x7f9fee0e3690>"
            ]
          },
          "metadata": {
            "tags": []
          },
          "execution_count": 77
        },
        {
          "output_type": "display_data",
          "data": {
            "image/png": "[encoded data removed]",
            "text/plain": [
              "<Figure size 432x288 with 2 Axes>"
            ]
          },
          "metadata": {
            "tags": [],
            "needs_background": "light"
          }
        }
      ]
    },
    {
      "cell_type": "markdown",
      "metadata": {
        "id": "PZmhsDMAyn-7"
      },
      "source": [
        "We can see that for the original dataset, QDA is less accurate than LDA (by 0.01) in prediciting the classes. \n",
        "\n",
        "Now, we will perform feature selection, using permutation importance, to obtain the ranked list of featues."
      ]
    },
    {
      "cell_type": "code",
      "metadata": {
        "colab": {
          "base_uri": "https://localhost:8080/",
          "height": 297
        },
        "id": "ghol0MamF9FQ",
        "outputId": "e836d1bd-2d12-4f10-d552-8e6e6582ad77"
      },
      "source": [
        "result = permutation_importance(model_qda, testX, testY, n_repeats = 10, n_jobs = -1)\n",
        "sorted_idx = result.importances_mean.argsort()\n",
        "\n",
        "fig, ax = plt.subplots()\n",
        "ax.boxplot(result.importances[sorted_idx].T, vert = False, labels = names[sorted_idx])\n",
        "ax.set_title(\"Permutation Importances (test set)\")\n",
        "fig.tight_layout()\n",
        "plt.show()"
      ],
      "execution_count": 78,
      "outputs": [
        {
          "output_type": "display_data",
          "data": {
            "image/png": "[encoded data removed]",
            "text/plain": [
              "<Figure size 432x288 with 1 Axes>"
            ]
          },
          "metadata": {
            "tags": [],
            "needs_background": "light"
          }
        }
      ]
    },
    {
      "cell_type": "markdown",
      "metadata": {
        "id": "a_qq3maOGOnO"
      },
      "source": [
        "Now, we will see how many of the features will yield the best accuracy."
      ]
    },
    {
      "cell_type": "code",
      "metadata": {
        "colab": {
          "base_uri": "https://localhost:8080/"
        },
        "id": "dLwPbCwyGBQt",
        "outputId": "ea136053-d813-4813-bd84-769bfd1a9672"
      },
      "source": [
        "bestAccuracy = [0, 0]\n",
        "\n",
        "# intializing the first term\n",
        "tempNames = []\n",
        "tempNames.append(names[sorted_idx[12]])\n",
        "\n",
        "start = time.time()\n",
        "\n",
        "for i in range(12):\n",
        "\n",
        "  # adding the other features based on their importance\n",
        "  tempNames.append(names[sorted_idx[12-i]])\n",
        "\n",
        "  # create new X term\n",
        "  tempX = DATA[tempNames].to_numpy()\n",
        "\n",
        "  # split the data into train and test sets\n",
        "  trainX, testX, trainY, testY = train_test_split(tempX, Y, test_size = 0.4, random_state = 0)\n",
        "\n",
        "  # build and tune the classifier\n",
        "  model_qda = QuadraticDiscriminantAnalysis(reg_param = 0.5)\n",
        "\n",
        "  # fit the classifier to the training data\n",
        "  model_qda.fit(trainX, trainY)  \n",
        "\n",
        "  # predict the labels of the test set\n",
        "  predictedY = model_qda.predict(testX)\n",
        "\n",
        "  # find the mean cross-validation accuracy\n",
        "  mean_cv_scores = np.mean(cross_val_score(model_qda, trainX, trainY, cv = 5))\n",
        "    \n",
        "  # save the hyperparameter reg_param if better than found before\n",
        "  if mean_cv_scores > bestAccuracy[0]:\n",
        "      bestAccuracy = [mean_cv_scores, i+1]\n",
        "\n",
        "end = time.time()\n",
        "print('Feature testing took', end - start, 'seconds')\n",
        "\n",
        "print('\\nThe best dev accuracy', bestAccuracy[0], 'occured with', bestAccuracy[1], 'features')"
      ],
      "execution_count": 79,
      "outputs": [
        {
          "output_type": "stream",
          "text": [
            "Feature testing took 0.1863245964050293 seconds\n",
            "\n",
            "The best dev accuracy 0.8237237237237238 occured with 8 features\n"
          ],
          "name": "stdout"
        },
        {
          "output_type": "stream",
          "text": [
            "/usr/local/lib/python3.7/dist-packages/sklearn/discriminant_analysis.py:691: UserWarning: Variables are collinear\n",
            "  warnings.warn(\"Variables are collinear\")\n",
            "/usr/local/lib/python3.7/dist-packages/sklearn/discriminant_analysis.py:691: UserWarning: Variables are collinear\n",
            "  warnings.warn(\"Variables are collinear\")\n",
            "/usr/local/lib/python3.7/dist-packages/sklearn/discriminant_analysis.py:691: UserWarning: Variables are collinear\n",
            "  warnings.warn(\"Variables are collinear\")\n",
            "/usr/local/lib/python3.7/dist-packages/sklearn/discriminant_analysis.py:691: UserWarning: Variables are collinear\n",
            "  warnings.warn(\"Variables are collinear\")\n",
            "/usr/local/lib/python3.7/dist-packages/sklearn/discriminant_analysis.py:691: UserWarning: Variables are collinear\n",
            "  warnings.warn(\"Variables are collinear\")\n",
            "/usr/local/lib/python3.7/dist-packages/sklearn/discriminant_analysis.py:691: UserWarning: Variables are collinear\n",
            "  warnings.warn(\"Variables are collinear\")\n",
            "/usr/local/lib/python3.7/dist-packages/sklearn/discriminant_analysis.py:691: UserWarning: Variables are collinear\n",
            "  warnings.warn(\"Variables are collinear\")\n",
            "/usr/local/lib/python3.7/dist-packages/sklearn/discriminant_analysis.py:691: UserWarning: Variables are collinear\n",
            "  warnings.warn(\"Variables are collinear\")\n",
            "/usr/local/lib/python3.7/dist-packages/sklearn/discriminant_analysis.py:691: UserWarning: Variables are collinear\n",
            "  warnings.warn(\"Variables are collinear\")\n",
            "/usr/local/lib/python3.7/dist-packages/sklearn/discriminant_analysis.py:691: UserWarning: Variables are collinear\n",
            "  warnings.warn(\"Variables are collinear\")\n",
            "/usr/local/lib/python3.7/dist-packages/sklearn/discriminant_analysis.py:691: UserWarning: Variables are collinear\n",
            "  warnings.warn(\"Variables are collinear\")\n",
            "/usr/local/lib/python3.7/dist-packages/sklearn/discriminant_analysis.py:691: UserWarning: Variables are collinear\n",
            "  warnings.warn(\"Variables are collinear\")\n",
            "/usr/local/lib/python3.7/dist-packages/sklearn/discriminant_analysis.py:691: UserWarning: Variables are collinear\n",
            "  warnings.warn(\"Variables are collinear\")\n",
            "/usr/local/lib/python3.7/dist-packages/sklearn/discriminant_analysis.py:691: UserWarning: Variables are collinear\n",
            "  warnings.warn(\"Variables are collinear\")\n",
            "/usr/local/lib/python3.7/dist-packages/sklearn/discriminant_analysis.py:691: UserWarning: Variables are collinear\n",
            "  warnings.warn(\"Variables are collinear\")\n",
            "/usr/local/lib/python3.7/dist-packages/sklearn/discriminant_analysis.py:691: UserWarning: Variables are collinear\n",
            "  warnings.warn(\"Variables are collinear\")\n",
            "/usr/local/lib/python3.7/dist-packages/sklearn/discriminant_analysis.py:691: UserWarning: Variables are collinear\n",
            "  warnings.warn(\"Variables are collinear\")\n",
            "/usr/local/lib/python3.7/dist-packages/sklearn/discriminant_analysis.py:691: UserWarning: Variables are collinear\n",
            "  warnings.warn(\"Variables are collinear\")\n",
            "/usr/local/lib/python3.7/dist-packages/sklearn/discriminant_analysis.py:691: UserWarning: Variables are collinear\n",
            "  warnings.warn(\"Variables are collinear\")\n",
            "/usr/local/lib/python3.7/dist-packages/sklearn/discriminant_analysis.py:691: UserWarning: Variables are collinear\n",
            "  warnings.warn(\"Variables are collinear\")\n",
            "/usr/local/lib/python3.7/dist-packages/sklearn/discriminant_analysis.py:691: UserWarning: Variables are collinear\n",
            "  warnings.warn(\"Variables are collinear\")\n",
            "/usr/local/lib/python3.7/dist-packages/sklearn/discriminant_analysis.py:691: UserWarning: Variables are collinear\n",
            "  warnings.warn(\"Variables are collinear\")\n",
            "/usr/local/lib/python3.7/dist-packages/sklearn/discriminant_analysis.py:691: UserWarning: Variables are collinear\n",
            "  warnings.warn(\"Variables are collinear\")\n",
            "/usr/local/lib/python3.7/dist-packages/sklearn/discriminant_analysis.py:691: UserWarning: Variables are collinear\n",
            "  warnings.warn(\"Variables are collinear\")\n",
            "/usr/local/lib/python3.7/dist-packages/sklearn/discriminant_analysis.py:691: UserWarning: Variables are collinear\n",
            "  warnings.warn(\"Variables are collinear\")\n",
            "/usr/local/lib/python3.7/dist-packages/sklearn/discriminant_analysis.py:691: UserWarning: Variables are collinear\n",
            "  warnings.warn(\"Variables are collinear\")\n",
            "/usr/local/lib/python3.7/dist-packages/sklearn/discriminant_analysis.py:691: UserWarning: Variables are collinear\n",
            "  warnings.warn(\"Variables are collinear\")\n",
            "/usr/local/lib/python3.7/dist-packages/sklearn/discriminant_analysis.py:691: UserWarning: Variables are collinear\n",
            "  warnings.warn(\"Variables are collinear\")\n",
            "/usr/local/lib/python3.7/dist-packages/sklearn/discriminant_analysis.py:691: UserWarning: Variables are collinear\n",
            "  warnings.warn(\"Variables are collinear\")\n",
            "/usr/local/lib/python3.7/dist-packages/sklearn/discriminant_analysis.py:691: UserWarning: Variables are collinear\n",
            "  warnings.warn(\"Variables are collinear\")\n",
            "/usr/local/lib/python3.7/dist-packages/sklearn/discriminant_analysis.py:691: UserWarning: Variables are collinear\n",
            "  warnings.warn(\"Variables are collinear\")\n",
            "/usr/local/lib/python3.7/dist-packages/sklearn/discriminant_analysis.py:691: UserWarning: Variables are collinear\n",
            "  warnings.warn(\"Variables are collinear\")\n",
            "/usr/local/lib/python3.7/dist-packages/sklearn/discriminant_analysis.py:691: UserWarning: Variables are collinear\n",
            "  warnings.warn(\"Variables are collinear\")\n",
            "/usr/local/lib/python3.7/dist-packages/sklearn/discriminant_analysis.py:691: UserWarning: Variables are collinear\n",
            "  warnings.warn(\"Variables are collinear\")\n",
            "/usr/local/lib/python3.7/dist-packages/sklearn/discriminant_analysis.py:691: UserWarning: Variables are collinear\n",
            "  warnings.warn(\"Variables are collinear\")\n",
            "/usr/local/lib/python3.7/dist-packages/sklearn/discriminant_analysis.py:691: UserWarning: Variables are collinear\n",
            "  warnings.warn(\"Variables are collinear\")\n",
            "/usr/local/lib/python3.7/dist-packages/sklearn/discriminant_analysis.py:691: UserWarning: Variables are collinear\n",
            "  warnings.warn(\"Variables are collinear\")\n",
            "/usr/local/lib/python3.7/dist-packages/sklearn/discriminant_analysis.py:691: UserWarning: Variables are collinear\n",
            "  warnings.warn(\"Variables are collinear\")\n",
            "/usr/local/lib/python3.7/dist-packages/sklearn/discriminant_analysis.py:691: UserWarning: Variables are collinear\n",
            "  warnings.warn(\"Variables are collinear\")\n",
            "/usr/local/lib/python3.7/dist-packages/sklearn/discriminant_analysis.py:691: UserWarning: Variables are collinear\n",
            "  warnings.warn(\"Variables are collinear\")\n",
            "/usr/local/lib/python3.7/dist-packages/sklearn/discriminant_analysis.py:691: UserWarning: Variables are collinear\n",
            "  warnings.warn(\"Variables are collinear\")\n",
            "/usr/local/lib/python3.7/dist-packages/sklearn/discriminant_analysis.py:691: UserWarning: Variables are collinear\n",
            "  warnings.warn(\"Variables are collinear\")\n",
            "/usr/local/lib/python3.7/dist-packages/sklearn/discriminant_analysis.py:691: UserWarning: Variables are collinear\n",
            "  warnings.warn(\"Variables are collinear\")\n",
            "/usr/local/lib/python3.7/dist-packages/sklearn/discriminant_analysis.py:691: UserWarning: Variables are collinear\n",
            "  warnings.warn(\"Variables are collinear\")\n",
            "/usr/local/lib/python3.7/dist-packages/sklearn/discriminant_analysis.py:691: UserWarning: Variables are collinear\n",
            "  warnings.warn(\"Variables are collinear\")\n",
            "/usr/local/lib/python3.7/dist-packages/sklearn/discriminant_analysis.py:691: UserWarning: Variables are collinear\n",
            "  warnings.warn(\"Variables are collinear\")\n",
            "/usr/local/lib/python3.7/dist-packages/sklearn/discriminant_analysis.py:691: UserWarning: Variables are collinear\n",
            "  warnings.warn(\"Variables are collinear\")\n",
            "/usr/local/lib/python3.7/dist-packages/sklearn/discriminant_analysis.py:691: UserWarning: Variables are collinear\n",
            "  warnings.warn(\"Variables are collinear\")\n",
            "/usr/local/lib/python3.7/dist-packages/sklearn/discriminant_analysis.py:691: UserWarning: Variables are collinear\n",
            "  warnings.warn(\"Variables are collinear\")\n",
            "/usr/local/lib/python3.7/dist-packages/sklearn/discriminant_analysis.py:691: UserWarning: Variables are collinear\n",
            "  warnings.warn(\"Variables are collinear\")\n",
            "/usr/local/lib/python3.7/dist-packages/sklearn/discriminant_analysis.py:691: UserWarning: Variables are collinear\n",
            "  warnings.warn(\"Variables are collinear\")\n",
            "/usr/local/lib/python3.7/dist-packages/sklearn/discriminant_analysis.py:691: UserWarning: Variables are collinear\n",
            "  warnings.warn(\"Variables are collinear\")\n",
            "/usr/local/lib/python3.7/dist-packages/sklearn/discriminant_analysis.py:691: UserWarning: Variables are collinear\n",
            "  warnings.warn(\"Variables are collinear\")\n",
            "/usr/local/lib/python3.7/dist-packages/sklearn/discriminant_analysis.py:691: UserWarning: Variables are collinear\n",
            "  warnings.warn(\"Variables are collinear\")\n",
            "/usr/local/lib/python3.7/dist-packages/sklearn/discriminant_analysis.py:691: UserWarning: Variables are collinear\n",
            "  warnings.warn(\"Variables are collinear\")\n",
            "/usr/local/lib/python3.7/dist-packages/sklearn/discriminant_analysis.py:691: UserWarning: Variables are collinear\n",
            "  warnings.warn(\"Variables are collinear\")\n",
            "/usr/local/lib/python3.7/dist-packages/sklearn/discriminant_analysis.py:691: UserWarning: Variables are collinear\n",
            "  warnings.warn(\"Variables are collinear\")\n",
            "/usr/local/lib/python3.7/dist-packages/sklearn/discriminant_analysis.py:691: UserWarning: Variables are collinear\n",
            "  warnings.warn(\"Variables are collinear\")\n",
            "/usr/local/lib/python3.7/dist-packages/sklearn/discriminant_analysis.py:691: UserWarning: Variables are collinear\n",
            "  warnings.warn(\"Variables are collinear\")\n",
            "/usr/local/lib/python3.7/dist-packages/sklearn/discriminant_analysis.py:691: UserWarning: Variables are collinear\n",
            "  warnings.warn(\"Variables are collinear\")\n",
            "/usr/local/lib/python3.7/dist-packages/sklearn/discriminant_analysis.py:691: UserWarning: Variables are collinear\n",
            "  warnings.warn(\"Variables are collinear\")\n",
            "/usr/local/lib/python3.7/dist-packages/sklearn/discriminant_analysis.py:691: UserWarning: Variables are collinear\n",
            "  warnings.warn(\"Variables are collinear\")\n",
            "/usr/local/lib/python3.7/dist-packages/sklearn/discriminant_analysis.py:691: UserWarning: Variables are collinear\n",
            "  warnings.warn(\"Variables are collinear\")\n",
            "/usr/local/lib/python3.7/dist-packages/sklearn/discriminant_analysis.py:691: UserWarning: Variables are collinear\n",
            "  warnings.warn(\"Variables are collinear\")\n",
            "/usr/local/lib/python3.7/dist-packages/sklearn/discriminant_analysis.py:691: UserWarning: Variables are collinear\n",
            "  warnings.warn(\"Variables are collinear\")\n",
            "/usr/local/lib/python3.7/dist-packages/sklearn/discriminant_analysis.py:691: UserWarning: Variables are collinear\n",
            "  warnings.warn(\"Variables are collinear\")\n",
            "/usr/local/lib/python3.7/dist-packages/sklearn/discriminant_analysis.py:691: UserWarning: Variables are collinear\n",
            "  warnings.warn(\"Variables are collinear\")\n",
            "/usr/local/lib/python3.7/dist-packages/sklearn/discriminant_analysis.py:691: UserWarning: Variables are collinear\n",
            "  warnings.warn(\"Variables are collinear\")\n",
            "/usr/local/lib/python3.7/dist-packages/sklearn/discriminant_analysis.py:691: UserWarning: Variables are collinear\n",
            "  warnings.warn(\"Variables are collinear\")\n",
            "/usr/local/lib/python3.7/dist-packages/sklearn/discriminant_analysis.py:691: UserWarning: Variables are collinear\n",
            "  warnings.warn(\"Variables are collinear\")\n",
            "/usr/local/lib/python3.7/dist-packages/sklearn/discriminant_analysis.py:691: UserWarning: Variables are collinear\n",
            "  warnings.warn(\"Variables are collinear\")\n",
            "/usr/local/lib/python3.7/dist-packages/sklearn/discriminant_analysis.py:691: UserWarning: Variables are collinear\n",
            "  warnings.warn(\"Variables are collinear\")\n"
          ],
          "name": "stderr"
        }
      ]
    },
    {
      "cell_type": "markdown",
      "metadata": {
        "id": "tEmEgcupGXyI"
      },
      "source": [
        "However, we can see that for QDA, adding the features into the model by order of importance yields an error for the colinearity of the features. This may because the covariance between the classes is not assumed, the correlation between the features is more important for QDA. Thus, we can't proceed any further with the feature selection.\n",
        "\n",
        "We will then move onto testing the models run on the compressed datasets with the model run on the original dataset. First, we will run the PCA compressed dataset."
      ]
    },
    {
      "cell_type": "code",
      "metadata": {
        "colab": {
          "base_uri": "https://localhost:8080/",
          "height": 560
        },
        "id": "Is8U_dN8yoLU",
        "outputId": "671967a8-d458-4f33-d8a5-828f8be5884d"
      },
      "source": [
        "# split the data into training and testing\n",
        "(trainX, testX, trainY, testY) = train_test_split(X_pca, Y, test_size = 0.4, random_state = 0)\n",
        "\n",
        "start = time.time()\n",
        "\n",
        "# build the LDA classifier\n",
        "model_qda = QuadraticDiscriminantAnalysis(reg_param = 0.5)\n",
        "\n",
        "# fit the LDA classifier to the training data\n",
        "model_qda.fit(trainX, trainY)\n",
        "\n",
        "end = time.time()\n",
        "print('Running QDA took', end - start, 'seconds')\n",
        "\n",
        "# predict the labels of the test set\n",
        "predictedY = model_qda.predict(testX)\n",
        "\n",
        "# print quality metrics\n",
        "print('\\nClassification Report:\\n\\n', classification_report(testY, predictedY))\n",
        "print('\\nConfusion Matrix:\\n')\n",
        "sn.heatmap(confusion_matrix(testY, predictedY), annot = True)"
      ],
      "execution_count": 83,
      "outputs": [
        {
          "output_type": "stream",
          "text": [
            "Running QDA took 0.006653308868408203 seconds\n",
            "\n",
            "Classification Report:\n",
            "\n",
            "               precision    recall  f1-score   support\n",
            "\n",
            "           0       0.65      0.61      0.63        59\n",
            "           1       0.66      0.70      0.68        63\n",
            "\n",
            "    accuracy                           0.66       122\n",
            "   macro avg       0.66      0.65      0.65       122\n",
            "weighted avg       0.66      0.66      0.65       122\n",
            "\n",
            "\n",
            "Confusion Matrix:\n",
            "\n"
          ],
          "name": "stdout"
        },
        {
          "output_type": "execute_result",
          "data": {
            "text/plain": [
              "<matplotlib.axes._subplots.AxesSubplot at 0x7f9fedda6390>"
            ]
          },
          "metadata": {
            "tags": []
          },
          "execution_count": 83
        },
        {
          "output_type": "display_data",
          "data": {
            "image/png": "[encoded data removed]",
            "text/plain": [
              "<Figure size 432x288 with 2 Axes>"
            ]
          },
          "metadata": {
            "tags": [],
            "needs_background": "light"
          }
        }
      ]
    },
    {
      "cell_type": "markdown",
      "metadata": {
        "id": "Zk143BroyoYX"
      },
      "source": [
        "We can see that using PCA does not improve the accuracy of the QDA model.\n",
        "\n",
        "Next, we will try using the tSNE compressed dataset with QDA."
      ]
    },
    {
      "cell_type": "code",
      "metadata": {
        "colab": {
          "base_uri": "https://localhost:8080/",
          "height": 560
        },
        "id": "zNJTbYETyojy",
        "outputId": "931fe946-8b7c-4f63-950e-ebcf7d427358"
      },
      "source": [
        "# split the data into training and testing\n",
        "(trainX, testX, trainY, testY) = train_test_split(X_tsne, Y, test_size = 0.4, random_state = 0)\n",
        "\n",
        "start = time.time()\n",
        "\n",
        "# build the LDA classifier\n",
        "model_qda = QuadraticDiscriminantAnalysis(reg_param = 0.5)\n",
        "\n",
        "# fit the LDA classifier to the training data\n",
        "model_qda.fit(trainX, trainY)\n",
        "\n",
        "end = time.time()\n",
        "print('Running QDA took', end - start, 'seconds')\n",
        "\n",
        "# predict the labels of the test set\n",
        "predictedY = model_qda.predict(testX)\n",
        "\n",
        "# print quality metrics\n",
        "print('\\nClassification Report:\\n\\n', classification_report(testY, predictedY))\n",
        "print('\\nConfusion Matrix:\\n')\n",
        "sn.heatmap(confusion_matrix(testY, predictedY), annot = True)"
      ],
      "execution_count": 84,
      "outputs": [
        {
          "output_type": "stream",
          "text": [
            "Running QDA took 0.0010013580322265625 seconds\n",
            "\n",
            "Classification Report:\n",
            "\n",
            "               precision    recall  f1-score   support\n",
            "\n",
            "           0       0.68      0.58      0.62        59\n",
            "           1       0.65      0.75      0.70        63\n",
            "\n",
            "    accuracy                           0.66       122\n",
            "   macro avg       0.67      0.66      0.66       122\n",
            "weighted avg       0.67      0.66      0.66       122\n",
            "\n",
            "\n",
            "Confusion Matrix:\n",
            "\n"
          ],
          "name": "stdout"
        },
        {
          "output_type": "execute_result",
          "data": {
            "text/plain": [
              "<matplotlib.axes._subplots.AxesSubplot at 0x7f9fedc08890>"
            ]
          },
          "metadata": {
            "tags": []
          },
          "execution_count": 84
        },
        {
          "output_type": "display_data",
          "data": {
            "image/png": "[encoded data removed]",
            "text/plain": [
              "<Figure size 432x288 with 2 Axes>"
            ]
          },
          "metadata": {
            "tags": [],
            "needs_background": "light"
          }
        }
      ]
    },
    {
      "cell_type": "markdown",
      "metadata": {
        "id": "xf6930CMyoyC"
      },
      "source": [
        "For this model, using tSNE yields a better accuracy than using PCA, by 0.01.\n",
        "\n",
        "Now, we will hyperparameter tune the 3 QDA models to see if accuracy is increased. The hyperparameter of the sklearn implimentation of QDA is 'reg_param,' where it regularizes the covariance estimates by transforming S2 (scaling attribute of a given class) as:\n",
        "> S2 = (1 - reg_param) * S2 + reg_param * np.eye(n_features).\n",
        "\n",
        "We will first tune the model run on the original dataset."
      ]
    },
    {
      "cell_type": "code",
      "metadata": {
        "id": "K3WwlzzTb9NG",
        "colab": {
          "base_uri": "https://localhost:8080/",
          "height": 595
        },
        "outputId": "a0a9ae4f-9d86-421a-c6e0-c92817f67558"
      },
      "source": [
        "bestAccuracy_qda_o = [0, 0]\n",
        "\n",
        "# split the data into training and testing\n",
        "(trainX, testX, trainY, testY) = train_test_split(X, Y, test_size = 0.4, random_state = 0)\n",
        "\n",
        "start = time.time()\n",
        "\n",
        "# test hyperparameters\n",
        "for i in range(25):\n",
        "    rp = i/100\n",
        "    \n",
        "    # build the QDA classifier\n",
        "    model_qda = QuadraticDiscriminantAnalysis(reg_param = rp)\n",
        "\n",
        "    # fit the QDA classifier to the training data\n",
        "    model_qda.fit(trainX, trainY)\n",
        "    \n",
        "    # find the mean cross-validation accuracy\n",
        "    mean_cv_scores = np.mean(cross_val_score(model_qda, trainX, trainY, cv = 5))\n",
        "    \n",
        "    # save the hyperparameter reg_param if better than found before\n",
        "    if mean_cv_scores > bestAccuracy_qda_o[0]:\n",
        "        bestAccuracy_qda_o = [mean_cv_scores, rp]\n",
        "        \n",
        "end = time.time()\n",
        "print('Tuning QDA took', end - start, 'seconds')\n",
        "\n",
        "print('\\nThe best dev accuracy', bestAccuracy_qda_o[0], 'occured with', bestAccuracy_qda_o[1], 'regularization parameter')\n",
        "        \n",
        "# build the QDA classifier\n",
        "model_qda = QuadraticDiscriminantAnalysis(reg_param = bestAccuracy_qda_o[1])\n",
        "\n",
        "# fit the QDA classifier to the training data\n",
        "model_qda.fit(trainX, trainY)\n",
        "\n",
        "# predict the labels of the test set\n",
        "predictedY = model_qda.predict(testX)\n",
        "\n",
        "# print quality metrics\n",
        "print('\\nTest Classification Report for', bestAccuracy[0], 'reg_param:\\n\\n', classification_report(testY, predictedY))\n",
        "print('\\nConfusion Matrix:\\n')\n",
        "sn.heatmap(confusion_matrix(testY, predictedY), annot = True)"
      ],
      "execution_count": 85,
      "outputs": [
        {
          "output_type": "stream",
          "text": [
            "Tuning QDA took 0.24018168449401855 seconds\n",
            "\n",
            "The best dev accuracy 0.8402402402402401 occured with 0.07 regularization parameter\n",
            "\n",
            "Test Classification Report for 0.8237237237237238 reg_param:\n",
            "\n",
            "               precision    recall  f1-score   support\n",
            "\n",
            "           0       0.86      0.71      0.78        59\n",
            "           1       0.77      0.89      0.82        63\n",
            "\n",
            "    accuracy                           0.80       122\n",
            "   macro avg       0.81      0.80      0.80       122\n",
            "weighted avg       0.81      0.80      0.80       122\n",
            "\n",
            "\n",
            "Confusion Matrix:\n",
            "\n"
          ],
          "name": "stdout"
        },
        {
          "output_type": "execute_result",
          "data": {
            "text/plain": [
              "<matplotlib.axes._subplots.AxesSubplot at 0x7f9fedb5c090>"
            ]
          },
          "metadata": {
            "tags": []
          },
          "execution_count": 85
        },
        {
          "output_type": "display_data",
          "data": {
            "image/png": "[encoded data removed]",
            "text/plain": [
              "<Figure size 432x288 with 2 Axes>"
            ]
          },
          "metadata": {
            "tags": [],
            "needs_background": "light"
          }
        }
      ]
    },
    {
      "cell_type": "markdown",
      "metadata": {
        "id": "cdr3OT5siV1b"
      },
      "source": [
        "We can see that the tuned QDA model performs better than the untuned QDA model, and the tuned LDA model.\n",
        "\n",
        "Now we will do the same thing using the PCA compressed dataset."
      ]
    },
    {
      "cell_type": "code",
      "metadata": {
        "id": "GdlfxseTb9eZ",
        "colab": {
          "base_uri": "https://localhost:8080/",
          "height": 599
        },
        "outputId": "48c56dd7-4e60-42c1-c8c0-24639eacadc1"
      },
      "source": [
        "bestAccuracy_qda_pca = [0, 0]\n",
        "\n",
        "# split the data into training and testing\n",
        "(trainX, testX, trainY, testY) = train_test_split(X_pca, Y, test_size = 0.4, random_state = 0)\n",
        "\n",
        "start = time.time()\n",
        "\n",
        "# test hyperparameters\n",
        "for i in range(25):\n",
        "    rp = i/100\n",
        "    \n",
        "    # build the QDA classifier\n",
        "    model_qda = QuadraticDiscriminantAnalysis(reg_param = rp)\n",
        "\n",
        "    # fit the QDA classifier to the training data\n",
        "    model_qda.fit(trainX, trainY)\n",
        "    \n",
        "    # find the mean cross-validation accuracy\n",
        "    mean_cv_scores = np.mean(cross_val_score(model_qda, trainX, trainY, cv = 5))\n",
        "    \n",
        "    # save the hyperparameter reg_param if better than found before\n",
        "    if mean_cv_scores > bestAccuracy_qda_pca[0]:\n",
        "        bestAccuracy_qda_pca = [mean_cv_scores, rp]\n",
        "        \n",
        "end = time.time()\n",
        "print('Tuning QDA took', end - start, 'seconds')\n",
        "\n",
        "print('\\nThe best dev accuracy', bestAccuracy_qda_pca[0], 'occured with', bestAccuracy_qda_pca[1], 'regularization parameter')\n",
        "        \n",
        "# build the QDA classifier\n",
        "model_qda = QuadraticDiscriminantAnalysis(reg_param = bestAccuracy_qda_pca[1])\n",
        "\n",
        "# fit the QDA classifier to the training data\n",
        "model_qda.fit(trainX, trainY)\n",
        "\n",
        "# predict the labels of the test set\n",
        "predictedY = model_qda.predict(testX)\n",
        "\n",
        "# print quality metrics\n",
        "print('\\nTest Classification Report for', bestAccuracy_qda_pca[0], 'reg_param:\\n\\n', classification_report(testY, predictedY))\n",
        "print('\\nConfusion Matrix:\\n')\n",
        "sn.heatmap(confusion_matrix(testY, predictedY), annot = True)"
      ],
      "execution_count": 86,
      "outputs": [
        {
          "output_type": "stream",
          "text": [
            "Tuning QDA took 0.20082688331604004 seconds\n",
            "\n",
            "The best dev accuracy 0.6962462462462462 occured with 0.24 regularization parameter\n",
            "\n",
            "Test Classification Report for 0.6962462462462462 reg_param:\n",
            "\n",
            "               precision    recall  f1-score   support\n",
            "\n",
            "           0       0.65      0.58      0.61        59\n",
            "           1       0.64      0.71      0.68        63\n",
            "\n",
            "    accuracy                           0.65       122\n",
            "   macro avg       0.65      0.65      0.64       122\n",
            "weighted avg       0.65      0.65      0.65       122\n",
            "\n",
            "\n",
            "Confusion Matrix:\n",
            "\n"
          ],
          "name": "stdout"
        },
        {
          "output_type": "execute_result",
          "data": {
            "text/plain": [
              "<matplotlib.axes._subplots.AxesSubplot at 0x7f9fedb41090>"
            ]
          },
          "metadata": {
            "tags": []
          },
          "execution_count": 86
        },
        {
          "output_type": "display_data",
          "data": {
            "image/png": "[encoded data removed]",
            "text/plain": [
              "<Figure size 432x288 with 2 Axes>"
            ]
          },
          "metadata": {
            "tags": [],
            "needs_background": "light"
          }
        }
      ]
    },
    {
      "cell_type": "markdown",
      "metadata": {
        "id": "El_m5BlzkXKf"
      },
      "source": [
        "The hyperparameter tuning does not improve the accuracy of the model using the PCA compressed dataset.\n",
        "\n",
        "We will repreat this but using the tSNE compressed dataset."
      ]
    },
    {
      "cell_type": "code",
      "metadata": {
        "colab": {
          "base_uri": "https://localhost:8080/",
          "height": 595
        },
        "id": "TvFpwBxukXS1",
        "outputId": "95d49ff8-e46a-490b-c102-e82dced8ad60"
      },
      "source": [
        "bestAccuracy_qda_tsne = [0, 0]\n",
        "\n",
        "# split the data into training and testing\n",
        "(trainX, testX, trainY, testY) = train_test_split(X_tsne, Y, test_size = 0.4, random_state = 0)\n",
        "\n",
        "start = time.time()\n",
        "\n",
        "# test hyperparameters\n",
        "for i in range(25):\n",
        "    rp = i/100\n",
        "    \n",
        "    # build the QDA classifier\n",
        "    model_qda = QuadraticDiscriminantAnalysis(reg_param = rp)\n",
        "\n",
        "    # fit the QDA classifier to the training data\n",
        "    model_qda.fit(trainX, trainY)\n",
        "    \n",
        "    # find the mean cross-validation accuracy\n",
        "    mean_cv_scores = np.mean(cross_val_score(model_qda, trainX, trainY, cv = 5))\n",
        "    \n",
        "    # save the hyperparameter reg_param if better than found before\n",
        "    if mean_cv_scores > bestAccuracy_qda_tsne[0]:\n",
        "        bestAccuracy_qda_tsne = [mean_cv_scores, rp]\n",
        "        \n",
        "end = time.time()\n",
        "print('Tuning QDA took', end - start, 'seconds')\n",
        "\n",
        "print('\\nThe best dev accuracy', bestAccuracy_qda_tsne[0], 'occured with', bestAccuracy_qda_tsne[1], 'regularization parameter')\n",
        "        \n",
        "# build the QDA classifier\n",
        "model_qda = QuadraticDiscriminantAnalysis(reg_param = bestAccuracy_qda_tsne[1])\n",
        "\n",
        "# fit the QDA classifier to the training data\n",
        "model_qda.fit(trainX, trainY)\n",
        "\n",
        "# predict the labels of the test set\n",
        "predictedY = model_qda.predict(testX)\n",
        "\n",
        "# print quality metrics\n",
        "print('\\nTest Classification Report for', bestAccuracy_qda_tsne[0], 'reg_param:\\n\\n', classification_report(testY, predictedY))\n",
        "print('\\nConfusion Matrix:\\n')\n",
        "sn.heatmap(confusion_matrix(testY, predictedY), annot = True)"
      ],
      "execution_count": 87,
      "outputs": [
        {
          "output_type": "stream",
          "text": [
            "Tuning QDA took 0.1790940761566162 seconds\n",
            "\n",
            "The best dev accuracy 0.6686186186186186 occured with 0.0 regularization parameter\n",
            "\n",
            "Test Classification Report for 0.6686186186186186 reg_param:\n",
            "\n",
            "               precision    recall  f1-score   support\n",
            "\n",
            "           0       0.68      0.58      0.62        59\n",
            "           1       0.65      0.75      0.70        63\n",
            "\n",
            "    accuracy                           0.66       122\n",
            "   macro avg       0.67      0.66      0.66       122\n",
            "weighted avg       0.67      0.66      0.66       122\n",
            "\n",
            "\n",
            "Confusion Matrix:\n",
            "\n"
          ],
          "name": "stdout"
        },
        {
          "output_type": "execute_result",
          "data": {
            "text/plain": [
              "<matplotlib.axes._subplots.AxesSubplot at 0x7f9fed9eb390>"
            ]
          },
          "metadata": {
            "tags": []
          },
          "execution_count": 87
        },
        {
          "output_type": "display_data",
          "data": {
            "image/png": "[encoded data removed]",
            "text/plain": [
              "<Figure size 432x288 with 2 Axes>"
            ]
          },
          "metadata": {
            "tags": [],
            "needs_background": "light"
          }
        }
      ]
    },
    {
      "cell_type": "markdown",
      "metadata": {
        "id": "oWQczuLzKkIb"
      },
      "source": [
        "We can see (again) that the hyperparameter tuning does not improve the accuracy of the model using the tSNE compressed dataset.\n",
        "\n",
        "Overall, the QDA model with the best accuracy is the tuned model run on the original dataset."
      ]
    },
    {
      "cell_type": "markdown",
      "metadata": {
        "id": "DIOZZTQVkYgR"
      },
      "source": [
        "### Decision Tree Classifier\n",
        "\n",
        "Decision Trees are non-parametric supervised learning models that predict the value of a target variable by learning simple decision rules that are inferred from the features. \n",
        "\n",
        "We will first run the model initally, so that feature importance can be found afterwards."
      ]
    },
    {
      "cell_type": "code",
      "metadata": {
        "colab": {
          "base_uri": "https://localhost:8080/",
          "height": 577
        },
        "id": "RDTErz3vzTbE",
        "outputId": "687b4592-04b1-4599-d5b9-a6537070b2f8"
      },
      "source": [
        "# split the data into train and test sets\n",
        "trainX, testX, trainY, testY = train_test_split(X, Y, test_size = 0.4, random_state = 0)\n",
        "\n",
        "start = time.time()\n",
        "\n",
        "# build and tune the classifier\n",
        "model_dt = DecisionTreeClassifier(random_state = 0)\n",
        "\n",
        "# fit the classifier to the training data\n",
        "model_dt.fit(trainX, trainY)\n",
        "\n",
        "end = time.time()\n",
        "print('Tuning Decision Tree Classifier took', end - start, 'seconds')\n",
        "\n",
        "# predict the labels of the test set\n",
        "predictedY = model_dt.predict(testX)\n",
        "\n",
        "# print quality metrics\n",
        "print('\\nTesting Classification Report:\\n\\n', classification_report(testY, predictedY))\n",
        "print('\\nTesting Confusion Matrix:\\n')\n",
        "\n",
        "sn.heatmap(confusion_matrix(testY, predictedY))\n",
        "plt.figure()"
      ],
      "execution_count": 190,
      "outputs": [
        {
          "output_type": "stream",
          "text": [
            "Tuning Decision Tree Classifier took 0.004729747772216797 seconds\n",
            "\n",
            "Testing Classification Report:\n",
            "\n",
            "               precision    recall  f1-score   support\n",
            "\n",
            "           0       0.70      0.63      0.66        59\n",
            "           1       0.68      0.75      0.71        63\n",
            "\n",
            "    accuracy                           0.69       122\n",
            "   macro avg       0.69      0.69      0.69       122\n",
            "weighted avg       0.69      0.69      0.69       122\n",
            "\n",
            "\n",
            "Testing Confusion Matrix:\n",
            "\n"
          ],
          "name": "stdout"
        },
        {
          "output_type": "execute_result",
          "data": {
            "text/plain": [
              "<Figure size 432x288 with 0 Axes>"
            ]
          },
          "metadata": {
            "tags": []
          },
          "execution_count": 190
        },
        {
          "output_type": "display_data",
          "data": {
            "image/png": "[encoded data removed]",
            "text/plain": [
              "<Figure size 432x288 with 2 Axes>"
            ]
          },
          "metadata": {
            "tags": [],
            "needs_background": "light"
          }
        },
        {
          "output_type": "display_data",
          "data": {
            "text/plain": [
              "<Figure size 432x288 with 0 Axes>"
            ]
          },
          "metadata": {
            "tags": []
          }
        }
      ]
    },
    {
      "cell_type": "markdown",
      "metadata": {
        "id": "i_OfKMhwOeAK"
      },
      "source": [
        "We can see that the accuracy of the decision tree classifier is at 0.75. This accuracy is not better than any of the models run beforehand.\n",
        "\n",
        "Now, we will find the feature importance for this model. For this model and the following ones, we can directly extract the feature importance from the model."
      ]
    },
    {
      "cell_type": "code",
      "metadata": {
        "colab": {
          "base_uri": "https://localhost:8080/",
          "height": 374
        },
        "id": "c6dPUDdF--39",
        "outputId": "abf1cb83-2ab4-44d4-a664-0c19de82ff62"
      },
      "source": [
        "# get importance\n",
        "featureImportance = model_dt.feature_importances_\n",
        "sorted_idx = featureImportance.argsort()\n",
        "\n",
        "# plot feature importance\n",
        "plt.figure(figsize=(12,6))\n",
        "plt.bar([x for x in range(len(sorted_idx))], featureImportance[sorted_idx], tick_label = names[sorted_idx])\n",
        "plt.show()"
      ],
      "execution_count": 191,
      "outputs": [
        {
          "output_type": "display_data",
          "data": {
            "image/png": "[encoded data removed]",
            "text/plain": [
              "<Figure size 864x432 with 1 Axes>"
            ]
          },
          "metadata": {
            "tags": [],
            "needs_background": "light"
          }
        }
      ]
    },
    {
      "cell_type": "markdown",
      "metadata": {
        "id": "QnoTzqfHzTjc"
      },
      "source": [
        "Now, from the above plot, we create the ranking for the features and check which features should be included by adding them into the model, one at a time base don their importance."
      ]
    },
    {
      "cell_type": "code",
      "metadata": {
        "colab": {
          "base_uri": "https://localhost:8080/"
        },
        "id": "8zPHtXw-afC9",
        "outputId": "7029165b-e6ff-4b37-a2ef-0fde2f1a49dc"
      },
      "source": [
        "bestAccuracy = [0, 0]\n",
        "\n",
        "# intializing the first term\n",
        "tempNames = []\n",
        "tempNames.append(names[sorted_idx[12]])\n",
        "\n",
        "start = time.time()\n",
        "\n",
        "for i in range(13):\n",
        "\n",
        "  # adding the other features based on their importance\n",
        "  tempNames.append(FI_list[0,12-i])\n",
        "\n",
        "  # create new X term\n",
        "  tempX = DATA[tempNames].to_numpy()\n",
        "\n",
        "  # split the data into train and test sets\n",
        "  trainX, testX, trainY, testY = train_test_split(tempX, Y, test_size = 0.4, random_state = 0)\n",
        "\n",
        "  # build and tune the classifier\n",
        "  model_dt = DecisionTreeClassifier(random_state = 0)\n",
        "\n",
        "  # fit the classifier to the training data\n",
        "  model_dt.fit(trainX, trainY)  \n",
        "\n",
        "  # predict the labels of the test set\n",
        "  predictedY = model_dt.predict(testX)\n",
        "\n",
        "  # find the mean cross-validation accuracy\n",
        "  mean_cv_scores = np.mean(cross_val_score(model_dt, trainX, trainY, cv = 5))\n",
        "    \n",
        "  # save the hyperparameter reg_param if better than found before\n",
        "  if mean_cv_scores > bestAccuracy[0]:\n",
        "      bestAccuracy = [mean_cv_scores, i+1]\n",
        "\n",
        "end = time.time()\n",
        "print('Feature testing took', end - start, 'seconds')\n",
        "\n",
        "print('\\nThe best dev accuracy', bestAccuracy[0], 'occured with', bestAccuracy[1], 'features')"
      ],
      "execution_count": 198,
      "outputs": [
        {
          "output_type": "stream",
          "text": [
            "Feature testing took 0.151108980178833 seconds\n",
            "\n",
            "The best dev accuracy 0.773873873873874 occured with 5 features\n"
          ],
          "name": "stdout"
        }
      ]
    },
    {
      "cell_type": "markdown",
      "metadata": {
        "id": "b8_e35CtReYE"
      },
      "source": [
        "Now, we will run the model with the features chosen above."
      ]
    },
    {
      "cell_type": "code",
      "metadata": {
        "colab": {
          "base_uri": "https://localhost:8080/",
          "height": 577
        },
        "id": "25P6FQWxU8bL",
        "outputId": "2249f562-138a-4a26-fc5c-a775c16409a9"
      },
      "source": [
        "# create new list of feature names\n",
        "newNames = []\n",
        "\n",
        "# add features into new name list\n",
        "for i in range(bestAccuracy[1]):\n",
        "  newNames.append(names[sorted_idx[12-i]])\n",
        "\n",
        "# create new X term\n",
        "newX_o = DATA[newNames].to_numpy()\n",
        "\n",
        "# split the data into train and test sets\n",
        "trainX, testX, trainY, testY = train_test_split(newX_o, Y, test_size = 0.4, random_state = 0)\n",
        "\n",
        "start = time.time()\n",
        "\n",
        "# build and tune the classifier\n",
        "model_dt = DecisionTreeClassifier(random_state = 0)\n",
        "\n",
        "# fit the classifier to the training data\n",
        "model_dt.fit(trainX, trainY)\n",
        "\n",
        "end = time.time()\n",
        "print('Tuning Decision Tree Classifier took', end - start, 'seconds')\n",
        "\n",
        "# predict the labels of the test set\n",
        "predictedY = model_dt.predict(testX)\n",
        "\n",
        "# print quality metrics\n",
        "print('\\nTesting Classification Report:\\n\\n', classification_report(testY, predictedY))\n",
        "print('\\nTesting Confusion Matrix:\\n')\n",
        "\n",
        "sn.heatmap(confusion_matrix(testY, predictedY))\n",
        "plt.figure()"
      ],
      "execution_count": 199,
      "outputs": [
        {
          "output_type": "stream",
          "text": [
            "Tuning Decision Tree Classifier took 0.001089334487915039 seconds\n",
            "\n",
            "Testing Classification Report:\n",
            "\n",
            "               precision    recall  f1-score   support\n",
            "\n",
            "           0       0.71      0.68      0.70        59\n",
            "           1       0.71      0.75      0.73        63\n",
            "\n",
            "    accuracy                           0.71       122\n",
            "   macro avg       0.71      0.71      0.71       122\n",
            "weighted avg       0.71      0.71      0.71       122\n",
            "\n",
            "\n",
            "Testing Confusion Matrix:\n",
            "\n"
          ],
          "name": "stdout"
        },
        {
          "output_type": "execute_result",
          "data": {
            "text/plain": [
              "<Figure size 432x288 with 0 Axes>"
            ]
          },
          "metadata": {
            "tags": []
          },
          "execution_count": 199
        },
        {
          "output_type": "display_data",
          "data": {
            "image/png": "[encoded data removed]",
            "text/plain": [
              "<Figure size 432x288 with 2 Axes>"
            ]
          },
          "metadata": {
            "tags": [],
            "needs_background": "light"
          }
        },
        {
          "output_type": "display_data",
          "data": {
            "text/plain": [
              "<Figure size 432x288 with 0 Axes>"
            ]
          },
          "metadata": {
            "tags": []
          }
        }
      ]
    },
    {
      "cell_type": "markdown",
      "metadata": {
        "id": "Sz0xi9ectbEY"
      },
      "source": [
        "The accuracy of the filtered dataset is more accurate than the original dataset. \n",
        "\n",
        "However, if we do dimensionality reduction on this new dataset, we can compare the accuracy of the new compressed data with the inital compressed data.\n",
        "\n",
        "First, we run the the original PCA dataset to find if PCA can improve the accuracy."
      ]
    },
    {
      "cell_type": "code",
      "metadata": {
        "colab": {
          "base_uri": "https://localhost:8080/",
          "height": 581
        },
        "id": "GO9Fgd75zTsc",
        "outputId": "f53a0fed-bfe4-4b50-f078-35eaf04a4697"
      },
      "source": [
        "# split the data into train and test sets\n",
        "trainX, testX, trainY, testY = train_test_split(X_pca, Y, test_size = 0.4, random_state = 0)\n",
        "\n",
        "start = time.time()\n",
        "\n",
        "# build and tune the classifier\n",
        "model_dt = DecisionTreeClassifier(random_state = 0)\n",
        "\n",
        "# fit the classifier to the training data\n",
        "model_dt.fit(trainX, trainY)\n",
        "\n",
        "end = time.time()\n",
        "print('Tuning Decision Tree Classifier took', end - start, 'seconds')\n",
        "\n",
        "# predict the labels of the test set\n",
        "predictedY = model_dt.predict(testX)\n",
        "\n",
        "# print quality metrics\n",
        "print('\\nTesting Classification Report:\\n\\n', classification_report(testY, predictedY))\n",
        "print('\\nTesting Confusion Matrix:\\n')\n",
        "\n",
        "sn.heatmap(confusion_matrix(testY, predictedY))\n",
        "plt.figure()"
      ],
      "execution_count": 200,
      "outputs": [
        {
          "output_type": "stream",
          "text": [
            "Tuning Decision Tree Classifier took 0.0021398067474365234 seconds\n",
            "\n",
            "Testing Classification Report:\n",
            "\n",
            "               precision    recall  f1-score   support\n",
            "\n",
            "           0       0.58      0.59      0.59        59\n",
            "           1       0.61      0.60      0.61        63\n",
            "\n",
            "    accuracy                           0.60       122\n",
            "   macro avg       0.60      0.60      0.60       122\n",
            "weighted avg       0.60      0.60      0.60       122\n",
            "\n",
            "\n",
            "Testing Confusion Matrix:\n",
            "\n"
          ],
          "name": "stdout"
        },
        {
          "output_type": "execute_result",
          "data": {
            "text/plain": [
              "<Figure size 432x288 with 0 Axes>"
            ]
          },
          "metadata": {
            "tags": []
          },
          "execution_count": 200
        },
        {
          "output_type": "display_data",
          "data": {
            "image/png": "[encoded data removed]",
            "text/plain": [
              "<Figure size 432x288 with 2 Axes>"
            ]
          },
          "metadata": {
            "tags": [],
            "needs_background": "light"
          }
        },
        {
          "output_type": "display_data",
          "data": {
            "text/plain": [
              "<Figure size 432x288 with 0 Axes>"
            ]
          },
          "metadata": {
            "tags": []
          }
        }
      ]
    },
    {
      "cell_type": "markdown",
      "metadata": {
        "id": "bBBjUAyrtMya"
      },
      "source": [
        "We can see that the accuracy of the model using the PCA compressed dataset is much less than the model using the original dataste.\n",
        "\n",
        "Now we will perform PCA on the dataset with the best features, determined beforehand."
      ]
    },
    {
      "cell_type": "code",
      "metadata": {
        "colab": {
          "base_uri": "https://localhost:8080/",
          "height": 612
        },
        "id": "eyfDdrZRtM6Q",
        "outputId": "c45489ce-c843-4b91-eef6-fddd4111bfb0"
      },
      "source": [
        "newX_pca = PCA(newX_o.astype('float64'), 0.95)\n",
        "\n",
        "# split the data into train and test sets\n",
        "trainX, testX, trainY, testY = train_test_split(newX_pca, Y, test_size = 0.4, random_state = 0)\n",
        "\n",
        "start = time.time()\n",
        "\n",
        "# build and tune the classifier\n",
        "model_dt = DecisionTreeClassifier(random_state = 0)\n",
        "\n",
        "# fit the classifier to the training data\n",
        "model_dt.fit(trainX, trainY)\n",
        "\n",
        "end = time.time()\n",
        "print('Tuning Decision Tree Classifier took', end - start, 'seconds')\n",
        "\n",
        "# predict the labels of the test set\n",
        "predictedY = model_dt.predict(testX)\n",
        "\n",
        "# print quality metrics\n",
        "print('\\nTesting Classification Report:\\n\\n', classification_report(testY, predictedY))\n",
        "print('\\nTesting Confusion Matrix:\\n')\n",
        "\n",
        "sn.heatmap(confusion_matrix(testY, predictedY))\n",
        "plt.figure()"
      ],
      "execution_count": 202,
      "outputs": [
        {
          "output_type": "stream",
          "text": [
            "The original dimension of the data is 5\n",
            "The new dimension of the data is 1 and it explains 0.957306248967992 of the variance\n",
            "Tuning Decision Tree Classifier took 0.005752086639404297 seconds\n",
            "\n",
            "Testing Classification Report:\n",
            "\n",
            "               precision    recall  f1-score   support\n",
            "\n",
            "           0       0.64      0.61      0.63        59\n",
            "           1       0.65      0.68      0.67        63\n",
            "\n",
            "    accuracy                           0.65       122\n",
            "   macro avg       0.65      0.65      0.65       122\n",
            "weighted avg       0.65      0.65      0.65       122\n",
            "\n",
            "\n",
            "Testing Confusion Matrix:\n",
            "\n"
          ],
          "name": "stdout"
        },
        {
          "output_type": "execute_result",
          "data": {
            "text/plain": [
              "<Figure size 432x288 with 0 Axes>"
            ]
          },
          "metadata": {
            "tags": []
          },
          "execution_count": 202
        },
        {
          "output_type": "display_data",
          "data": {
            "image/png": "[encoded data removed]",
            "text/plain": [
              "<Figure size 432x288 with 2 Axes>"
            ]
          },
          "metadata": {
            "tags": [],
            "needs_background": "light"
          }
        },
        {
          "output_type": "display_data",
          "data": {
            "text/plain": [
              "<Figure size 432x288 with 0 Axes>"
            ]
          },
          "metadata": {
            "tags": []
          }
        }
      ]
    },
    {
      "cell_type": "markdown",
      "metadata": {
        "id": "u6bflZuWzTzg"
      },
      "source": [
        "We can see that using PCA on the filtered dataset yields a model that has a better accuracy than the model using the PCA compressed unfiltered data.\n",
        "\n",
        "We will repeat this for the tSNE compressed data."
      ]
    },
    {
      "cell_type": "code",
      "metadata": {
        "colab": {
          "base_uri": "https://localhost:8080/",
          "height": 577
        },
        "id": "bxzfzpwkzUBa",
        "outputId": "33d18743-cabc-4c53-e526-5847c5dc1dd1"
      },
      "source": [
        "# split the data into train and test sets\n",
        "trainX, testX, trainY, testY = train_test_split(X_tsne, Y, test_size = 0.4, random_state = 0)\n",
        "\n",
        "start = time.time()\n",
        "\n",
        "# build and tune the classifier\n",
        "model_dt = DecisionTreeClassifier(random_state = 0)\n",
        "\n",
        "# fit the classifier to the training data\n",
        "model_dt.fit(trainX, trainY)\n",
        "\n",
        "end = time.time()\n",
        "print('Tuning Decision Tree Classifier took', end - start, 'seconds')\n",
        "\n",
        "# predict the labels of the test set\n",
        "predictedY = model_dt.predict(testX)\n",
        "\n",
        "# print quality metrics\n",
        "print('\\nTesting Classification Report:\\n\\n', classification_report(testY, predictedY))\n",
        "print('\\nTesting Confusion Matrix:\\n')\n",
        "\n",
        "sn.heatmap(confusion_matrix(testY, predictedY))\n",
        "plt.figure()"
      ],
      "execution_count": 203,
      "outputs": [
        {
          "output_type": "stream",
          "text": [
            "Tuning Decision Tree Classifier took 0.0018897056579589844 seconds\n",
            "\n",
            "Testing Classification Report:\n",
            "\n",
            "               precision    recall  f1-score   support\n",
            "\n",
            "           0       0.60      0.51      0.55        59\n",
            "           1       0.60      0.68      0.64        63\n",
            "\n",
            "    accuracy                           0.60       122\n",
            "   macro avg       0.60      0.60      0.59       122\n",
            "weighted avg       0.60      0.60      0.60       122\n",
            "\n",
            "\n",
            "Testing Confusion Matrix:\n",
            "\n"
          ],
          "name": "stdout"
        },
        {
          "output_type": "execute_result",
          "data": {
            "text/plain": [
              "<Figure size 432x288 with 0 Axes>"
            ]
          },
          "metadata": {
            "tags": []
          },
          "execution_count": 203
        },
        {
          "output_type": "display_data",
          "data": {
            "image/png": "[encoded data removed]",
            "text/plain": [
              "<Figure size 432x288 with 2 Axes>"
            ]
          },
          "metadata": {
            "tags": [],
            "needs_background": "light"
          }
        },
        {
          "output_type": "display_data",
          "data": {
            "text/plain": [
              "<Figure size 432x288 with 0 Axes>"
            ]
          },
          "metadata": {
            "tags": []
          }
        }
      ]
    },
    {
      "cell_type": "markdown",
      "metadata": {
        "id": "SxFdUGp9wzo7"
      },
      "source": [
        "We can see that using tSNE provides a model that has the same accuracy as the model that used PCA.\n",
        "\n",
        "Now we will perform tSNE on the dataset with the best features, determined beforehand."
      ]
    },
    {
      "cell_type": "code",
      "metadata": {
        "colab": {
          "base_uri": "https://localhost:8080/",
          "height": 577
        },
        "id": "MQzxXZGxwz7i",
        "outputId": "3965f72e-04d7-44b9-ce7c-3ebeb6266f9f"
      },
      "source": [
        "newX_tsne = TSNE(n_components = 3).fit_transform(newX_o.astype('float64'))\n",
        "\n",
        "# split the data into train and test sets\n",
        "trainX, testX, trainY, testY = train_test_split(newX_tsne, Y, test_size = 0.4, random_state = 0)\n",
        "\n",
        "start = time.time()\n",
        "\n",
        "# build and tune the classifier\n",
        "model_dt = DecisionTreeClassifier(random_state = 0)\n",
        "\n",
        "# fit the classifier to the training data\n",
        "model_dt.fit(trainX, trainY)\n",
        "\n",
        "end = time.time()\n",
        "print('Tuning Decision Tree Classifier took', end - start, 'seconds')\n",
        "\n",
        "# predict the labels of the test set\n",
        "predictedY = model_dt.predict(testX)\n",
        "\n",
        "# print quality metrics\n",
        "print('\\nTesting Classification Report:\\n\\n', classification_report(testY, predictedY))\n",
        "print('\\nTesting Confusion Matrix:\\n')\n",
        "\n",
        "sn.heatmap(confusion_matrix(testY, predictedY))\n",
        "plt.figure()"
      ],
      "execution_count": 204,
      "outputs": [
        {
          "output_type": "stream",
          "text": [
            "Tuning Decision Tree Classifier took 0.001402139663696289 seconds\n",
            "\n",
            "Testing Classification Report:\n",
            "\n",
            "               precision    recall  f1-score   support\n",
            "\n",
            "           0       0.52      0.39      0.45        59\n",
            "           1       0.54      0.67      0.60        63\n",
            "\n",
            "    accuracy                           0.53       122\n",
            "   macro avg       0.53      0.53      0.52       122\n",
            "weighted avg       0.53      0.53      0.52       122\n",
            "\n",
            "\n",
            "Testing Confusion Matrix:\n",
            "\n"
          ],
          "name": "stdout"
        },
        {
          "output_type": "execute_result",
          "data": {
            "text/plain": [
              "<Figure size 432x288 with 0 Axes>"
            ]
          },
          "metadata": {
            "tags": []
          },
          "execution_count": 204
        },
        {
          "output_type": "display_data",
          "data": {
            "image/png": "[encoded data removed]",
            "text/plain": [
              "<Figure size 432x288 with 2 Axes>"
            ]
          },
          "metadata": {
            "tags": [],
            "needs_background": "light"
          }
        },
        {
          "output_type": "display_data",
          "data": {
            "text/plain": [
              "<Figure size 432x288 with 0 Axes>"
            ]
          },
          "metadata": {
            "tags": []
          }
        }
      ]
    },
    {
      "cell_type": "markdown",
      "metadata": {
        "id": "jNo7h7IJzUJb"
      },
      "source": [
        "We can see that using tSNE on the filtered dataset does not yield a model that is better than the model that uses tSNE on the unfiltered dataset.\n",
        "\n",
        "Now, we will hyperparameter tune the models of each of the compression methods (and the original dataset). For each of the models, we will use grid search to find the optimal hyperparameters.\n",
        "\n",
        "First, we will tune the model of the filtered, uncompressed dataset."
      ]
    },
    {
      "cell_type": "code",
      "metadata": {
        "id": "uAJBXp7CkYp0",
        "colab": {
          "base_uri": "https://localhost:8080/",
          "height": 681
        },
        "outputId": "1f1c1970-d423-4d02-aa52-5a547e05fff6"
      },
      "source": [
        "# split the data into train and test sets\n",
        "trainX, testX, trainY, testY = train_test_split(newX_o, Y, test_size = 0.4, random_state = 0)\n",
        "\n",
        "start = time.time()\n",
        "\n",
        "# build and tune the classifier\n",
        "parameters = {'max_depth': [1, 5, 10, 100, None], 'max_features': [2, 3, 4]}\n",
        "model_dt = GridSearchCV(DecisionTreeClassifier(random_state = 0), param_grid = parameters, cv = 5, n_jobs = -1)\n",
        "\n",
        "# fit the classifier to the training data\n",
        "model_dt.fit(trainX, trainY)\n",
        "\n",
        "end = time.time()\n",
        "print('Tuning Decision Tree Classifier took', end - start, 'seconds')\n",
        "\n",
        "# find best hyperparameters\n",
        "print(model_dt.best_estimator_)\n",
        "\n",
        "# predict the labels of the test set\n",
        "predictedY = model_dt.predict(testX)\n",
        "\n",
        "# print quality metrics\n",
        "print('\\nTesting Classification Report:\\n\\n', classification_report(testY, predictedY))\n",
        "print('\\nTesting Confusion Matrix:\\n')\n",
        "\n",
        "sn.heatmap(confusion_matrix(testY, predictedY))\n",
        "plt.figure()"
      ],
      "execution_count": 206,
      "outputs": [
        {
          "output_type": "stream",
          "text": [
            "Tuning Decision Tree Classifier took 0.15596723556518555 seconds\n",
            "DecisionTreeClassifier(ccp_alpha=0.0, class_weight=None, criterion='gini',\n",
            "                       max_depth=5, max_features=4, max_leaf_nodes=None,\n",
            "                       min_impurity_decrease=0.0, min_impurity_split=None,\n",
            "                       min_samples_leaf=1, min_samples_split=2,\n",
            "                       min_weight_fraction_leaf=0.0, presort='deprecated',\n",
            "                       random_state=0, splitter='best')\n",
            "\n",
            "Testing Classification Report:\n",
            "\n",
            "               precision    recall  f1-score   support\n",
            "\n",
            "           0       0.80      0.83      0.82        59\n",
            "           1       0.84      0.81      0.82        63\n",
            "\n",
            "    accuracy                           0.82       122\n",
            "   macro avg       0.82      0.82      0.82       122\n",
            "weighted avg       0.82      0.82      0.82       122\n",
            "\n",
            "\n",
            "Testing Confusion Matrix:\n",
            "\n"
          ],
          "name": "stdout"
        },
        {
          "output_type": "execute_result",
          "data": {
            "text/plain": [
              "<Figure size 432x288 with 0 Axes>"
            ]
          },
          "metadata": {
            "tags": []
          },
          "execution_count": 206
        },
        {
          "output_type": "display_data",
          "data": {
            "image/png": "[encoded data removed]",
            "text/plain": [
              "<Figure size 432x288 with 2 Axes>"
            ]
          },
          "metadata": {
            "tags": [],
            "needs_background": "light"
          }
        },
        {
          "output_type": "display_data",
          "data": {
            "text/plain": [
              "<Figure size 432x288 with 0 Axes>"
            ]
          },
          "metadata": {
            "tags": []
          }
        }
      ]
    },
    {
      "cell_type": "markdown",
      "metadata": {
        "id": "deX8jp-fTave"
      },
      "source": [
        "We can see that hyperparameter tuning the model with the filtered uncompressed dataset greatly improves the accuracy.\n",
        "\n",
        "We will then tune the model using the PCA compressed filtered dataset (since it performed better than the PCA compressed unfiltered dataset)."
      ]
    },
    {
      "cell_type": "code",
      "metadata": {
        "colab": {
          "base_uri": "https://localhost:8080/",
          "height": 681
        },
        "id": "gEuzkEE1yBga",
        "outputId": "04b40027-d379-4090-9ea5-bd77c10d8c91"
      },
      "source": [
        "# split the data into train and test sets\n",
        "trainX, testX, trainY, testY = train_test_split(newX_pca, Y, test_size = 0.4, random_state = 0)\n",
        "\n",
        "start = time.time()\n",
        "\n",
        "# build and tune the classifier\n",
        "parameters = {'max_depth': [1, 5, 10, 100, None], 'max_features': [0.4, 0.6, 0.8]}\n",
        "model_dt = GridSearchCV(DecisionTreeClassifier(random_state = 0), param_grid = parameters, cv = 5, n_jobs = -1)\n",
        "\n",
        "# fit the classifier to the training data\n",
        "model_dt.fit(trainX, trainY)\n",
        "\n",
        "end = time.time()\n",
        "print('Tuning Decision Tree Classifier took', end - start, 'seconds')\n",
        "\n",
        "# find best hyperparameters\n",
        "print(model_dt.best_estimator_)\n",
        "\n",
        "# predict the labels of the test set\n",
        "predictedY = model_dt.predict(testX)\n",
        "\n",
        "# print quality metrics\n",
        "print('\\nTesting Classification Report:\\n\\n', classification_report(testY, predictedY))\n",
        "print('\\nTesting Confusion Matrix:\\n')\n",
        "\n",
        "sn.heatmap(confusion_matrix(testY, predictedY))\n",
        "plt.figure()"
      ],
      "execution_count": 211,
      "outputs": [
        {
          "output_type": "stream",
          "text": [
            "Tuning Decision Tree Classifier took 0.15588998794555664 seconds\n",
            "DecisionTreeClassifier(ccp_alpha=0.0, class_weight=None, criterion='gini',\n",
            "                       max_depth=100, max_features=0.4, max_leaf_nodes=None,\n",
            "                       min_impurity_decrease=0.0, min_impurity_split=None,\n",
            "                       min_samples_leaf=1, min_samples_split=2,\n",
            "                       min_weight_fraction_leaf=0.0, presort='deprecated',\n",
            "                       random_state=0, splitter='best')\n",
            "\n",
            "Testing Classification Report:\n",
            "\n",
            "               precision    recall  f1-score   support\n",
            "\n",
            "           0       0.64      0.61      0.63        59\n",
            "           1       0.65      0.68      0.67        63\n",
            "\n",
            "    accuracy                           0.65       122\n",
            "   macro avg       0.65      0.65      0.65       122\n",
            "weighted avg       0.65      0.65      0.65       122\n",
            "\n",
            "\n",
            "Testing Confusion Matrix:\n",
            "\n"
          ],
          "name": "stdout"
        },
        {
          "output_type": "execute_result",
          "data": {
            "text/plain": [
              "<Figure size 432x288 with 0 Axes>"
            ]
          },
          "metadata": {
            "tags": []
          },
          "execution_count": 211
        },
        {
          "output_type": "display_data",
          "data": {
            "image/png": "[encoded data removed]",
            "text/plain": [
              "<Figure size 432x288 with 2 Axes>"
            ]
          },
          "metadata": {
            "tags": [],
            "needs_background": "light"
          }
        },
        {
          "output_type": "display_data",
          "data": {
            "text/plain": [
              "<Figure size 432x288 with 0 Axes>"
            ]
          },
          "metadata": {
            "tags": []
          }
        }
      ]
    },
    {
      "cell_type": "markdown",
      "metadata": {
        "id": "YQmuuF3ez5-k"
      },
      "source": [
        "We can see that tuning the model using the PCA compressed filtered dataset does not change the accuracy.\n",
        "\n",
        "We will repeat the hyperparameter tuning for the model using the tSNE compressed filtered dataset."
      ]
    },
    {
      "cell_type": "code",
      "metadata": {
        "colab": {
          "base_uri": "https://localhost:8080/",
          "height": 681
        },
        "id": "c4c4UcrryN1_",
        "outputId": "8d969277-3e04-4910-e0b7-e78b87dc245f"
      },
      "source": [
        "# split the data into train and test sets\n",
        "trainX, testX, trainY, testY = train_test_split(newX_tsne, Y, test_size = 0.4, random_state = 0)\n",
        "\n",
        "start = time.time()\n",
        "\n",
        "# build and tune the classifier\n",
        "parameters = {'max_depth': [1, 5, 10, 100, None], 'max_features': [2, 3, 4]}\n",
        "model_dt = GridSearchCV(DecisionTreeClassifier(random_state = 0), param_grid = parameters, cv = 5, n_jobs = -1)\n",
        "\n",
        "# fit the classifier to the training data\n",
        "model_dt.fit(trainX, trainY)\n",
        "\n",
        "end = time.time()\n",
        "print('Tuning Decision Tree Classifier took', end - start, 'seconds')\n",
        "\n",
        "# find best hyperparameters\n",
        "print(model_dt.best_estimator_)\n",
        "\n",
        "# predict the labels of the test set\n",
        "predictedY = model_dt.predict(testX)\n",
        "\n",
        "# print quality metrics\n",
        "print('\\nTesting Classification Report:\\n\\n', classification_report(testY, predictedY))\n",
        "print('\\nTesting Confusion Matrix:\\n')\n",
        "\n",
        "sn.heatmap(confusion_matrix(testY, predictedY))\n",
        "plt.figure()"
      ],
      "execution_count": 212,
      "outputs": [
        {
          "output_type": "stream",
          "text": [
            "Tuning Decision Tree Classifier took 0.16893315315246582 seconds\n",
            "DecisionTreeClassifier(ccp_alpha=0.0, class_weight=None, criterion='gini',\n",
            "                       max_depth=1, max_features=2, max_leaf_nodes=None,\n",
            "                       min_impurity_decrease=0.0, min_impurity_split=None,\n",
            "                       min_samples_leaf=1, min_samples_split=2,\n",
            "                       min_weight_fraction_leaf=0.0, presort='deprecated',\n",
            "                       random_state=0, splitter='best')\n",
            "\n",
            "Testing Classification Report:\n",
            "\n",
            "               precision    recall  f1-score   support\n",
            "\n",
            "           0       0.42      0.19      0.26        59\n",
            "           1       0.50      0.76      0.60        63\n",
            "\n",
            "    accuracy                           0.48       122\n",
            "   macro avg       0.46      0.47      0.43       122\n",
            "weighted avg       0.46      0.48      0.44       122\n",
            "\n",
            "\n",
            "Testing Confusion Matrix:\n",
            "\n"
          ],
          "name": "stdout"
        },
        {
          "output_type": "execute_result",
          "data": {
            "text/plain": [
              "<Figure size 432x288 with 0 Axes>"
            ]
          },
          "metadata": {
            "tags": []
          },
          "execution_count": 212
        },
        {
          "output_type": "display_data",
          "data": {
            "image/png": "[encoded data removed]",
            "text/plain": [
              "<Figure size 432x288 with 2 Axes>"
            ]
          },
          "metadata": {
            "tags": [],
            "needs_background": "light"
          }
        },
        {
          "output_type": "display_data",
          "data": {
            "text/plain": [
              "<Figure size 432x288 with 0 Axes>"
            ]
          },
          "metadata": {
            "tags": []
          }
        }
      ]
    },
    {
      "cell_type": "markdown",
      "metadata": {
        "id": "dD0pYTGHUUuk"
      },
      "source": [
        "We can see that tuning the model with the tSNE compressed filtered dataset greatly decreases the accuracy.\n",
        "\n",
        "We can see that the most accurate decision tree classifier occurs when the uncompressed filtered dataset is used."
      ]
    },
    {
      "cell_type": "markdown",
      "metadata": {
        "id": "fCCjEd6FCDJk"
      },
      "source": [
        "### Random Forest Classifier\n",
        "\n",
        "Random Forests are ensemble learning methods that construct several decision trees at training time and outputting the class that is the mode of the classes (for classification) or mean prediction (for regression) of the individual trees. This type of method is a bagging method, which are methods that increases stability and accuracy while also reducing overfitting.\n",
        "\n",
        "We will first run the model initally, so that feature importance can be found afterwards."
      ]
    },
    {
      "cell_type": "code",
      "metadata": {
        "colab": {
          "base_uri": "https://localhost:8080/",
          "height": 577
        },
        "id": "TgEM0PR3z-Py",
        "outputId": "eba29d79-8ba9-4e6e-d055-84e9c1fdd872"
      },
      "source": [
        "# split the data into train and test sets\n",
        "trainX, testX, trainY, testY = train_test_split(X, Y, test_size = 0.4, random_state = 0)\n",
        "\n",
        "start = time.time()\n",
        "\n",
        "# build and tune the classifier\n",
        "model_rf = RandomForestClassifier(random_state = 0)\n",
        "\n",
        "# fit the classifier to the training data\n",
        "model_rf.fit(trainX, trainY)\n",
        "\n",
        "end = time.time()\n",
        "print('Tuning Random Forest took', end - start, 'seconds')\n",
        "\n",
        "# predict the labels of the test set\n",
        "predictedY = model_rf.predict(testX)\n",
        "\n",
        "# print quality metrics\n",
        "print('\\nTesting Classification Report:\\n\\n', classification_report(testY, predictedY))\n",
        "print('\\nTesting Confusion Matrix:\\n')\n",
        "\n",
        "sn.heatmap(confusion_matrix(testY, predictedY))\n",
        "plt.figure()"
      ],
      "execution_count": 175,
      "outputs": [
        {
          "output_type": "stream",
          "text": [
            "Tuning Random Forest took 0.14913392066955566 seconds\n",
            "\n",
            "Testing Classification Report:\n",
            "\n",
            "               precision    recall  f1-score   support\n",
            "\n",
            "           0       0.86      0.81      0.83        59\n",
            "           1       0.83      0.87      0.85        63\n",
            "\n",
            "    accuracy                           0.84       122\n",
            "   macro avg       0.85      0.84      0.84       122\n",
            "weighted avg       0.84      0.84      0.84       122\n",
            "\n",
            "\n",
            "Testing Confusion Matrix:\n",
            "\n"
          ],
          "name": "stdout"
        },
        {
          "output_type": "execute_result",
          "data": {
            "text/plain": [
              "<Figure size 432x288 with 0 Axes>"
            ]
          },
          "metadata": {
            "tags": []
          },
          "execution_count": 175
        },
        {
          "output_type": "display_data",
          "data": {
            "image/png": "[encoded data removed]",
            "text/plain": [
              "<Figure size 432x288 with 2 Axes>"
            ]
          },
          "metadata": {
            "tags": [],
            "needs_background": "light"
          }
        },
        {
          "output_type": "display_data",
          "data": {
            "text/plain": [
              "<Figure size 432x288 with 0 Axes>"
            ]
          },
          "metadata": {
            "tags": []
          }
        }
      ]
    },
    {
      "cell_type": "markdown",
      "metadata": {
        "id": "tpdK8nA4Vldn"
      },
      "source": [
        "We can see that the untuned random forest model is more accurate than most of the other models that have been already run.\n",
        "\n",
        "We will now find the feature importance of the model to see if filtering the data so that only the most important features are included increases the accuracy of the model."
      ]
    },
    {
      "cell_type": "code",
      "metadata": {
        "colab": {
          "base_uri": "https://localhost:8080/",
          "height": 377
        },
        "id": "2a9rSUgbylMe",
        "outputId": "9b9a4fef-73a5-451c-ad67-4103c3166a46"
      },
      "source": [
        "# get importance\n",
        "featureImportance = model_rf.feature_importances_\n",
        "sorted_idx = featureImportance.argsort()\n",
        "\n",
        "# plot feature importance\n",
        "plt.figure(figsize=(12,6))\n",
        "plt.bar([x for x in range(len(sorted_idx))], featureImportance[sorted_idx], tick_label = names[sorted_idx])\n",
        "plt.show()"
      ],
      "execution_count": 179,
      "outputs": [
        {
          "output_type": "display_data",
          "data": {
            "image/png": "[encoded data removed]",
            "text/plain": [
              "<Figure size 864x432 with 1 Axes>"
            ]
          },
          "metadata": {
            "tags": [],
            "needs_background": "light"
          }
        }
      ]
    },
    {
      "cell_type": "markdown",
      "metadata": {
        "id": "sk83rIOXWDQ2"
      },
      "source": [
        "We can see that the feature importance graph has a similar order to the feature importance graph of the decision tree classifier.\n",
        "\n",
        "Now, we will add the terms into the model one at a time."
      ]
    },
    {
      "cell_type": "code",
      "metadata": {
        "colab": {
          "base_uri": "https://localhost:8080/"
        },
        "id": "u_5dy_CNzIyf",
        "outputId": "61348e00-ab37-4fae-95e1-7875e5f8e32f"
      },
      "source": [
        "bestAccuracy = [0, 0]\n",
        "\n",
        "# intializing the first term\n",
        "tempNames = []\n",
        "tempNames.append(names[sorted_idx[12]])\n",
        "\n",
        "start = time.time()\n",
        "\n",
        "for i,j in enumerate(featureImportance):\n",
        "\n",
        "  # adding the other features based on their importance\n",
        "  tempNames.append(FI_list_2[0,12-i])\n",
        "\n",
        "  # create new X term\n",
        "  tempX = DATA[tempNames].to_numpy()\n",
        "\n",
        "  # split the data into train and test sets\n",
        "  trainX, testX, trainY, testY = train_test_split(tempX, Y, test_size = 0.4, random_state = 0)\n",
        "\n",
        "  # build and tune the classifier\n",
        "  model_rf = RandomForestClassifier(random_state = 0)\n",
        "\n",
        "  # fit the classifier to the training data\n",
        "  model_rf.fit(trainX, trainY)  \n",
        "\n",
        "  # predict the labels of the test set\n",
        "  predictedY = model_rf.predict(testX)\n",
        "\n",
        "  # find the mean cross-validation accuracy\n",
        "  mean_cv_scores = np.mean(cross_val_score(model_rf, trainX, trainY, cv = 5))\n",
        "    \n",
        "  # save the hyperparameter reg_param if better than found before\n",
        "  if mean_cv_scores > bestAccuracy[0]:\n",
        "      bestAccuracy = [mean_cv_scores, i+1]\n",
        "\n",
        "end = time.time()\n",
        "print('Feature testing took', end - start, 'seconds')\n",
        "\n",
        "print('\\nThe best dev accuracy', bestAccuracy[0], 'occured with', bestAccuracy[1], 'features')"
      ],
      "execution_count": 181,
      "outputs": [
        {
          "output_type": "stream",
          "text": [
            "Feature testing took 11.670794486999512 seconds\n",
            "\n",
            "The best dev accuracy 0.850900900900901 occured with 12 features\n"
          ],
          "name": "stdout"
        }
      ]
    },
    {
      "cell_type": "markdown",
      "metadata": {
        "id": "fr4YNrn8W6QH"
      },
      "source": [
        "We will run the model using the new set of features. However, since we can see that all 13 features are being used again, we should produce a similar accuracy to the inital model."
      ]
    },
    {
      "cell_type": "code",
      "metadata": {
        "colab": {
          "base_uri": "https://localhost:8080/",
          "height": 577
        },
        "id": "yq6nPU-h1byy",
        "outputId": "4b522ee0-6eb9-4ca1-d348-4e2c34aacbce"
      },
      "source": [
        "# create new list of feature names\n",
        "newNames = []\n",
        "\n",
        "# add features into new name list\n",
        "for i in range(bestAccuracy[1]):\n",
        "  newNames.append(names[sorted_idx[12-i]])\n",
        "\n",
        "# create new X term\n",
        "newX_o = DATA[newNames].to_numpy()\n",
        "\n",
        "# split the data into train and test sets\n",
        "trainX, testX, trainY, testY = train_test_split(newX_o, Y, test_size = 0.4, random_state = 0)\n",
        "\n",
        "start = time.time()\n",
        "\n",
        "# build and tune the classifier\n",
        "model_rf = RandomForestClassifier(random_state = 0)\n",
        "\n",
        "# fit the classifier to the training data\n",
        "model_rf.fit(trainX, trainY)\n",
        "\n",
        "end = time.time()\n",
        "print('Tuning Random Forest took', end - start, 'seconds')\n",
        "\n",
        "# predict the labels of the test set\n",
        "predictedY = model_rf.predict(testX)\n",
        "\n",
        "# print quality metrics\n",
        "print('\\nTesting Classification Report:\\n\\n', classification_report(testY, predictedY))\n",
        "print('\\nTesting Confusion Matrix:\\n')\n",
        "\n",
        "sn.heatmap(confusion_matrix(testY, predictedY))\n",
        "plt.figure()"
      ],
      "execution_count": 182,
      "outputs": [
        {
          "output_type": "stream",
          "text": [
            "Tuning Random Forest took 0.14951658248901367 seconds\n",
            "\n",
            "Testing Classification Report:\n",
            "\n",
            "               precision    recall  f1-score   support\n",
            "\n",
            "           0       0.83      0.76      0.80        59\n",
            "           1       0.79      0.86      0.82        63\n",
            "\n",
            "    accuracy                           0.81       122\n",
            "   macro avg       0.81      0.81      0.81       122\n",
            "weighted avg       0.81      0.81      0.81       122\n",
            "\n",
            "\n",
            "Testing Confusion Matrix:\n",
            "\n"
          ],
          "name": "stdout"
        },
        {
          "output_type": "execute_result",
          "data": {
            "text/plain": [
              "<Figure size 432x288 with 0 Axes>"
            ]
          },
          "metadata": {
            "tags": []
          },
          "execution_count": 182
        },
        {
          "output_type": "display_data",
          "data": {
            "image/png": "[encoded data removed]",
            "text/plain": [
              "<Figure size 432x288 with 2 Axes>"
            ]
          },
          "metadata": {
            "tags": [],
            "needs_background": "light"
          }
        },
        {
          "output_type": "display_data",
          "data": {
            "text/plain": [
              "<Figure size 432x288 with 0 Axes>"
            ]
          },
          "metadata": {
            "tags": []
          }
        }
      ]
    },
    {
      "cell_type": "markdown",
      "metadata": {
        "id": "tIUiwic1z-aX"
      },
      "source": [
        "We can see that the accuracy of the above model is somewhat close to the intial model.\n",
        "\n",
        "We now will check to see if dimensionality reduction on the unfiltered dataset will improve accuracy. We first run the model using the PCA compressed unfiltered dataset."
      ]
    },
    {
      "cell_type": "code",
      "metadata": {
        "colab": {
          "base_uri": "https://localhost:8080/",
          "height": 577
        },
        "id": "Fe9m-5FBz-qp",
        "outputId": "1d21b733-d83e-4174-f41a-b71e03ae48e7"
      },
      "source": [
        "# split the data into train and test sets\n",
        "trainX, testX, trainY, testY = train_test_split(X_pca, Y, test_size = 0.4, random_state = 0)\n",
        "\n",
        "start = time.time()\n",
        "\n",
        "# build and tune the classifier\n",
        "model_rf = RandomForestClassifier(random_state = 0)\n",
        "\n",
        "# fit the classifier to the training data\n",
        "model_rf.fit(trainX, trainY)\n",
        "\n",
        "end = time.time()\n",
        "print('Tuning Random Forest took', end - start, 'seconds')\n",
        "\n",
        "# predict the labels of the test set\n",
        "predictedY = model_rf.predict(testX)\n",
        "\n",
        "# print quality metrics\n",
        "print('\\nTesting Classification Report:\\n\\n', classification_report(testY, predictedY))\n",
        "print('\\nTesting Confusion Matrix:\\n')\n",
        "\n",
        "sn.heatmap(confusion_matrix(testY, predictedY))\n",
        "plt.figure()"
      ],
      "execution_count": 183,
      "outputs": [
        {
          "output_type": "stream",
          "text": [
            "Tuning Random Forest took 0.1665027141571045 seconds\n",
            "\n",
            "Testing Classification Report:\n",
            "\n",
            "               precision    recall  f1-score   support\n",
            "\n",
            "           0       0.63      0.56      0.59        59\n",
            "           1       0.63      0.70      0.66        63\n",
            "\n",
            "    accuracy                           0.63       122\n",
            "   macro avg       0.63      0.63      0.63       122\n",
            "weighted avg       0.63      0.63      0.63       122\n",
            "\n",
            "\n",
            "Testing Confusion Matrix:\n",
            "\n"
          ],
          "name": "stdout"
        },
        {
          "output_type": "execute_result",
          "data": {
            "text/plain": [
              "<Figure size 432x288 with 0 Axes>"
            ]
          },
          "metadata": {
            "tags": []
          },
          "execution_count": 183
        },
        {
          "output_type": "display_data",
          "data": {
            "image/png": "[encoded data removed]",
            "text/plain": [
              "<Figure size 432x288 with 2 Axes>"
            ]
          },
          "metadata": {
            "tags": [],
            "needs_background": "light"
          }
        },
        {
          "output_type": "display_data",
          "data": {
            "text/plain": [
              "<Figure size 432x288 with 0 Axes>"
            ]
          },
          "metadata": {
            "tags": []
          }
        }
      ]
    },
    {
      "cell_type": "markdown",
      "metadata": {
        "id": "QZ9jh_LHYbB_"
      },
      "source": [
        "We can see that PCA does not improve accuracy in comparison to the original dataset. \n",
        "\n",
        "We will now check the model using the PCA compressed filtered dataset."
      ]
    },
    {
      "cell_type": "code",
      "metadata": {
        "colab": {
          "base_uri": "https://localhost:8080/",
          "height": 612
        },
        "id": "O5NqUgSg2C7B",
        "outputId": "724b6109-733b-4c6d-8412-d7950bea4b0d"
      },
      "source": [
        "newX_pca = PCA(newX_o.astype('float64'), 0.95)\n",
        "\n",
        "# split the data into train and test sets\n",
        "trainX, testX, trainY, testY = train_test_split(newX_pca, Y, test_size = 0.4, random_state = 0)\n",
        "\n",
        "start = time.time()\n",
        "\n",
        "# build and tune the classifier\n",
        "model_rf = RandomForestClassifier(random_state = 0)\n",
        "\n",
        "# fit the classifier to the training data\n",
        "model_rf.fit(trainX, trainY)\n",
        "\n",
        "end = time.time()\n",
        "print('Tuning Random Forest took', end - start, 'seconds')\n",
        "\n",
        "# predict the labels of the test set\n",
        "predictedY = model_rf.predict(testX)\n",
        "\n",
        "# print quality metrics\n",
        "print('\\nTesting Classification Report:\\n\\n', classification_report(testY, predictedY))\n",
        "print('\\nTesting Confusion Matrix:\\n')\n",
        "\n",
        "sn.heatmap(confusion_matrix(testY, predictedY))\n",
        "plt.figure()"
      ],
      "execution_count": 184,
      "outputs": [
        {
          "output_type": "stream",
          "text": [
            "The original dimension of the data is 12\n",
            "The new dimension of the data is 3 and it explains 0.9825646583876877 of the variance\n",
            "Tuning Random Forest took 0.20481586456298828 seconds\n",
            "\n",
            "Testing Classification Report:\n",
            "\n",
            "               precision    recall  f1-score   support\n",
            "\n",
            "           0       0.66      0.53      0.58        59\n",
            "           1       0.63      0.75      0.68        63\n",
            "\n",
            "    accuracy                           0.64       122\n",
            "   macro avg       0.64      0.64      0.63       122\n",
            "weighted avg       0.64      0.64      0.63       122\n",
            "\n",
            "\n",
            "Testing Confusion Matrix:\n",
            "\n"
          ],
          "name": "stdout"
        },
        {
          "output_type": "execute_result",
          "data": {
            "text/plain": [
              "<Figure size 432x288 with 0 Axes>"
            ]
          },
          "metadata": {
            "tags": []
          },
          "execution_count": 184
        },
        {
          "output_type": "display_data",
          "data": {
            "image/png": "[encoded data removed]",
            "text/plain": [
              "<Figure size 432x288 with 2 Axes>"
            ]
          },
          "metadata": {
            "tags": [],
            "needs_background": "light"
          }
        },
        {
          "output_type": "display_data",
          "data": {
            "text/plain": [
              "<Figure size 432x288 with 0 Axes>"
            ]
          },
          "metadata": {
            "tags": []
          }
        }
      ]
    },
    {
      "cell_type": "markdown",
      "metadata": {
        "id": "Yk2CtJadz-0m"
      },
      "source": [
        "We can see that the filtered version of the dataset performs about the same as the unfiltered version.\n",
        "\n",
        "We will repeat this process for the tSNE compressed datasets."
      ]
    },
    {
      "cell_type": "code",
      "metadata": {
        "colab": {
          "base_uri": "https://localhost:8080/",
          "height": 577
        },
        "id": "QwSaR-65z_Tu",
        "outputId": "c89b12dc-7320-4388-8288-bc87eaf910e1"
      },
      "source": [
        "# split the data into train and test sets\n",
        "trainX, testX, trainY, testY = train_test_split(X_tsne, Y, test_size = 0.4, random_state = 0)\n",
        "\n",
        "start = time.time()\n",
        "\n",
        "# build and tune the classifier\n",
        "model_rf = RandomForestClassifier(random_state = 0)\n",
        "\n",
        "# fit the classifier to the training data\n",
        "model_rf.fit(trainX, trainY)\n",
        "\n",
        "end = time.time()\n",
        "print('Tuning Random Forest took', end - start, 'seconds')\n",
        "\n",
        "# predict the labels of the test set\n",
        "predictedY = model_rf.predict(testX)\n",
        "\n",
        "# print quality metrics\n",
        "print('\\nTesting Classification Report:\\n\\n', classification_report(testY, predictedY))\n",
        "print('\\nTesting Confusion Matrix:\\n')\n",
        "\n",
        "sn.heatmap(confusion_matrix(testY, predictedY))\n",
        "plt.figure()"
      ],
      "execution_count": 185,
      "outputs": [
        {
          "output_type": "stream",
          "text": [
            "Tuning Random Forest took 0.14312124252319336 seconds\n",
            "\n",
            "Testing Classification Report:\n",
            "\n",
            "               precision    recall  f1-score   support\n",
            "\n",
            "           0       0.63      0.56      0.59        59\n",
            "           1       0.63      0.70      0.66        63\n",
            "\n",
            "    accuracy                           0.63       122\n",
            "   macro avg       0.63      0.63      0.63       122\n",
            "weighted avg       0.63      0.63      0.63       122\n",
            "\n",
            "\n",
            "Testing Confusion Matrix:\n",
            "\n"
          ],
          "name": "stdout"
        },
        {
          "output_type": "execute_result",
          "data": {
            "text/plain": [
              "<Figure size 432x288 with 0 Axes>"
            ]
          },
          "metadata": {
            "tags": []
          },
          "execution_count": 185
        },
        {
          "output_type": "display_data",
          "data": {
            "image/png": "[encoded data removed]",
            "text/plain": [
              "<Figure size 432x288 with 2 Axes>"
            ]
          },
          "metadata": {
            "tags": [],
            "needs_background": "light"
          }
        },
        {
          "output_type": "display_data",
          "data": {
            "text/plain": [
              "<Figure size 432x288 with 0 Axes>"
            ]
          },
          "metadata": {
            "tags": []
          }
        }
      ]
    },
    {
      "cell_type": "markdown",
      "metadata": {
        "id": "E4CCvJlLY95V"
      },
      "source": [
        "We can see that using tSNE causes the model to predicit the same as when PCA is used.\n",
        "\n",
        "However, we cannot compare this to a tSNE compressed filtered dataset. This is because tSNE produces a singleton array that cannot be used with the function 'train_test_split.'\n",
        "\n",
        "Now, we will hyperparameter tune the models of each of the compression methods (and the original dataset). For each of the models, we will use grid search to find the optimal hyperparameters.\n",
        "\n",
        "First, we will tune the model of the unfiltered, uncompressed dataset. "
      ]
    },
    {
      "cell_type": "code",
      "metadata": {
        "id": "sAE14sxOCGdC",
        "colab": {
          "base_uri": "https://localhost:8080/",
          "height": 716
        },
        "outputId": "3d96be83-e088-4d58-d5b2-b583437121a6"
      },
      "source": [
        "# split the data into train and test sets\n",
        "trainX, testX, trainY, testY = train_test_split(X, Y, test_size = 0.4, random_state = 0)\n",
        "\n",
        "start = time.time()\n",
        "\n",
        "# build and tune the classifier\n",
        "parameters = {'max_depth': [1, 5, 10, 100, None], 'max_features': [2, 3, 4], 'n_estimators': [100, 125, 150, 200]}\n",
        "model_rf = GridSearchCV(RandomForestClassifier(random_state = 0), param_grid = parameters, cv = 5, n_jobs = -1)\n",
        "\n",
        "# fit the classifier to the training data\n",
        "model_rf.fit(trainX, trainY)\n",
        "\n",
        "end = time.time()\n",
        "print('Tuning Random Forest took', end - start, 'seconds')\n",
        "\n",
        "# find best hyperparameters\n",
        "print(model_rf.best_estimator_)\n",
        "\n",
        "# predict the labels of the test set\n",
        "predictedY = model_rf.predict(testX)\n",
        "\n",
        "# print quality metrics\n",
        "print('\\nTesting Classification Report:\\n\\n', classification_report(testY, predictedY))\n",
        "print('\\nTesting Confusion Matrix:\\n')\n",
        "\n",
        "sn.heatmap(confusion_matrix(testY, predictedY))\n",
        "plt.figure()"
      ],
      "execution_count": 214,
      "outputs": [
        {
          "output_type": "stream",
          "text": [
            "Tuning Random Forest took 54.70141959190369 seconds\n",
            "RandomForestClassifier(bootstrap=True, ccp_alpha=0.0, class_weight=None,\n",
            "                       criterion='gini', max_depth=5, max_features=4,\n",
            "                       max_leaf_nodes=None, max_samples=None,\n",
            "                       min_impurity_decrease=0.0, min_impurity_split=None,\n",
            "                       min_samples_leaf=1, min_samples_split=2,\n",
            "                       min_weight_fraction_leaf=0.0, n_estimators=150,\n",
            "                       n_jobs=None, oob_score=False, random_state=0, verbose=0,\n",
            "                       warm_start=False)\n",
            "\n",
            "Testing Classification Report:\n",
            "\n",
            "               precision    recall  f1-score   support\n",
            "\n",
            "           0       0.86      0.75      0.80        59\n",
            "           1       0.79      0.89      0.84        63\n",
            "\n",
            "    accuracy                           0.82       122\n",
            "   macro avg       0.83      0.82      0.82       122\n",
            "weighted avg       0.82      0.82      0.82       122\n",
            "\n",
            "\n",
            "Testing Confusion Matrix:\n",
            "\n"
          ],
          "name": "stdout"
        },
        {
          "output_type": "execute_result",
          "data": {
            "text/plain": [
              "<Figure size 432x288 with 0 Axes>"
            ]
          },
          "metadata": {
            "tags": []
          },
          "execution_count": 214
        },
        {
          "output_type": "display_data",
          "data": {
            "image/png": "[encoded data removed]",
            "text/plain": [
              "<Figure size 432x288 with 2 Axes>"
            ]
          },
          "metadata": {
            "tags": [],
            "needs_background": "light"
          }
        },
        {
          "output_type": "display_data",
          "data": {
            "text/plain": [
              "<Figure size 432x288 with 0 Axes>"
            ]
          },
          "metadata": {
            "tags": []
          }
        }
      ]
    },
    {
      "cell_type": "markdown",
      "metadata": {
        "id": "klEYnDXWatdH"
      },
      "source": [
        "We can see the hyperparameter tuned model using the filtered uncompressed dataset performs similarly to the models using the other uncompressed datasets.\n",
        "\n",
        "We will now tune the PCA compressed, filtered dataset. We used the filtered version of the dataset because while the overall accuracy is the same, there are small improvement otherwise."
      ]
    },
    {
      "cell_type": "code",
      "metadata": {
        "colab": {
          "base_uri": "https://localhost:8080/",
          "height": 716
        },
        "id": "4IE-8lYf6Mp9",
        "outputId": "ebae030f-bdac-483c-f3e1-2510443504ad"
      },
      "source": [
        "# split the data into train and test sets\n",
        "trainX, testX, trainY, testY = train_test_split(newX_pca, Y, test_size = 0.4, random_state = 0)\n",
        "\n",
        "start = time.time()\n",
        "\n",
        "# build and tune the classifier\n",
        "parameters = {'max_depth': [1, 5, 10, 100, None], 'max_features': [2, 3, 4], 'n_estimators': [50, 100, 150, 200]}\n",
        "model_rf = GridSearchCV(RandomForestClassifier(random_state = 0), param_grid = parameters, cv = 5, n_jobs = -1)\n",
        "\n",
        "# fit the classifier to the training data\n",
        "model_rf.fit(trainX, trainY)\n",
        "\n",
        "end = time.time()\n",
        "print('Tuning Random Forest took', end - start, 'seconds')\n",
        "\n",
        "# find best hyperparameters\n",
        "print(model_rf.best_estimator_)\n",
        "\n",
        "# predict the labels of the test set\n",
        "predictedY = model_rf.predict(testX)\n",
        "\n",
        "# print quality metrics\n",
        "print('\\nTesting Classification Report:\\n\\n', classification_report(testY, predictedY))\n",
        "print('\\nTesting Confusion Matrix:\\n')\n",
        "\n",
        "sn.heatmap(confusion_matrix(testY, predictedY))\n",
        "plt.figure()"
      ],
      "execution_count": 187,
      "outputs": [
        {
          "output_type": "stream",
          "text": [
            "Tuning Random Forest took 37.24359726905823 seconds\n",
            "RandomForestClassifier(bootstrap=True, ccp_alpha=0.0, class_weight=None,\n",
            "                       criterion='gini', max_depth=1, max_features=2,\n",
            "                       max_leaf_nodes=None, max_samples=None,\n",
            "                       min_impurity_decrease=0.0, min_impurity_split=None,\n",
            "                       min_samples_leaf=1, min_samples_split=2,\n",
            "                       min_weight_fraction_leaf=0.0, n_estimators=50,\n",
            "                       n_jobs=None, oob_score=False, random_state=0, verbose=0,\n",
            "                       warm_start=False)\n",
            "\n",
            "Testing Classification Report:\n",
            "\n",
            "               precision    recall  f1-score   support\n",
            "\n",
            "           0       0.67      0.58      0.62        59\n",
            "           1       0.65      0.73      0.69        63\n",
            "\n",
            "    accuracy                           0.66       122\n",
            "   macro avg       0.66      0.65      0.65       122\n",
            "weighted avg       0.66      0.66      0.65       122\n",
            "\n",
            "\n",
            "Testing Confusion Matrix:\n",
            "\n"
          ],
          "name": "stdout"
        },
        {
          "output_type": "execute_result",
          "data": {
            "text/plain": [
              "<Figure size 432x288 with 0 Axes>"
            ]
          },
          "metadata": {
            "tags": []
          },
          "execution_count": 187
        },
        {
          "output_type": "display_data",
          "data": {
            "image/png": "[encoded data removed]",
            "text/plain": [
              "<Figure size 432x288 with 2 Axes>"
            ]
          },
          "metadata": {
            "tags": [],
            "needs_background": "light"
          }
        },
        {
          "output_type": "display_data",
          "data": {
            "text/plain": [
              "<Figure size 432x288 with 0 Axes>"
            ]
          },
          "metadata": {
            "tags": []
          }
        }
      ]
    },
    {
      "cell_type": "markdown",
      "metadata": {
        "id": "i8hgIYcM0SR0"
      },
      "source": [
        "We can see that the tuned PCA compressed model performs better than the untuned version of the model. \n",
        "\n",
        "We now tune the tSNE compressed model."
      ]
    },
    {
      "cell_type": "code",
      "metadata": {
        "colab": {
          "base_uri": "https://localhost:8080/",
          "height": 716
        },
        "id": "FbwiM_9I0Sbc",
        "outputId": "a07834f5-db41-41e1-e335-953f81cc1bd8"
      },
      "source": [
        "# split the data into train and test sets\n",
        "trainX, testX, trainY, testY = train_test_split(X_tsne, Y, test_size = 0.4, random_state = 0)\n",
        "\n",
        "start = time.time()\n",
        "\n",
        "# build and tune the classifier\n",
        "parameters = {'max_depth': [1, 5, 10, 100, None], 'max_features': [2, 3, 4], 'n_estimators': [50, 100, 150, 200]}\n",
        "model_rf = GridSearchCV(RandomForestClassifier(random_state = 0), param_grid = parameters, cv = 5, n_jobs = -1)\n",
        "\n",
        "# fit the classifier to the training data\n",
        "model_rf.fit(trainX, trainY)\n",
        "\n",
        "end = time.time()\n",
        "print('Tuning Random Forest took', end - start, 'seconds')\n",
        "\n",
        "# find best hyperparameters\n",
        "print(model_rf.best_estimator_)\n",
        "\n",
        "# predict the labels of the test set\n",
        "predictedY = model_rf.predict(testX)\n",
        "\n",
        "# print quality metrics\n",
        "print('\\nTesting Classification Report:\\n\\n', classification_report(testY, predictedY))\n",
        "print('\\nTesting Confusion Matrix:\\n')\n",
        "\n",
        "sn.heatmap(confusion_matrix(testY, predictedY))\n",
        "plt.figure()"
      ],
      "execution_count": 188,
      "outputs": [
        {
          "output_type": "stream",
          "text": [
            "Tuning Random Forest took 37.267369747161865 seconds\n",
            "RandomForestClassifier(bootstrap=True, ccp_alpha=0.0, class_weight=None,\n",
            "                       criterion='gini', max_depth=5, max_features=3,\n",
            "                       max_leaf_nodes=None, max_samples=None,\n",
            "                       min_impurity_decrease=0.0, min_impurity_split=None,\n",
            "                       min_samples_leaf=1, min_samples_split=2,\n",
            "                       min_weight_fraction_leaf=0.0, n_estimators=50,\n",
            "                       n_jobs=None, oob_score=False, random_state=0, verbose=0,\n",
            "                       warm_start=False)\n",
            "\n",
            "Testing Classification Report:\n",
            "\n",
            "               precision    recall  f1-score   support\n",
            "\n",
            "           0       0.59      0.59      0.59        59\n",
            "           1       0.62      0.62      0.62        63\n",
            "\n",
            "    accuracy                           0.61       122\n",
            "   macro avg       0.61      0.61      0.61       122\n",
            "weighted avg       0.61      0.61      0.61       122\n",
            "\n",
            "\n",
            "Testing Confusion Matrix:\n",
            "\n"
          ],
          "name": "stdout"
        },
        {
          "output_type": "execute_result",
          "data": {
            "text/plain": [
              "<Figure size 432x288 with 0 Axes>"
            ]
          },
          "metadata": {
            "tags": []
          },
          "execution_count": 188
        },
        {
          "output_type": "display_data",
          "data": {
            "image/png": "[encoded data removed]",
            "text/plain": [
              "<Figure size 432x288 with 2 Axes>"
            ]
          },
          "metadata": {
            "tags": [],
            "needs_background": "light"
          }
        },
        {
          "output_type": "display_data",
          "data": {
            "text/plain": [
              "<Figure size 432x288 with 0 Axes>"
            ]
          },
          "metadata": {
            "tags": []
          }
        }
      ]
    },
    {
      "cell_type": "markdown",
      "metadata": {
        "id": "AQhJn9Cca03r"
      },
      "source": [
        "We can see that the tSNE compressed model performs worse than the untuned tSNE compressed model.\n",
        "\n",
        "For the random forest model, the datasets that yield the best accuracy are the uncompressed datasets."
      ]
    },
    {
      "cell_type": "markdown",
      "metadata": {
        "id": "zzXsuendCGkw"
      },
      "source": [
        "### XGBoost Classifier\n",
        "\n",
        "XGBoost is a decision-tree-based ensemble method that uses a gradient boosting framework. XGBoost is one of the most popular boosting methods used today. Boosting is an ensemble method that creates a strong classifier from a number of weak classifiers by building a model from the training data, then creating a second model that attempts to correct the errors from the first model, and repeating that process until a strong classifier is made.\n",
        "\n",
        "We will first run the model initally, so that feature importance can be found afterwards."
      ]
    },
    {
      "cell_type": "code",
      "metadata": {
        "colab": {
          "base_uri": "https://localhost:8080/",
          "height": 560
        },
        "id": "7lYU-mak0Znm",
        "outputId": "886451de-d377-4489-85ea-aad92f3acdf3"
      },
      "source": [
        "# split the data into train and test sets\n",
        "trainX, testX, trainY, testY = train_test_split(X, Y, test_size = 0.4, random_state = 0)\n",
        "\n",
        "# set parameter values and grid search for optimal parameters\n",
        "model_xgb = XGBClassifier(n_jobs = -1, eval_metric='mlogloss', random_state = 0)\n",
        "\n",
        "# fit the classifier to the training data\n",
        "model_xgb.fit(trainX, trainY)\n",
        "\n",
        "# predict the labels of the test set\n",
        "predictedY = model_xgb.predict(testX)\n",
        "\n",
        "# print quality metrics\n",
        "print('\\nTesting Classification Report:\\n\\n', classification_report(testY, predictedY))\n",
        "print('\\nTesting Confusion Matrix:\\n')\n",
        "\n",
        "sn.heatmap(confusion_matrix(testY, predictedY))\n",
        "plt.figure()"
      ],
      "execution_count": 168,
      "outputs": [
        {
          "output_type": "stream",
          "text": [
            "\n",
            "Testing Classification Report:\n",
            "\n",
            "               precision    recall  f1-score   support\n",
            "\n",
            "           0       0.80      0.81      0.81        59\n",
            "           1       0.82      0.81      0.82        63\n",
            "\n",
            "    accuracy                           0.81       122\n",
            "   macro avg       0.81      0.81      0.81       122\n",
            "weighted avg       0.81      0.81      0.81       122\n",
            "\n",
            "\n",
            "Testing Confusion Matrix:\n",
            "\n"
          ],
          "name": "stdout"
        },
        {
          "output_type": "execute_result",
          "data": {
            "text/plain": [
              "<Figure size 432x288 with 0 Axes>"
            ]
          },
          "metadata": {
            "tags": []
          },
          "execution_count": 168
        },
        {
          "output_type": "display_data",
          "data": {
            "image/png": "[encoded data removed]",
            "text/plain": [
              "<Figure size 432x288 with 2 Axes>"
            ]
          },
          "metadata": {
            "tags": [],
            "needs_background": "light"
          }
        },
        {
          "output_type": "display_data",
          "data": {
            "text/plain": [
              "<Figure size 432x288 with 0 Axes>"
            ]
          },
          "metadata": {
            "tags": []
          }
        }
      ]
    },
    {
      "cell_type": "markdown",
      "metadata": {
        "id": "CI1uFGrZeKGi"
      },
      "source": [
        ""
      ]
    },
    {
      "cell_type": "code",
      "metadata": {
        "colab": {
          "base_uri": "https://localhost:8080/",
          "height": 374
        },
        "id": "fwIG_TCi65RA",
        "outputId": "b7c2391c-67b6-4a37-a971-6e2a109cede6"
      },
      "source": [
        "# get importance\n",
        "featureImportance = model_xgb.feature_importances_\n",
        "sorted_idx = featureImportance.argsort()\n",
        "\n",
        "# plot feature importance\n",
        "plt.figure(figsize=(12,6))\n",
        "plt.bar([x for x in range(len(sorted_idx))], featureImportance[sorted_idx], tick_label = names[sorted_idx])\n",
        "plt.show()"
      ],
      "execution_count": 169,
      "outputs": [
        {
          "output_type": "display_data",
          "data": {
            "image/png": "[encoded data removed]",
            "text/plain": [
              "<Figure size 864x432 with 1 Axes>"
            ]
          },
          "metadata": {
            "tags": [],
            "needs_background": "light"
          }
        }
      ]
    },
    {
      "cell_type": "markdown",
      "metadata": {
        "id": "HwXtvhrseKl8"
      },
      "source": [
        "We now check which combination of the features will produce the best accuracy."
      ]
    },
    {
      "cell_type": "code",
      "metadata": {
        "colab": {
          "base_uri": "https://localhost:8080/"
        },
        "id": "nyBAiYRQ7Mlc",
        "outputId": "f6b770db-c736-4ec7-fbbb-f7ae2424e3a0"
      },
      "source": [
        "bestAccuracy = [0, 0]\n",
        "\n",
        "# intializing the first term\n",
        "tempNames = []\n",
        "tempNames.append(names[sorted_idx[12]])\n",
        "\n",
        "start = time.time()\n",
        "\n",
        "for i,j in enumerate(featureImportance):\n",
        "\n",
        "  # adding the other features based on their importance\n",
        "  tempNames.append(names[sorted_idx[12-i]])\n",
        "\n",
        "  # create new X term\n",
        "  tempX = DATA[tempNames].to_numpy()\n",
        "\n",
        "  # split the data into train and test sets\n",
        "  trainX, testX, trainY, testY = train_test_split(tempX, Y, test_size = 0.4, random_state = 0)\n",
        "\n",
        "  # build and tune the classifier\n",
        "  model_xgb = XGBClassifier(n_jobs = -1, eval_metric='mlogloss', random_state = 0)\n",
        "\n",
        "  # fit the classifier to the training data\n",
        "  model_xgb.fit(trainX, trainY)  \n",
        "\n",
        "  # predict the labels of the test set\n",
        "  predictedY = model_xgb.predict(testX)\n",
        "\n",
        "  # find the mean cross-validation accuracy\n",
        "  mean_cv_scores = np.mean(cross_val_score(model_xgb, trainX, trainY, cv = 5))\n",
        "    \n",
        "  # save the hyperparameter reg_param if better than found before\n",
        "  if mean_cv_scores > bestAccuracy[0]:\n",
        "      bestAccuracy = [mean_cv_scores, i+1]\n",
        "\n",
        "end = time.time()\n",
        "print('Feature testing took', end - start, 'seconds')\n",
        "\n",
        "print('\\nThe best dev accuracy', bestAccuracy[0], 'occured with', bestAccuracy[1], 'features')"
      ],
      "execution_count": 170,
      "outputs": [
        {
          "output_type": "stream",
          "text": [
            "Feature testing took 1.5510895252227783 seconds\n",
            "\n",
            "The best dev accuracy 0.8617117117117118 occured with 5 features\n"
          ],
          "name": "stdout"
        }
      ]
    },
    {
      "cell_type": "markdown",
      "metadata": {
        "id": "okLoMeeceLWx"
      },
      "source": [
        "We now use those features in the model."
      ]
    },
    {
      "cell_type": "code",
      "metadata": {
        "colab": {
          "base_uri": "https://localhost:8080/",
          "height": 564
        },
        "id": "rfmcBST37jrK",
        "outputId": "0fb0ebe5-892d-4a68-d206-d6cb0c2a2366"
      },
      "source": [
        "# create new list of feature names\n",
        "newNames = []\n",
        "\n",
        "# add features into new name list\n",
        "for i in range(bestAccuracy[1]):\n",
        "  newNames.append(names[sorted_idx[12-i]])\n",
        "\n",
        "# create new X term\n",
        "newX_o = DATA[newNames].to_numpy()\n",
        "\n",
        "# split the data into train and test sets\n",
        "trainX, testX, trainY, testY = train_test_split(newX_o, Y, test_size = 0.4, random_state = 0)\n",
        "\n",
        "# set parameter values and grid search for optimal parameters\n",
        "model_xgb = XGBClassifier(n_jobs = -1, eval_metric='mlogloss', random_state = 0)\n",
        "\n",
        "# fit the classifier to the training data\n",
        "model_xgb.fit(trainX, trainY)\n",
        "\n",
        "# predict the labels of the test set\n",
        "predictedY = model_xgb.predict(testX)\n",
        "\n",
        "# print quality metrics\n",
        "print('\\nTesting Classification Report:\\n\\n', classification_report(testY, predictedY))\n",
        "print('\\nTesting Confusion Matrix:\\n')\n",
        "\n",
        "sn.heatmap(confusion_matrix(testY, predictedY))\n",
        "plt.figure()"
      ],
      "execution_count": 171,
      "outputs": [
        {
          "output_type": "stream",
          "text": [
            "\n",
            "Testing Classification Report:\n",
            "\n",
            "               precision    recall  f1-score   support\n",
            "\n",
            "           0       0.79      0.81      0.80        59\n",
            "           1       0.82      0.79      0.81        63\n",
            "\n",
            "    accuracy                           0.80       122\n",
            "   macro avg       0.80      0.80      0.80       122\n",
            "weighted avg       0.80      0.80      0.80       122\n",
            "\n",
            "\n",
            "Testing Confusion Matrix:\n",
            "\n"
          ],
          "name": "stdout"
        },
        {
          "output_type": "execute_result",
          "data": {
            "text/plain": [
              "<Figure size 432x288 with 0 Axes>"
            ]
          },
          "metadata": {
            "tags": []
          },
          "execution_count": 171
        },
        {
          "output_type": "display_data",
          "data": {
            "image/png": "[encoded data removed]",
            "text/plain": [
              "<Figure size 432x288 with 2 Axes>"
            ]
          },
          "metadata": {
            "tags": [],
            "needs_background": "light"
          }
        },
        {
          "output_type": "display_data",
          "data": {
            "text/plain": [
              "<Figure size 432x288 with 0 Axes>"
            ]
          },
          "metadata": {
            "tags": []
          }
        }
      ]
    },
    {
      "cell_type": "markdown",
      "metadata": {
        "id": "fCQQgsiH0Zvk"
      },
      "source": [
        "We can see that the accuracy of the model with the filtered dataset performs similarly to the model with the unfiltered dataset."
      ]
    },
    {
      "cell_type": "code",
      "metadata": {
        "colab": {
          "base_uri": "https://localhost:8080/",
          "height": 560
        },
        "id": "5a2VhDt60Z3J",
        "outputId": "47814d41-3928-42ef-9861-b4ff6e688815"
      },
      "source": [
        "# split the data into train and test sets\n",
        "trainX, testX, trainY, testY = train_test_split(X_pca, Y, test_size = 0.4, random_state = 0)\n",
        "\n",
        "# set parameter values and grid search for optimal parameters\n",
        "model_xgb = XGBClassifier(n_jobs = -1, eval_metric='mlogloss', random_state = 0)\n",
        "\n",
        "# fit the classifier to the training data\n",
        "model_xgb.fit(trainX, trainY)\n",
        "\n",
        "# predict the labels of the test set\n",
        "predictedY = model_xgb.predict(testX)\n",
        "\n",
        "# print quality metrics\n",
        "print('\\nTesting Classification Report:\\n\\n', classification_report(testY, predictedY))\n",
        "print('\\nTesting Confusion Matrix:\\n')\n",
        "\n",
        "sn.heatmap(confusion_matrix(testY, predictedY))\n",
        "plt.figure()"
      ],
      "execution_count": 172,
      "outputs": [
        {
          "output_type": "stream",
          "text": [
            "\n",
            "Testing Classification Report:\n",
            "\n",
            "               precision    recall  f1-score   support\n",
            "\n",
            "           0       0.64      0.58      0.61        59\n",
            "           1       0.64      0.70      0.67        63\n",
            "\n",
            "    accuracy                           0.64       122\n",
            "   macro avg       0.64      0.64      0.64       122\n",
            "weighted avg       0.64      0.64      0.64       122\n",
            "\n",
            "\n",
            "Testing Confusion Matrix:\n",
            "\n"
          ],
          "name": "stdout"
        },
        {
          "output_type": "execute_result",
          "data": {
            "text/plain": [
              "<Figure size 432x288 with 0 Axes>"
            ]
          },
          "metadata": {
            "tags": []
          },
          "execution_count": 172
        },
        {
          "output_type": "display_data",
          "data": {
            "image/png": "[encoded data removed]",
            "text/plain": [
              "<Figure size 432x288 with 2 Axes>"
            ]
          },
          "metadata": {
            "tags": [],
            "needs_background": "light"
          }
        },
        {
          "output_type": "display_data",
          "data": {
            "text/plain": [
              "<Figure size 432x288 with 0 Axes>"
            ]
          },
          "metadata": {
            "tags": []
          }
        }
      ]
    },
    {
      "cell_type": "markdown",
      "metadata": {
        "id": "MfBVzm_p0Z-1"
      },
      "source": [
        "We can see that the model with the PCA compressed unfiltered dataset performs worse than the uncompressed unfiltered dataset.\n",
        "\n",
        "Now we check the accuracy of the model using the PCA compressed filtered dataset."
      ]
    },
    {
      "cell_type": "code",
      "metadata": {
        "colab": {
          "base_uri": "https://localhost:8080/",
          "height": 595
        },
        "id": "xft5AkiEmgXd",
        "outputId": "6adcf9f4-20ab-42ef-cba5-b7be6facd63f"
      },
      "source": [
        "newX_pca = PCA(newX_o.astype('float64'), 0.95)\n",
        "\n",
        "# split the data into train and test sets\n",
        "trainX, testX, trainY, testY = train_test_split(newX_pca, Y, test_size = 0.4, random_state = 0)\n",
        "\n",
        "# set parameter values and grid search for optimal parameters\n",
        "model_xgb = XGBClassifier(n_jobs = -1, eval_metric='mlogloss', random_state = 0)\n",
        "\n",
        "# fit the classifier to the training data\n",
        "model_xgb.fit(trainX, trainY)\n",
        "\n",
        "# predict the labels of the test set\n",
        "predictedY = model_xgb.predict(testX)\n",
        "\n",
        "# print quality metrics\n",
        "print('\\nTesting Classification Report:\\n\\n', classification_report(testY, predictedY))\n",
        "print('\\nTesting Confusion Matrix:\\n')\n",
        "\n",
        "sn.heatmap(confusion_matrix(testY, predictedY))\n",
        "plt.figure()"
      ],
      "execution_count": 215,
      "outputs": [
        {
          "output_type": "stream",
          "text": [
            "The original dimension of the data is 5\n",
            "The new dimension of the data is 1 and it explains 0.957306248967992 of the variance\n",
            "\n",
            "Testing Classification Report:\n",
            "\n",
            "               precision    recall  f1-score   support\n",
            "\n",
            "           0       0.68      0.54      0.60        59\n",
            "           1       0.64      0.76      0.70        63\n",
            "\n",
            "    accuracy                           0.66       122\n",
            "   macro avg       0.66      0.65      0.65       122\n",
            "weighted avg       0.66      0.66      0.65       122\n",
            "\n",
            "\n",
            "Testing Confusion Matrix:\n",
            "\n"
          ],
          "name": "stdout"
        },
        {
          "output_type": "execute_result",
          "data": {
            "text/plain": [
              "<Figure size 432x288 with 0 Axes>"
            ]
          },
          "metadata": {
            "tags": []
          },
          "execution_count": 215
        },
        {
          "output_type": "display_data",
          "data": {
            "image/png": "[encoded data removed]",
            "text/plain": [
              "<Figure size 432x288 with 2 Axes>"
            ]
          },
          "metadata": {
            "tags": [],
            "needs_background": "light"
          }
        },
        {
          "output_type": "display_data",
          "data": {
            "text/plain": [
              "<Figure size 432x288 with 0 Axes>"
            ]
          },
          "metadata": {
            "tags": []
          }
        }
      ]
    },
    {
      "cell_type": "markdown",
      "metadata": {
        "id": "o7Kqw4WTmgfw"
      },
      "source": [
        "It can be seen that the model with the filtered PCA compressed dataset performs slightly better than the unfiltered verison.\n",
        "\n",
        "We repeat this process for the tSNE compressed data."
      ]
    },
    {
      "cell_type": "code",
      "metadata": {
        "colab": {
          "base_uri": "https://localhost:8080/",
          "height": 560
        },
        "id": "bt_GsOLu0aMg",
        "outputId": "6d732a02-6fb2-4169-9001-249ab4c6526a"
      },
      "source": [
        "# split the data into train and test sets\n",
        "trainX, testX, trainY, testY = train_test_split(X_tsne, Y, test_size = 0.4, random_state = 0)\n",
        "\n",
        "# set parameter values and grid search for optimal parameters\n",
        "model_xgb = XGBClassifier(n_jobs = -1, eval_metric='mlogloss', random_state = 0)\n",
        "\n",
        "# fit the classifier to the training data\n",
        "model_xgb.fit(trainX, trainY)\n",
        "\n",
        "# predict the labels of the test set\n",
        "predictedY = model_xgb.predict(testX)\n",
        "\n",
        "# print quality metrics\n",
        "print('\\nTesting Classification Report:\\n\\n', classification_report(testY, predictedY))\n",
        "print('\\nTesting Confusion Matrix:\\n')\n",
        "\n",
        "sn.heatmap(confusion_matrix(testY, predictedY))\n",
        "plt.figure()"
      ],
      "execution_count": 173,
      "outputs": [
        {
          "output_type": "stream",
          "text": [
            "\n",
            "Testing Classification Report:\n",
            "\n",
            "               precision    recall  f1-score   support\n",
            "\n",
            "           0       0.60      0.61      0.61        59\n",
            "           1       0.63      0.62      0.62        63\n",
            "\n",
            "    accuracy                           0.61       122\n",
            "   macro avg       0.61      0.61      0.61       122\n",
            "weighted avg       0.61      0.61      0.61       122\n",
            "\n",
            "\n",
            "Testing Confusion Matrix:\n",
            "\n"
          ],
          "name": "stdout"
        },
        {
          "output_type": "execute_result",
          "data": {
            "text/plain": [
              "<Figure size 432x288 with 0 Axes>"
            ]
          },
          "metadata": {
            "tags": []
          },
          "execution_count": 173
        },
        {
          "output_type": "display_data",
          "data": {
            "image/png": "[encoded data removed]",
            "text/plain": [
              "<Figure size 432x288 with 2 Axes>"
            ]
          },
          "metadata": {
            "tags": [],
            "needs_background": "light"
          }
        },
        {
          "output_type": "display_data",
          "data": {
            "text/plain": [
              "<Figure size 432x288 with 0 Axes>"
            ]
          },
          "metadata": {
            "tags": []
          }
        }
      ]
    },
    {
      "cell_type": "markdown",
      "metadata": {
        "id": "mjrV_niz0aW2"
      },
      "source": [
        "We can see that the model with the tSNE compressed unfiltered dataset performs worse than the model with the PCA compressed unfiltered dataset.\n",
        "\n",
        "Now we check the accuracy of the model using the tSNE compressed filtered dataset."
      ]
    },
    {
      "cell_type": "code",
      "metadata": {
        "colab": {
          "base_uri": "https://localhost:8080/",
          "height": 560
        },
        "id": "lafnY-esmzvs",
        "outputId": "433ebe57-cee0-47b6-8606-fcf2406f1df5"
      },
      "source": [
        "newX_tsne = TSNE(n_components = 3).fit_transform(newX_o)\n",
        "\n",
        "# split the data into train and test sets\n",
        "trainX, testX, trainY, testY = train_test_split(newX_tsne, Y, test_size = 0.4, random_state = 0)\n",
        "\n",
        "# set parameter values and grid search for optimal parameters\n",
        "model_xgb = XGBClassifier(n_jobs = -1, eval_metric='mlogloss', random_state = 0)\n",
        "\n",
        "# fit the classifier to the training data\n",
        "model_xgb.fit(trainX, trainY)\n",
        "\n",
        "# predict the labels of the test set\n",
        "predictedY = model_xgb.predict(testX)\n",
        "\n",
        "# print quality metrics\n",
        "print('\\nTesting Classification Report:\\n\\n', classification_report(testY, predictedY))\n",
        "print('\\nTesting Confusion Matrix:\\n')\n",
        "\n",
        "sn.heatmap(confusion_matrix(testY, predictedY))\n",
        "plt.figure()"
      ],
      "execution_count": 216,
      "outputs": [
        {
          "output_type": "stream",
          "text": [
            "\n",
            "Testing Classification Report:\n",
            "\n",
            "               precision    recall  f1-score   support\n",
            "\n",
            "           0       0.66      0.56      0.61        59\n",
            "           1       0.64      0.73      0.68        63\n",
            "\n",
            "    accuracy                           0.65       122\n",
            "   macro avg       0.65      0.64      0.64       122\n",
            "weighted avg       0.65      0.65      0.64       122\n",
            "\n",
            "\n",
            "Testing Confusion Matrix:\n",
            "\n"
          ],
          "name": "stdout"
        },
        {
          "output_type": "execute_result",
          "data": {
            "text/plain": [
              "<Figure size 432x288 with 0 Axes>"
            ]
          },
          "metadata": {
            "tags": []
          },
          "execution_count": 216
        },
        {
          "output_type": "display_data",
          "data": {
            "image/png": "[encoded data removed]",
            "text/plain": [
              "<Figure size 432x288 with 2 Axes>"
            ]
          },
          "metadata": {
            "tags": [],
            "needs_background": "light"
          }
        },
        {
          "output_type": "display_data",
          "data": {
            "text/plain": [
              "<Figure size 432x288 with 0 Axes>"
            ]
          },
          "metadata": {
            "tags": []
          }
        }
      ]
    },
    {
      "cell_type": "markdown",
      "metadata": {
        "id": "4F6Tt4Ywmz1y"
      },
      "source": [
        "It can be seen that the model with the filtered PCA compressed dataset performs slightly better than the unfiltered verison.\n",
        "\n",
        "Now, we will hyperparameter tune the models of each of the compression methods (and the original dataset). For each of the models, we will use grid search to find the optimal hyperparameters.\n",
        "\n",
        "First, we will tune the model of the unfiltered, uncompressed dataset. "
      ]
    },
    {
      "cell_type": "code",
      "metadata": {
        "id": "PT45h4WwKZ9A",
        "colab": {
          "base_uri": "https://localhost:8080/",
          "height": 681
        },
        "outputId": "7674fa75-b8b2-475c-b1c2-650bce567ab2"
      },
      "source": [
        "# split the data into train and test sets\n",
        "trainX, testX, trainY, testY = train_test_split(X, Y, test_size = 0.4, random_state = 0)\n",
        "\n",
        "# set parameter values and grid search for optimal parameters\n",
        "parameters = {'max_depth': [1, 5, 10, 100, None], 'learning_rate': [0.1, 0.5, 1, 2, 10], \n",
        "              'reg_alpha': [0.001, 0.01, 0.1, 1, 10], 'reg_lambda': [0.001, 0.01, 0.1, 1, 10]}\n",
        "model_xgb = GridSearchCV(XGBClassifier(n_jobs = -1, eval_metric='mlogloss', random_state = 0), parameters, cv = 5, n_jobs = -1)\n",
        "\n",
        "# fit the classifier to the training data\n",
        "model_xgb.fit(trainX, trainY)\n",
        "\n",
        "# find best hyperparameters\n",
        "print(model_xgb.best_estimator_)\n",
        "\n",
        "# predict the labels of the test set\n",
        "predictedY = model_xgb.predict(testX)\n",
        "\n",
        "# print quality metrics\n",
        "print('\\nTesting Classification Report:\\n\\n', classification_report(testY, predictedY))\n",
        "print('\\nTesting Confusion Matrix:\\n')\n",
        "\n",
        "sn.heatmap(confusion_matrix(testY, predictedY))\n",
        "plt.figure()"
      ],
      "execution_count": null,
      "outputs": [
        {
          "output_type": "stream",
          "text": [
            "XGBClassifier(base_score=0.5, booster='gbtree', colsample_bylevel=1,\n",
            "              colsample_bynode=1, colsample_bytree=1, eval_metric='mlogloss',\n",
            "              gamma=0, learning_rate=0.1, max_delta_step=0, max_depth=1,\n",
            "              min_child_weight=1, missing=None, n_estimators=100, n_jobs=-1,\n",
            "              nthread=None, objective='binary:logistic', random_state=0,\n",
            "              reg_alpha=0, reg_lambda=0.001, scale_pos_weight=1, seed=None,\n",
            "              silent=None, subsample=1, verbosity=1)\n",
            "\n",
            "Testing Classification Report:\n",
            "\n",
            "               precision    recall  f1-score   support\n",
            "\n",
            "           0       0.81      0.81      0.81        59\n",
            "           1       0.83      0.83      0.83        63\n",
            "\n",
            "    accuracy                           0.82       122\n",
            "   macro avg       0.82      0.82      0.82       122\n",
            "weighted avg       0.82      0.82      0.82       122\n",
            "\n",
            "\n",
            "Testing Confusion Matrix:\n",
            "\n"
          ],
          "name": "stdout"
        },
        {
          "output_type": "execute_result",
          "data": {
            "text/plain": [
              "<Figure size 432x288 with 0 Axes>"
            ]
          },
          "metadata": {
            "tags": []
          },
          "execution_count": 199
        },
        {
          "output_type": "display_data",
          "data": {
            "image/png": "[encoded data removed]",
            "text/plain": [
              "<Figure size 432x288 with 2 Axes>"
            ]
          },
          "metadata": {
            "tags": [],
            "needs_background": "light"
          }
        },
        {
          "output_type": "display_data",
          "data": {
            "text/plain": [
              "<Figure size 432x288 with 0 Axes>"
            ]
          },
          "metadata": {
            "tags": []
          }
        }
      ]
    },
    {
      "cell_type": "markdown",
      "metadata": {
        "id": "DC8QGIroJk7i"
      },
      "source": [
        "We can see that the tuned model performs similarly to the untuned version of the model.\n",
        "\n",
        "We now tune the model with the PCA compressed filtered dataset."
      ]
    },
    {
      "cell_type": "code",
      "metadata": {
        "id": "SOER9RCfJlFR",
        "colab": {
          "base_uri": "https://localhost:8080/",
          "height": 681
        },
        "outputId": "55758de9-c1f3-4c48-a913-0242a13a0436"
      },
      "source": [
        "# split the data into train and test sets\n",
        "trainX, testX, trainY, testY = train_test_split(newX_pca, Y, test_size = 0.4, random_state = 0)\n",
        "\n",
        "# set parameter values and grid search for optimal parameters\n",
        "parameters = {'max_depth': [1, 5, 10, 100, None], 'learning_rate': [0.1, 0.5, 1, 2, 10], \n",
        "              'reg_alpha': [0.001, 0.01, 0.1, 1, 10], 'reg_lambda': [0.001, 0.01, 0.1, 1, 10]}\n",
        "model_xgb = GridSearchCV(XGBClassifier(n_jobs = -1, eval_metric='mlogloss', random_state = 0), parameters, cv = 5, n_jobs = -1)\n",
        "\n",
        "# fit the classifier to the training data\n",
        "model_xgb.fit(trainX, trainY)\n",
        "\n",
        "# find best hyperparameters\n",
        "print(model_xgb.best_estimator_)\n",
        "\n",
        "# predict the labels of the test set\n",
        "predictedY = model_xgb.predict(testX)\n",
        "\n",
        "# print quality metrics\n",
        "print('\\nTesting Classification Report:\\n\\n', classification_report(testY, predictedY))\n",
        "print('\\nTesting Confusion Matrix:\\n')\n",
        "\n",
        "sn.heatmap(confusion_matrix(testY, predictedY))\n",
        "plt.figure()"
      ],
      "execution_count": 217,
      "outputs": [
        {
          "output_type": "stream",
          "text": [
            "XGBClassifier(base_score=0.5, booster='gbtree', colsample_bylevel=1,\n",
            "              colsample_bynode=1, colsample_bytree=1, eval_metric='mlogloss',\n",
            "              gamma=0, learning_rate=0.1, max_delta_step=0, max_depth=100,\n",
            "              min_child_weight=1, missing=None, n_estimators=100, n_jobs=-1,\n",
            "              nthread=None, objective='binary:logistic', random_state=0,\n",
            "              reg_alpha=0.001, reg_lambda=0.001, scale_pos_weight=1, seed=None,\n",
            "              silent=None, subsample=1, verbosity=1)\n",
            "\n",
            "Testing Classification Report:\n",
            "\n",
            "               precision    recall  f1-score   support\n",
            "\n",
            "           0       0.67      0.59      0.63        59\n",
            "           1       0.66      0.73      0.69        63\n",
            "\n",
            "    accuracy                           0.66       122\n",
            "   macro avg       0.67      0.66      0.66       122\n",
            "weighted avg       0.66      0.66      0.66       122\n",
            "\n",
            "\n",
            "Testing Confusion Matrix:\n",
            "\n"
          ],
          "name": "stdout"
        },
        {
          "output_type": "execute_result",
          "data": {
            "text/plain": [
              "<Figure size 432x288 with 0 Axes>"
            ]
          },
          "metadata": {
            "tags": []
          },
          "execution_count": 217
        },
        {
          "output_type": "display_data",
          "data": {
            "image/png": "[encoded data removed]",
            "text/plain": [
              "<Figure size 432x288 with 2 Axes>"
            ]
          },
          "metadata": {
            "tags": [],
            "needs_background": "light"
          }
        },
        {
          "output_type": "display_data",
          "data": {
            "text/plain": [
              "<Figure size 432x288 with 0 Axes>"
            ]
          },
          "metadata": {
            "tags": []
          }
        }
      ]
    },
    {
      "cell_type": "markdown",
      "metadata": {
        "id": "XgfjZuGK0btb"
      },
      "source": [
        "We can see that the tuned version of the model performs better than the untuned version of the model.\n",
        "\n",
        "Now we repeat this for the model using the tSNE compressed filtered dataset."
      ]
    },
    {
      "cell_type": "code",
      "metadata": {
        "colab": {
          "base_uri": "https://localhost:8080/",
          "height": 685
        },
        "id": "bAsZoiPv0b1U",
        "outputId": "0e6e5393-f704-4151-f15a-e99fd42bee6c"
      },
      "source": [
        "# split the data into train and test sets\n",
        "trainX, testX, trainY, testY = train_test_split(newX_tsne, Y, test_size = 0.4, random_state = 0)\n",
        "\n",
        "# set parameter values and grid search for optimal parameters\n",
        "parameters = {'max_depth': [1, 5, 10, 100, None], 'learning_rate': [0.1, 0.5, 1, 2, 10], \n",
        "              'reg_alpha': [0.001, 0.01, 0.1, 1, 10], 'reg_lambda': [0.001, 0.01, 0.1, 1, 10]}\n",
        "model_xgb = GridSearchCV(XGBClassifier(n_jobs = -1, eval_metric='mlogloss', random_state = 0), parameters, cv = 5, n_jobs = -1)\n",
        "\n",
        "# fit the classifier to the training data\n",
        "model_xgb.fit(trainX, trainY)\n",
        "\n",
        "# find best hyperparameters\n",
        "print(model_xgb.best_estimator_)\n",
        "\n",
        "# predict the labels of the test set\n",
        "predictedY = model_xgb.predict(testX)\n",
        "\n",
        "# print quality metrics\n",
        "print('\\nTesting Classification Report:\\n\\n', classification_report(testY, predictedY))\n",
        "print('\\nTesting Confusion Matrix:\\n')\n",
        "\n",
        "sn.heatmap(confusion_matrix(testY, predictedY))\n",
        "plt.figure()"
      ],
      "execution_count": 218,
      "outputs": [
        {
          "output_type": "stream",
          "text": [
            "XGBClassifier(base_score=0.5, booster='gbtree', colsample_bylevel=1,\n",
            "              colsample_bynode=1, colsample_bytree=1, eval_metric='mlogloss',\n",
            "              gamma=0, learning_rate=1, max_delta_step=0, max_depth=5,\n",
            "              min_child_weight=1, missing=None, n_estimators=100, n_jobs=-1,\n",
            "              nthread=None, objective='binary:logistic', random_state=0,\n",
            "              reg_alpha=0.01, reg_lambda=0.1, scale_pos_weight=1, seed=None,\n",
            "              silent=None, subsample=1, verbosity=1)\n",
            "\n",
            "Testing Classification Report:\n",
            "\n",
            "               precision    recall  f1-score   support\n",
            "\n",
            "           0       0.57      0.53      0.55        59\n",
            "           1       0.59      0.63      0.61        63\n",
            "\n",
            "    accuracy                           0.58       122\n",
            "   macro avg       0.58      0.58      0.58       122\n",
            "weighted avg       0.58      0.58      0.58       122\n",
            "\n",
            "\n",
            "Testing Confusion Matrix:\n",
            "\n"
          ],
          "name": "stdout"
        },
        {
          "output_type": "execute_result",
          "data": {
            "text/plain": [
              "<Figure size 432x288 with 0 Axes>"
            ]
          },
          "metadata": {
            "tags": []
          },
          "execution_count": 218
        },
        {
          "output_type": "display_data",
          "data": {
            "image/png": "[encoded data removed]",
            "text/plain": [
              "<Figure size 432x288 with 2 Axes>"
            ]
          },
          "metadata": {
            "tags": [],
            "needs_background": "light"
          }
        },
        {
          "output_type": "display_data",
          "data": {
            "text/plain": [
              "<Figure size 432x288 with 0 Axes>"
            ]
          },
          "metadata": {
            "tags": []
          }
        }
      ]
    },
    {
      "cell_type": "markdown",
      "metadata": {
        "id": "ooYhmkqJecm6"
      },
      "source": [
        "The tuned version of the model performs worse than the untuned version.\n",
        "\n",
        "We can see that the best model is the model that uses the uncompressed unfiltered dataset."
      ]
    },
    {
      "cell_type": "markdown",
      "metadata": {
        "id": "H_LmQCDRCJFZ"
      },
      "source": [
        "## Conclusions\n",
        "\n",
        "The best accuracies for each of the models are as follows.\n",
        "1. LR: 0.83, uncompressed unfiltered\n",
        "2. LDA: 0.79, uncompressed unfiltered\n",
        "3. QDA: 0.80, uncompressed unfiltered \n",
        "4. DT: 0.82, uncompressed filtered (5 features: thal, oldpeak, cp, ca, age)\n",
        "5. RF: 0.82, uncompressed unfiltered\n",
        "6. XBG: 0.82, uncompressed unfiltered\n",
        "\n",
        "Overall, we see that the model with the highest accuracy is the logistic regression model. However, we can see that the decision tree classifier, random forest classifier, and the XGBoost classifier are very close in accuracy to the logisitc regression model. Logisitc regression may be the best model because the data is not very large (303 data points) with only 13 features (excluding targets).\n",
        "\n",
        "Alongside that, we see that for this data, the uncompressed data performs better than any of the datasets where the dimensionality reduction methods were done. This is likely because the dimensionality of the data was not too high. If the original 76 feature dataset was obtainable, then dimensionality reduction methods may be more helpful.\n",
        "\n",
        "Between the dimensionality reduction methods, PCA performed better on average, while there were cases where tSNE was a bit more advantageous. The difference between the methods is that PCA is better at preserving linear structure, and tSNE is better at preserving local topology. For most models, preserving the linear structure yielded a better accuracy than preserving local topology.\n",
        "\n",
        "We can see that for most of the models, the feature selection did not improve the accuracy of the model. The only model where it did improve accuracy was for the decision tree classifier. This is likely because the dimensionality of the data was not too high in the first place. If the original 76 feature dataset was obtainable, then the feature selection may be advantageous.\n",
        "\n",
        "For logistic regression, LDA, and QDA, the features selected varied among all of the models. However, the decision tree, random forest, and XGBoost classifiers chose the same general set of features. These features were 'thal' (presence and type of defect), 'ca' (number of major vessels colored by flourosopy), 'cp' (chest pain type), 'oldpeak' (ST depression induced by exercise relative to rest). This difference may because permutation importance was used for logistic regression, LDA, and QDA, whereas the decision tree, random forest, and XGBoost classifiers had the CART algorithm for feature selection."
      ]
    }
  ]
}